{
  "metadata": {
    "kernelspec": {
      "language": "python",
      "display_name": "Python 3",
      "name": "python3"
    },
    "language_info": {
      "name": "python",
      "version": "3.7.12",
      "mimetype": "text/x-python",
      "codemirror_mode": {
        "name": "ipython",
        "version": 3
      },
      "pygments_lexer": "ipython3",
      "nbconvert_exporter": "python",
      "file_extension": ".py"
    },
    "colab": {
      "provenance": []
    }
  },
  "nbformat_minor": 0,
  "nbformat": 4,
  "cells": [
    {
      "cell_type": "code",
      "source": [
        "!pip install transformers\n",
        "!pip install sentencepiece"
      ],
      "metadata": {
        "_uuid": "8f2839f25d086af736a60e9eeb907d3b93b6e0e5",
        "_cell_guid": "b1076dfc-b9ad-4769-8c92-a6c4dae69d19",
        "execution": {
          "iopub.status.busy": "2023-03-11T04:59:27.065029Z",
          "iopub.execute_input": "2023-03-11T04:59:27.065646Z",
          "iopub.status.idle": "2023-03-11T05:00:00.337049Z",
          "shell.execute_reply.started": "2023-03-11T04:59:27.065587Z",
          "shell.execute_reply": "2023-03-11T05:00:00.335320Z"
        },
        "trusted": true,
        "id": "5rIJaflxB7M5",
        "outputId": "707b01be-60d4-4d13-b684-dc9f3d889872"
      },
      "execution_count": null,
      "outputs": [
        {
          "name": "stdout",
          "text": "Requirement already satisfied: transformers in /opt/conda/lib/python3.7/site-packages (4.26.1)\nRequirement already satisfied: tokenizers!=0.11.3,<0.14,>=0.11.1 in /opt/conda/lib/python3.7/site-packages (from transformers) (0.13.2)\nRequirement already satisfied: tqdm>=4.27 in /opt/conda/lib/python3.7/site-packages (from transformers) (4.64.1)\nRequirement already satisfied: filelock in /opt/conda/lib/python3.7/site-packages (from transformers) (3.9.0)\nRequirement already satisfied: requests in /opt/conda/lib/python3.7/site-packages (from transformers) (2.28.2)\nRequirement already satisfied: packaging>=20.0 in /opt/conda/lib/python3.7/site-packages (from transformers) (23.0)\nRequirement already satisfied: numpy>=1.17 in /opt/conda/lib/python3.7/site-packages (from transformers) (1.21.6)\nRequirement already satisfied: regex!=2019.12.17 in /opt/conda/lib/python3.7/site-packages (from transformers) (2021.11.10)\nRequirement already satisfied: pyyaml>=5.1 in /opt/conda/lib/python3.7/site-packages (from transformers) (6.0)\nRequirement already satisfied: importlib-metadata in /opt/conda/lib/python3.7/site-packages (from transformers) (4.11.4)\nRequirement already satisfied: huggingface-hub<1.0,>=0.11.0 in /opt/conda/lib/python3.7/site-packages (from transformers) (0.12.1)\nRequirement already satisfied: typing-extensions>=3.7.4.3 in /opt/conda/lib/python3.7/site-packages (from huggingface-hub<1.0,>=0.11.0->transformers) (4.4.0)\nRequirement already satisfied: zipp>=0.5 in /opt/conda/lib/python3.7/site-packages (from importlib-metadata->transformers) (3.11.0)\nRequirement already satisfied: certifi>=2017.4.17 in /opt/conda/lib/python3.7/site-packages (from requests->transformers) (2022.12.7)\nRequirement already satisfied: idna<4,>=2.5 in /opt/conda/lib/python3.7/site-packages (from requests->transformers) (3.4)\nRequirement already satisfied: urllib3<1.27,>=1.21.1 in /opt/conda/lib/python3.7/site-packages (from requests->transformers) (1.26.14)\nRequirement already satisfied: charset-normalizer<4,>=2 in /opt/conda/lib/python3.7/site-packages (from requests->transformers) (2.1.1)\n\u001b[33mWARNING: Running pip as the 'root' user can result in broken permissions and conflicting behaviour with the system package manager. It is recommended to use a virtual environment instead: https://pip.pypa.io/warnings/venv\u001b[0m\u001b[33m\n\u001b[0mRequirement already satisfied: sentencepiece in /opt/conda/lib/python3.7/site-packages (0.1.97)\n\u001b[33mWARNING: Running pip as the 'root' user can result in broken permissions and conflicting behaviour with the system package manager. It is recommended to use a virtual environment instead: https://pip.pypa.io/warnings/venv\u001b[0m\u001b[33m\n\u001b[0m",
          "output_type": "stream"
        }
      ]
    },
    {
      "cell_type": "code",
      "source": [
        "# Importing the libraries needed\n",
        "import pandas as pd\n",
        "import numpy as np\n",
        "from sklearn.model_selection import train_test_split\n",
        "import torch\n",
        "import seaborn as sns\n",
        "import transformers\n",
        "import json\n",
        "from tqdm import tqdm\n",
        "from torch.utils.data import Dataset, DataLoader\n",
        "from transformers import RobertaModel, RobertaTokenizer\n",
        "import logging\n",
        "logging.basicConfig(level=logging.ERROR)"
      ],
      "metadata": {
        "execution": {
          "iopub.status.busy": "2023-03-11T05:00:04.131548Z",
          "iopub.execute_input": "2023-03-11T05:00:04.132757Z",
          "iopub.status.idle": "2023-03-11T05:00:23.132001Z",
          "shell.execute_reply.started": "2023-03-11T05:00:04.132682Z",
          "shell.execute_reply": "2023-03-11T05:00:23.130319Z"
        },
        "trusted": true,
        "id": "TS97tc4tB7M8"
      },
      "execution_count": null,
      "outputs": []
    },
    {
      "cell_type": "code",
      "source": [
        "from transformers import AutoModelForMaskedLM\n",
        "\n",
        "from transformers import AutoTokenizer, AutoModel\n",
        "import re\n",
        "\n",
        "tokenizer1 = AutoTokenizer.from_pretrained(\"jhu-clsp/bernice\", model_max_length=128)\n",
        "tokenizer2 = AutoTokenizer.from_pretrained(\"Twitter/twhin-bert-base\")\n",
        "tokenizer3 = AutoTokenizer.from_pretrained(\"google/muril-base-cased\")"
      ],
      "metadata": {
        "execution": {
          "iopub.status.busy": "2023-03-11T05:00:26.381226Z",
          "iopub.execute_input": "2023-03-11T05:00:26.383529Z",
          "iopub.status.idle": "2023-03-11T05:00:57.039483Z",
          "shell.execute_reply.started": "2023-03-11T05:00:26.383427Z",
          "shell.execute_reply": "2023-03-11T05:00:57.037957Z"
        },
        "trusted": true,
        "id": "G_xycraxB7M8",
        "outputId": "5f9acdf7-784b-49ef-ebb9-0996c2fa8e12",
        "colab": {
          "referenced_widgets": [
            "bc81444d697349908910d2cea96e4e71",
            "4ab9bfd0c86049adb4470b9a8edbd596",
            "30ddd65e9d5e4e7b831800700461123f",
            "52eb894756ac456aa182ab567ed82aaf",
            "656ea4d8778a4846b57999cd2ef3e5ae",
            "5cd74148bd674b1b8becb032a7cabbab",
            "2c5002c9d934437c93e69132163101c3",
            "11dd5443eef0498c9064bbb3d536dded",
            "5f64fe12ea804da0a082974ad540b98c"
          ]
        }
      },
      "execution_count": null,
      "outputs": [
        {
          "output_type": "display_data",
          "data": {
            "text/plain": "Downloading (…)lve/main/config.json:   0%|          | 0.00/489 [00:00<?, ?B/s]",
            "application/vnd.jupyter.widget-view+json": {
              "version_major": 2,
              "version_minor": 0,
              "model_id": "bc81444d697349908910d2cea96e4e71"
            }
          },
          "metadata": {}
        },
        {
          "output_type": "display_data",
          "data": {
            "text/plain": "Downloading (…)ncepiece.bpe.model\";:   0%|          | 0.00/4.66M [00:00<?, ?B/s]",
            "application/vnd.jupyter.widget-view+json": {
              "version_major": 2,
              "version_minor": 0,
              "model_id": "4ab9bfd0c86049adb4470b9a8edbd596"
            }
          },
          "metadata": {}
        },
        {
          "output_type": "display_data",
          "data": {
            "text/plain": "Downloading (…)okenizer_config.json:   0%|          | 0.00/372 [00:00<?, ?B/s]",
            "application/vnd.jupyter.widget-view+json": {
              "version_major": 2,
              "version_minor": 0,
              "model_id": "30ddd65e9d5e4e7b831800700461123f"
            }
          },
          "metadata": {}
        },
        {
          "output_type": "display_data",
          "data": {
            "text/plain": "Downloading (…)\"tokenizer.json\";:   0%|          | 0.00/17.1M [00:00<?, ?B/s]",
            "application/vnd.jupyter.widget-view+json": {
              "version_major": 2,
              "version_minor": 0,
              "model_id": "52eb894756ac456aa182ab567ed82aaf"
            }
          },
          "metadata": {}
        },
        {
          "output_type": "display_data",
          "data": {
            "text/plain": "Downloading (…)cial_tokens_map.json:   0%|          | 0.00/239 [00:00<?, ?B/s]",
            "application/vnd.jupyter.widget-view+json": {
              "version_major": 2,
              "version_minor": 0,
              "model_id": "656ea4d8778a4846b57999cd2ef3e5ae"
            }
          },
          "metadata": {}
        },
        {
          "output_type": "display_data",
          "data": {
            "text/plain": "Downloading (…)okenizer_config.json:   0%|          | 0.00/206 [00:00<?, ?B/s]",
            "application/vnd.jupyter.widget-view+json": {
              "version_major": 2,
              "version_minor": 0,
              "model_id": "5cd74148bd674b1b8becb032a7cabbab"
            }
          },
          "metadata": {}
        },
        {
          "output_type": "display_data",
          "data": {
            "text/plain": "Downloading (…)lve/main/config.json:   0%|          | 0.00/411 [00:00<?, ?B/s]",
            "application/vnd.jupyter.widget-view+json": {
              "version_major": 2,
              "version_minor": 0,
              "model_id": "2c5002c9d934437c93e69132163101c3"
            }
          },
          "metadata": {}
        },
        {
          "output_type": "display_data",
          "data": {
            "text/plain": "Downloading (…)solve/main/vocab.txt:   0%|          | 0.00/3.16M [00:00<?, ?B/s]",
            "application/vnd.jupyter.widget-view+json": {
              "version_major": 2,
              "version_minor": 0,
              "model_id": "11dd5443eef0498c9064bbb3d536dded"
            }
          },
          "metadata": {}
        },
        {
          "output_type": "display_data",
          "data": {
            "text/plain": "Downloading (…)cial_tokens_map.json:   0%|          | 0.00/113 [00:00<?, ?B/s]",
            "application/vnd.jupyter.widget-view+json": {
              "version_major": 2,
              "version_minor": 0,
              "model_id": "5f64fe12ea804da0a082974ad540b98c"
            }
          },
          "metadata": {}
        }
      ]
    },
    {
      "cell_type": "code",
      "source": [
        "# Setting up the device for GPU usage\n",
        "\n",
        "from torch import cuda\n",
        "device = 'cuda' if cuda.is_available() else 'cpu'"
      ],
      "metadata": {
        "execution": {
          "iopub.status.busy": "2023-03-11T05:01:03.209619Z",
          "iopub.execute_input": "2023-03-11T05:01:03.210666Z",
          "iopub.status.idle": "2023-03-11T05:01:03.296580Z",
          "shell.execute_reply.started": "2023-03-11T05:01:03.210603Z",
          "shell.execute_reply": "2023-03-11T05:01:03.294663Z"
        },
        "trusted": true,
        "id": "4kWwNzdQB7M9"
      },
      "execution_count": null,
      "outputs": []
    },
    {
      "cell_type": "code",
      "source": [
        "import numpy as np\n",
        "import pandas as pd"
      ],
      "metadata": {
        "execution": {
          "iopub.status.busy": "2023-03-11T05:01:05.591652Z",
          "iopub.execute_input": "2023-03-11T05:01:05.593088Z",
          "iopub.status.idle": "2023-03-11T05:01:05.599330Z",
          "shell.execute_reply.started": "2023-03-11T05:01:05.593035Z",
          "shell.execute_reply": "2023-03-11T05:01:05.597744Z"
        },
        "trusted": true,
        "id": "qU3iErWoB7M-"
      },
      "execution_count": null,
      "outputs": []
    },
    {
      "cell_type": "code",
      "source": [
        "import random\n",
        "seed_val=3407\n",
        "torch.manual_seed(seed_val)\n",
        "np.random.seed(seed_val)\n",
        "random.seed(seed_val)\n",
        "torch.cuda.manual_seed_all(seed_val)\n",
        "torch.backends.cudnn.deterministic = True\n",
        "torch.backends.cudnn.benchmark = False"
      ],
      "metadata": {
        "execution": {
          "iopub.status.busy": "2023-03-11T05:01:08.199447Z",
          "iopub.execute_input": "2023-03-11T05:01:08.199955Z",
          "iopub.status.idle": "2023-03-11T05:01:08.212631Z",
          "shell.execute_reply.started": "2023-03-11T05:01:08.199913Z",
          "shell.execute_reply": "2023-03-11T05:01:08.210729Z"
        },
        "trusted": true,
        "id": "qpjZzOk1B7M_"
      },
      "execution_count": null,
      "outputs": []
    },
    {
      "cell_type": "code",
      "source": [
        "# Load whole datasets\n",
        "df_train = pd.read_csv(\"/kaggle/input/ipo-wholedataset/IPO_WholeDataset_ClassCreate.csv\", names = [\"tweet\", \"classes\"])"
      ],
      "metadata": {
        "execution": {
          "iopub.status.busy": "2023-03-11T05:01:11.103383Z",
          "iopub.execute_input": "2023-03-11T05:01:11.104019Z",
          "iopub.status.idle": "2023-03-11T05:01:11.142128Z",
          "shell.execute_reply.started": "2023-03-11T05:01:11.103964Z",
          "shell.execute_reply": "2023-03-11T05:01:11.140387Z"
        },
        "trusted": true,
        "id": "qY50MlXhB7NA"
      },
      "execution_count": null,
      "outputs": []
    },
    {
      "cell_type": "code",
      "source": [
        "df_train = df_train.iloc[1: , :]\n",
        "df_train.head()"
      ],
      "metadata": {
        "execution": {
          "iopub.status.busy": "2023-03-11T05:01:14.083199Z",
          "iopub.execute_input": "2023-03-11T05:01:14.083792Z",
          "iopub.status.idle": "2023-03-11T05:01:14.138451Z",
          "shell.execute_reply.started": "2023-03-11T05:01:14.083719Z",
          "shell.execute_reply": "2023-03-11T05:01:14.136909Z"
        },
        "trusted": true,
        "id": "GZJhlkNmB7NA",
        "outputId": "a227b619-230f-4560-e605-363e226378fa"
      },
      "execution_count": null,
      "outputs": [
        {
          "execution_count": 8,
          "output_type": "execute_result",
          "data": {
            "text/plain": "                                               tweet classes\n1  Millions of Indians investing in the country’s...     0.0\n2  టోకు ద్రవ్యోల్బణమే కీలకం  via తాజా వార్తలు  | ...     1.0\n3  મેરે રે કો એસે ધક ધક હો રહા હે....\\nfingers cr...     1.0\n4  The country's largest insurer will list itself...     1.0\n5  Can a full time employee ask for board of dire...     1.0",
            "text/html": "<div>\n<style scoped>\n    .dataframe tbody tr th:only-of-type {\n        vertical-align: middle;\n    }\n\n    .dataframe tbody tr th {\n        vertical-align: top;\n    }\n\n    .dataframe thead th {\n        text-align: right;\n    }\n</style>\n<table border=\"1\" class=\"dataframe\">\n  <thead>\n    <tr style=\"text-align: right;\">\n      <th></th>\n      <th>tweet</th>\n      <th>classes</th>\n    </tr>\n  </thead>\n  <tbody>\n    <tr>\n      <th>1</th>\n      <td>Millions of Indians investing in the country’s...</td>\n      <td>0.0</td>\n    </tr>\n    <tr>\n      <th>2</th>\n      <td>టోకు ద్రవ్యోల్బణమే కీలకం  via తాజా వార్తలు  | ...</td>\n      <td>1.0</td>\n    </tr>\n    <tr>\n      <th>3</th>\n      <td>મેરે રે કો એસે ધક ધક હો રહા હે....\\nfingers cr...</td>\n      <td>1.0</td>\n    </tr>\n    <tr>\n      <th>4</th>\n      <td>The country's largest insurer will list itself...</td>\n      <td>1.0</td>\n    </tr>\n    <tr>\n      <th>5</th>\n      <td>Can a full time employee ask for board of dire...</td>\n      <td>1.0</td>\n    </tr>\n  </tbody>\n</table>\n</div>"
          },
          "metadata": {}
        }
      ]
    },
    {
      "cell_type": "code",
      "source": [
        "df_train.describe()"
      ],
      "metadata": {
        "execution": {
          "iopub.status.busy": "2023-03-11T05:01:17.217839Z",
          "iopub.execute_input": "2023-03-11T05:01:17.218430Z",
          "iopub.status.idle": "2023-03-11T05:01:17.269355Z",
          "shell.execute_reply.started": "2023-03-11T05:01:17.218374Z",
          "shell.execute_reply": "2023-03-11T05:01:17.267891Z"
        },
        "trusted": true,
        "id": "vBNNSOIIB7NB",
        "outputId": "8f2a36ae-9486-48ef-8015-4f67db6b8417"
      },
      "execution_count": null,
      "outputs": [
        {
          "execution_count": 9,
          "output_type": "execute_result",
          "data": {
            "text/plain": "                                                    tweet classes\ncount                                                 960     960\nunique                                                944       3\ntop     Kaun kaun god se prey kar rahe ki unko LICIPO ...     1.0\nfreq                                                    3     657",
            "text/html": "<div>\n<style scoped>\n    .dataframe tbody tr th:only-of-type {\n        vertical-align: middle;\n    }\n\n    .dataframe tbody tr th {\n        vertical-align: top;\n    }\n\n    .dataframe thead th {\n        text-align: right;\n    }\n</style>\n<table border=\"1\" class=\"dataframe\">\n  <thead>\n    <tr style=\"text-align: right;\">\n      <th></th>\n      <th>tweet</th>\n      <th>classes</th>\n    </tr>\n  </thead>\n  <tbody>\n    <tr>\n      <th>count</th>\n      <td>960</td>\n      <td>960</td>\n    </tr>\n    <tr>\n      <th>unique</th>\n      <td>944</td>\n      <td>3</td>\n    </tr>\n    <tr>\n      <th>top</th>\n      <td>Kaun kaun god se prey kar rahe ki unko LICIPO ...</td>\n      <td>1.0</td>\n    </tr>\n    <tr>\n      <th>freq</th>\n      <td>3</td>\n      <td>657</td>\n    </tr>\n  </tbody>\n</table>\n</div>"
          },
          "metadata": {}
        }
      ]
    },
    {
      "cell_type": "code",
      "source": [
        "# Defining some key variables that will be used later on in the training\n",
        "MAX_LEN = 256\n",
        "TRAIN_BATCH_SIZE = 8\n",
        "VALID_BATCH_SIZE = 4\n",
        "LEARNING_RATE = 1e-08"
      ],
      "metadata": {
        "execution": {
          "iopub.status.busy": "2023-03-11T05:01:20.686948Z",
          "iopub.execute_input": "2023-03-11T05:01:20.688062Z",
          "iopub.status.idle": "2023-03-11T05:01:20.694560Z",
          "shell.execute_reply.started": "2023-03-11T05:01:20.688011Z",
          "shell.execute_reply": "2023-03-11T05:01:20.692951Z"
        },
        "trusted": true,
        "id": "PPem3UliB7NC"
      },
      "execution_count": null,
      "outputs": []
    },
    {
      "cell_type": "code",
      "source": [
        "class SentimentData(Dataset):\n",
        "    def __init__(self, dataframe, tokenizer, max_len):\n",
        "        self.tokenizer = tokenizer\n",
        "        self.data = dataframe\n",
        "        self.text = dataframe.tweet\n",
        "        #self.targets = self.data.class\n",
        "        # using loop\n",
        "        #y=list(df_train['class'])\n",
        "        y=list(dataframe.classes)\n",
        "        res = [eval(i) for i in y]\n",
        "        print(\"Modified list is: \", res)\n",
        "        yInt = [int(res) for res in res]\n",
        "        print(\"final->\",yInt)\n",
        "        self.targets = yInt\n",
        "        self.max_len = max_len\n",
        "\n",
        "    def __len__(self):\n",
        "        return len(self.text)\n",
        "\n",
        "    def __getitem__(self, index):\n",
        "        text = str(self.text[index])\n",
        "        text = \" \".join(text.split())\n",
        "\n",
        "        inputs = self.tokenizer.encode_plus(\n",
        "            text,\n",
        "            None,\n",
        "            add_special_tokens=True,\n",
        "            max_length=self.max_len,\n",
        "            pad_to_max_length=True,\n",
        "            return_token_type_ids=True\n",
        "        )\n",
        "        ids = inputs['input_ids']\n",
        "        mask = inputs['attention_mask']\n",
        "        token_type_ids = inputs[\"token_type_ids\"]\n",
        "\n",
        "\n",
        "        return {\n",
        "            'ids': torch.tensor(ids, dtype=torch.long),\n",
        "            'mask': torch.tensor(mask, dtype=torch.long),\n",
        "            'token_type_ids': torch.tensor(token_type_ids, dtype=torch.long),\n",
        "            'targets': torch.tensor(self.targets[index], dtype=torch.float)\n",
        "            #'targets': torch.tensor(self.targets[index], dtype=torch.str)\n",
        "        }"
      ],
      "metadata": {
        "execution": {
          "iopub.status.busy": "2023-03-11T05:01:23.176868Z",
          "iopub.execute_input": "2023-03-11T05:01:23.177487Z",
          "iopub.status.idle": "2023-03-11T05:01:23.203258Z",
          "shell.execute_reply.started": "2023-03-11T05:01:23.177429Z",
          "shell.execute_reply": "2023-03-11T05:01:23.201891Z"
        },
        "trusted": true,
        "id": "55K2e-JUB7ND"
      },
      "execution_count": null,
      "outputs": []
    },
    {
      "cell_type": "code",
      "source": [
        "train_size = 0.6\n",
        "#train_data=df_train.sample(frac=train_size,random_state=200)\n",
        "train_data=df_train.sample(frac=train_size,random_state=seed_val)\n",
        "test_data=df_train.drop(train_data.index).reset_index(drop=True)\n",
        "train_data = train_data.reset_index(drop=True)\n",
        "\n",
        "\n",
        "print(\"FULL Dataset: {}\".format(df_train.shape))\n",
        "print(\"TRAIN Dataset: {}\".format(train_data.shape))\n",
        "print(\"TEST Dataset: {}\".format(test_data.shape))\n",
        "\n",
        "training_set1 = SentimentData(train_data, tokenizer1, MAX_LEN)\n",
        "testing_set1 = SentimentData(test_data, tokenizer1, MAX_LEN)\n",
        "\n",
        "training_set2 = SentimentData(train_data, tokenizer2, MAX_LEN)\n",
        "testing_set2 = SentimentData(test_data, tokenizer2, MAX_LEN)\n",
        "\n",
        "training_set3 = SentimentData(train_data, tokenizer3, MAX_LEN)\n",
        "testing_set3 = SentimentData(test_data, tokenizer3, MAX_LEN)"
      ],
      "metadata": {
        "execution": {
          "iopub.status.busy": "2023-03-11T05:01:27.442049Z",
          "iopub.execute_input": "2023-03-11T05:01:27.443236Z",
          "iopub.status.idle": "2023-03-11T05:01:27.483194Z",
          "shell.execute_reply.started": "2023-03-11T05:01:27.443187Z",
          "shell.execute_reply": "2023-03-11T05:01:27.481523Z"
        },
        "trusted": true,
        "id": "VJ_SMaF4B7NE",
        "outputId": "35e52b00-9f23-426b-9d36-64f6b4ffee11"
      },
      "execution_count": null,
      "outputs": [
        {
          "name": "stdout",
          "text": "FULL Dataset: (960, 2)\nTRAIN Dataset: (576, 2)\nTEST Dataset: (384, 2)\nModified list is:  [0.0, 1.0, 1.0, 1.0, 1.0, 1.0, 2.0, 0.0, 1.0, 1.0, 0.0, 1.0, 0.0, 1.0, 1.0, 1.0, 0.0, 0.0, 1.0, 1.0, 1.0, 0.0, 1.0, 1.0, 0.0, 0.0, 1.0, 1.0, 1.0, 1.0, 2.0, 1.0, 1.0, 2.0, 1.0, 1.0, 1.0, 1.0, 0.0, 0.0, 1.0, 1.0, 1.0, 0.0, 1.0, 1.0, 1.0, 0.0, 0.0, 1.0, 1.0, 1.0, 1.0, 1.0, 0.0, 1.0, 1.0, 1.0, 0.0, 1.0, 2.0, 0.0, 1.0, 2.0, 1.0, 1.0, 1.0, 1.0, 1.0, 0.0, 1.0, 1.0, 1.0, 1.0, 2.0, 1.0, 1.0, 1.0, 1.0, 1.0, 1.0, 1.0, 0.0, 1.0, 0.0, 0.0, 1.0, 1.0, 1.0, 0.0, 1.0, 1.0, 1.0, 1.0, 0.0, 1.0, 1.0, 0.0, 1.0, 1.0, 2.0, 0.0, 0.0, 1.0, 0.0, 1.0, 0.0, 0.0, 1.0, 1.0, 0.0, 1.0, 1.0, 1.0, 0.0, 1.0, 1.0, 1.0, 1.0, 0.0, 1.0, 1.0, 2.0, 0.0, 0.0, 1.0, 1.0, 1.0, 1.0, 0.0, 1.0, 2.0, 1.0, 1.0, 1.0, 1.0, 0.0, 1.0, 1.0, 1.0, 1.0, 0.0, 1.0, 1.0, 1.0, 1.0, 1.0, 1.0, 1.0, 0.0, 1.0, 0.0, 0.0, 1.0, 0.0, 2.0, 0.0, 1.0, 0.0, 1.0, 1.0, 0.0, 0.0, 0.0, 1.0, 1.0, 1.0, 1.0, 0.0, 1.0, 1.0, 1.0, 1.0, 1.0, 0.0, 1.0, 1.0, 1.0, 1.0, 1.0, 0.0, 1.0, 2.0, 1.0, 1.0, 2.0, 1.0, 1.0, 1.0, 1.0, 0.0, 1.0, 0.0, 1.0, 1.0, 1.0, 0.0, 0.0, 2.0, 1.0, 1.0, 1.0, 1.0, 1.0, 1.0, 1.0, 1.0, 1.0, 1.0, 0.0, 2.0, 1.0, 1.0, 1.0, 1.0, 1.0, 0.0, 1.0, 2.0, 0.0, 0.0, 1.0, 2.0, 1.0, 1.0, 1.0, 0.0, 2.0, 0.0, 1.0, 1.0, 1.0, 0.0, 2.0, 0.0, 1.0, 0.0, 0.0, 1.0, 2.0, 1.0, 1.0, 2.0, 1.0, 0.0, 1.0, 0.0, 1.0, 1.0, 1.0, 1.0, 2.0, 1.0, 0.0, 0.0, 1.0, 1.0, 0.0, 1.0, 1.0, 1.0, 1.0, 2.0, 0.0, 1.0, 1.0, 1.0, 1.0, 1.0, 1.0, 1.0, 0.0, 1.0, 1.0, 1.0, 1.0, 1.0, 1.0, 0.0, 0.0, 1.0, 1.0, 1.0, 1.0, 0.0, 1.0, 0.0, 0.0, 1.0, 1.0, 1.0, 0.0, 0.0, 1.0, 0.0, 1.0, 1.0, 0.0, 0.0, 1.0, 1.0, 1.0, 1.0, 1.0, 1.0, 1.0, 1.0, 1.0, 2.0, 0.0, 1.0, 1.0, 1.0, 1.0, 1.0, 1.0, 1.0, 0.0, 2.0, 1.0, 1.0, 1.0, 1.0, 0.0, 0.0, 1.0, 1.0, 1.0, 1.0, 0.0, 1.0, 1.0, 1.0, 1.0, 0.0, 0.0, 1.0, 1.0, 0.0, 0.0, 1.0, 0.0, 1.0, 1.0, 1.0, 0.0, 1.0, 1.0, 0.0, 1.0, 1.0, 0.0, 1.0, 0.0, 1.0, 1.0, 1.0, 1.0, 2.0, 1.0, 1.0, 1.0, 2.0, 1.0, 1.0, 1.0, 0.0, 1.0, 1.0, 0.0, 1.0, 1.0, 1.0, 0.0, 1.0, 0.0, 1.0, 0.0, 1.0, 1.0, 1.0, 0.0, 1.0, 0.0, 1.0, 1.0, 1.0, 1.0, 1.0, 1.0, 1.0, 0.0, 2.0, 1.0, 1.0, 2.0, 1.0, 1.0, 1.0, 1.0, 1.0, 1.0, 0.0, 1.0, 1.0, 2.0, 1.0, 1.0, 1.0, 2.0, 1.0, 1.0, 0.0, 1.0, 0.0, 1.0, 0.0, 1.0, 2.0, 1.0, 1.0, 1.0, 1.0, 1.0, 1.0, 1.0, 0.0, 0.0, 1.0, 1.0, 0.0, 2.0, 1.0, 0.0, 1.0, 1.0, 1.0, 1.0, 1.0, 1.0, 1.0, 0.0, 2.0, 1.0, 1.0, 1.0, 1.0, 0.0, 0.0, 1.0, 0.0, 1.0, 0.0, 1.0, 0.0, 1.0, 1.0, 1.0, 1.0, 1.0, 1.0, 2.0, 1.0, 0.0, 1.0, 1.0, 1.0, 1.0, 1.0, 2.0, 1.0, 1.0, 1.0, 1.0, 0.0, 1.0, 1.0, 0.0, 1.0, 1.0, 0.0, 1.0, 1.0, 2.0, 1.0, 1.0, 0.0, 1.0, 0.0, 0.0, 1.0, 1.0, 1.0, 1.0, 0.0, 0.0, 0.0, 1.0, 0.0, 1.0, 1.0, 1.0, 1.0, 1.0, 1.0, 1.0, 2.0, 1.0, 1.0, 1.0, 1.0, 0.0, 1.0, 0.0, 1.0, 1.0, 1.0, 1.0, 0.0, 1.0, 1.0, 1.0, 1.0, 1.0, 0.0, 1.0, 2.0, 1.0, 1.0, 1.0, 1.0, 1.0, 1.0, 1.0, 1.0, 2.0, 1.0, 2.0, 1.0, 0.0, 1.0, 2.0, 1.0, 1.0, 1.0, 1.0, 1.0, 1.0, 1.0, 1.0, 1.0, 1.0, 0.0, 1.0, 1.0, 1.0, 1.0, 1.0, 1.0, 1.0, 0.0, 1.0, 1.0, 1.0, 1.0, 1.0, 1.0, 1.0, 1.0, 1.0, 1.0, 0.0, 1.0, 1.0, 0.0, 1.0]\nfinal-> [0, 1, 1, 1, 1, 1, 2, 0, 1, 1, 0, 1, 0, 1, 1, 1, 0, 0, 1, 1, 1, 0, 1, 1, 0, 0, 1, 1, 1, 1, 2, 1, 1, 2, 1, 1, 1, 1, 0, 0, 1, 1, 1, 0, 1, 1, 1, 0, 0, 1, 1, 1, 1, 1, 0, 1, 1, 1, 0, 1, 2, 0, 1, 2, 1, 1, 1, 1, 1, 0, 1, 1, 1, 1, 2, 1, 1, 1, 1, 1, 1, 1, 0, 1, 0, 0, 1, 1, 1, 0, 1, 1, 1, 1, 0, 1, 1, 0, 1, 1, 2, 0, 0, 1, 0, 1, 0, 0, 1, 1, 0, 1, 1, 1, 0, 1, 1, 1, 1, 0, 1, 1, 2, 0, 0, 1, 1, 1, 1, 0, 1, 2, 1, 1, 1, 1, 0, 1, 1, 1, 1, 0, 1, 1, 1, 1, 1, 1, 1, 0, 1, 0, 0, 1, 0, 2, 0, 1, 0, 1, 1, 0, 0, 0, 1, 1, 1, 1, 0, 1, 1, 1, 1, 1, 0, 1, 1, 1, 1, 1, 0, 1, 2, 1, 1, 2, 1, 1, 1, 1, 0, 1, 0, 1, 1, 1, 0, 0, 2, 1, 1, 1, 1, 1, 1, 1, 1, 1, 1, 0, 2, 1, 1, 1, 1, 1, 0, 1, 2, 0, 0, 1, 2, 1, 1, 1, 0, 2, 0, 1, 1, 1, 0, 2, 0, 1, 0, 0, 1, 2, 1, 1, 2, 1, 0, 1, 0, 1, 1, 1, 1, 2, 1, 0, 0, 1, 1, 0, 1, 1, 1, 1, 2, 0, 1, 1, 1, 1, 1, 1, 1, 0, 1, 1, 1, 1, 1, 1, 0, 0, 1, 1, 1, 1, 0, 1, 0, 0, 1, 1, 1, 0, 0, 1, 0, 1, 1, 0, 0, 1, 1, 1, 1, 1, 1, 1, 1, 1, 2, 0, 1, 1, 1, 1, 1, 1, 1, 0, 2, 1, 1, 1, 1, 0, 0, 1, 1, 1, 1, 0, 1, 1, 1, 1, 0, 0, 1, 1, 0, 0, 1, 0, 1, 1, 1, 0, 1, 1, 0, 1, 1, 0, 1, 0, 1, 1, 1, 1, 2, 1, 1, 1, 2, 1, 1, 1, 0, 1, 1, 0, 1, 1, 1, 0, 1, 0, 1, 0, 1, 1, 1, 0, 1, 0, 1, 1, 1, 1, 1, 1, 1, 0, 2, 1, 1, 2, 1, 1, 1, 1, 1, 1, 0, 1, 1, 2, 1, 1, 1, 2, 1, 1, 0, 1, 0, 1, 0, 1, 2, 1, 1, 1, 1, 1, 1, 1, 0, 0, 1, 1, 0, 2, 1, 0, 1, 1, 1, 1, 1, 1, 1, 0, 2, 1, 1, 1, 1, 0, 0, 1, 0, 1, 0, 1, 0, 1, 1, 1, 1, 1, 1, 2, 1, 0, 1, 1, 1, 1, 1, 2, 1, 1, 1, 1, 0, 1, 1, 0, 1, 1, 0, 1, 1, 2, 1, 1, 0, 1, 0, 0, 1, 1, 1, 1, 0, 0, 0, 1, 0, 1, 1, 1, 1, 1, 1, 1, 2, 1, 1, 1, 1, 0, 1, 0, 1, 1, 1, 1, 0, 1, 1, 1, 1, 1, 0, 1, 2, 1, 1, 1, 1, 1, 1, 1, 1, 2, 1, 2, 1, 0, 1, 2, 1, 1, 1, 1, 1, 1, 1, 1, 1, 1, 0, 1, 1, 1, 1, 1, 1, 1, 0, 1, 1, 1, 1, 1, 1, 1, 1, 1, 1, 0, 1, 1, 0, 1]\nModified list is:  [0.0, 1.0, 2.0, 1.0, 1.0, 0.0, 2.0, 0.0, 1.0, 0.0, 1.0, 1.0, 0.0, 1.0, 1.0, 1.0, 1.0, 1.0, 1.0, 2.0, 1.0, 1.0, 1.0, 0.0, 1.0, 1.0, 1.0, 0.0, 2.0, 0.0, 1.0, 0.0, 2.0, 0.0, 1.0, 0.0, 0.0, 1.0, 1.0, 0.0, 1.0, 1.0, 1.0, 0.0, 0.0, 0.0, 1.0, 1.0, 1.0, 1.0, 0.0, 1.0, 1.0, 1.0, 0.0, 1.0, 0.0, 0.0, 1.0, 1.0, 1.0, 0.0, 1.0, 0.0, 0.0, 0.0, 0.0, 1.0, 0.0, 0.0, 0.0, 1.0, 1.0, 1.0, 1.0, 1.0, 0.0, 1.0, 1.0, 0.0, 0.0, 1.0, 2.0, 1.0, 1.0, 0.0, 1.0, 0.0, 1.0, 1.0, 1.0, 1.0, 0.0, 1.0, 1.0, 1.0, 0.0, 2.0, 1.0, 1.0, 1.0, 1.0, 0.0, 1.0, 1.0, 0.0, 0.0, 1.0, 1.0, 0.0, 1.0, 1.0, 1.0, 1.0, 1.0, 0.0, 1.0, 1.0, 1.0, 1.0, 0.0, 1.0, 1.0, 0.0, 1.0, 1.0, 0.0, 0.0, 0.0, 0.0, 0.0, 1.0, 2.0, 1.0, 1.0, 1.0, 1.0, 0.0, 2.0, 1.0, 1.0, 1.0, 0.0, 1.0, 0.0, 2.0, 1.0, 1.0, 1.0, 1.0, 1.0, 1.0, 1.0, 1.0, 1.0, 2.0, 1.0, 1.0, 1.0, 0.0, 1.0, 1.0, 1.0, 1.0, 1.0, 1.0, 1.0, 1.0, 1.0, 1.0, 1.0, 1.0, 2.0, 1.0, 1.0, 2.0, 1.0, 1.0, 1.0, 1.0, 1.0, 1.0, 1.0, 0.0, 1.0, 1.0, 1.0, 1.0, 1.0, 1.0, 1.0, 0.0, 1.0, 1.0, 1.0, 1.0, 0.0, 0.0, 0.0, 1.0, 1.0, 2.0, 0.0, 1.0, 1.0, 1.0, 1.0, 1.0, 0.0, 0.0, 1.0, 1.0, 2.0, 1.0, 2.0, 0.0, 1.0, 2.0, 1.0, 0.0, 1.0, 1.0, 0.0, 0.0, 1.0, 0.0, 1.0, 1.0, 0.0, 1.0, 1.0, 1.0, 1.0, 1.0, 2.0, 2.0, 0.0, 1.0, 1.0, 2.0, 1.0, 1.0, 1.0, 1.0, 1.0, 1.0, 2.0, 1.0, 1.0, 1.0, 1.0, 2.0, 2.0, 1.0, 1.0, 1.0, 1.0, 1.0, 1.0, 1.0, 1.0, 0.0, 1.0, 0.0, 1.0, 2.0, 1.0, 1.0, 2.0, 1.0, 1.0, 0.0, 1.0, 1.0, 0.0, 2.0, 1.0, 1.0, 1.0, 2.0, 1.0, 1.0, 0.0, 1.0, 1.0, 0.0, 1.0, 1.0, 1.0, 1.0, 1.0, 1.0, 1.0, 1.0, 1.0, 1.0, 1.0, 0.0, 1.0, 1.0, 1.0, 2.0, 1.0, 0.0, 1.0, 1.0, 1.0, 1.0, 1.0, 2.0, 1.0, 2.0, 0.0, 0.0, 1.0, 1.0, 1.0, 0.0, 0.0, 1.0, 1.0, 1.0, 1.0, 0.0, 2.0, 1.0, 1.0, 1.0, 1.0, 1.0, 1.0, 1.0, 1.0, 0.0, 1.0, 1.0, 0.0, 1.0, 0.0, 1.0, 1.0, 1.0, 1.0, 1.0, 1.0, 1.0, 2.0, 0.0, 1.0, 1.0, 0.0, 0.0, 0.0, 1.0, 1.0, 1.0, 1.0, 0.0, 0.0, 1.0, 1.0, 0.0, 0.0, 1.0, 1.0, 1.0, 1.0, 1.0, 1.0, 2.0, 1.0, 1.0, 0.0, 0.0, 1.0, 1.0, 1.0, 0.0, 1.0, 1.0, 1.0, 1.0, 1.0, 1.0]\nfinal-> [0, 1, 2, 1, 1, 0, 2, 0, 1, 0, 1, 1, 0, 1, 1, 1, 1, 1, 1, 2, 1, 1, 1, 0, 1, 1, 1, 0, 2, 0, 1, 0, 2, 0, 1, 0, 0, 1, 1, 0, 1, 1, 1, 0, 0, 0, 1, 1, 1, 1, 0, 1, 1, 1, 0, 1, 0, 0, 1, 1, 1, 0, 1, 0, 0, 0, 0, 1, 0, 0, 0, 1, 1, 1, 1, 1, 0, 1, 1, 0, 0, 1, 2, 1, 1, 0, 1, 0, 1, 1, 1, 1, 0, 1, 1, 1, 0, 2, 1, 1, 1, 1, 0, 1, 1, 0, 0, 1, 1, 0, 1, 1, 1, 1, 1, 0, 1, 1, 1, 1, 0, 1, 1, 0, 1, 1, 0, 0, 0, 0, 0, 1, 2, 1, 1, 1, 1, 0, 2, 1, 1, 1, 0, 1, 0, 2, 1, 1, 1, 1, 1, 1, 1, 1, 1, 2, 1, 1, 1, 0, 1, 1, 1, 1, 1, 1, 1, 1, 1, 1, 1, 1, 2, 1, 1, 2, 1, 1, 1, 1, 1, 1, 1, 0, 1, 1, 1, 1, 1, 1, 1, 0, 1, 1, 1, 1, 0, 0, 0, 1, 1, 2, 0, 1, 1, 1, 1, 1, 0, 0, 1, 1, 2, 1, 2, 0, 1, 2, 1, 0, 1, 1, 0, 0, 1, 0, 1, 1, 0, 1, 1, 1, 1, 1, 2, 2, 0, 1, 1, 2, 1, 1, 1, 1, 1, 1, 2, 1, 1, 1, 1, 2, 2, 1, 1, 1, 1, 1, 1, 1, 1, 0, 1, 0, 1, 2, 1, 1, 2, 1, 1, 0, 1, 1, 0, 2, 1, 1, 1, 2, 1, 1, 0, 1, 1, 0, 1, 1, 1, 1, 1, 1, 1, 1, 1, 1, 1, 0, 1, 1, 1, 2, 1, 0, 1, 1, 1, 1, 1, 2, 1, 2, 0, 0, 1, 1, 1, 0, 0, 1, 1, 1, 1, 0, 2, 1, 1, 1, 1, 1, 1, 1, 1, 0, 1, 1, 0, 1, 0, 1, 1, 1, 1, 1, 1, 1, 2, 0, 1, 1, 0, 0, 0, 1, 1, 1, 1, 0, 0, 1, 1, 0, 0, 1, 1, 1, 1, 1, 1, 2, 1, 1, 0, 0, 1, 1, 1, 0, 1, 1, 1, 1, 1, 1]\nModified list is:  [0.0, 1.0, 1.0, 1.0, 1.0, 1.0, 2.0, 0.0, 1.0, 1.0, 0.0, 1.0, 0.0, 1.0, 1.0, 1.0, 0.0, 0.0, 1.0, 1.0, 1.0, 0.0, 1.0, 1.0, 0.0, 0.0, 1.0, 1.0, 1.0, 1.0, 2.0, 1.0, 1.0, 2.0, 1.0, 1.0, 1.0, 1.0, 0.0, 0.0, 1.0, 1.0, 1.0, 0.0, 1.0, 1.0, 1.0, 0.0, 0.0, 1.0, 1.0, 1.0, 1.0, 1.0, 0.0, 1.0, 1.0, 1.0, 0.0, 1.0, 2.0, 0.0, 1.0, 2.0, 1.0, 1.0, 1.0, 1.0, 1.0, 0.0, 1.0, 1.0, 1.0, 1.0, 2.0, 1.0, 1.0, 1.0, 1.0, 1.0, 1.0, 1.0, 0.0, 1.0, 0.0, 0.0, 1.0, 1.0, 1.0, 0.0, 1.0, 1.0, 1.0, 1.0, 0.0, 1.0, 1.0, 0.0, 1.0, 1.0, 2.0, 0.0, 0.0, 1.0, 0.0, 1.0, 0.0, 0.0, 1.0, 1.0, 0.0, 1.0, 1.0, 1.0, 0.0, 1.0, 1.0, 1.0, 1.0, 0.0, 1.0, 1.0, 2.0, 0.0, 0.0, 1.0, 1.0, 1.0, 1.0, 0.0, 1.0, 2.0, 1.0, 1.0, 1.0, 1.0, 0.0, 1.0, 1.0, 1.0, 1.0, 0.0, 1.0, 1.0, 1.0, 1.0, 1.0, 1.0, 1.0, 0.0, 1.0, 0.0, 0.0, 1.0, 0.0, 2.0, 0.0, 1.0, 0.0, 1.0, 1.0, 0.0, 0.0, 0.0, 1.0, 1.0, 1.0, 1.0, 0.0, 1.0, 1.0, 1.0, 1.0, 1.0, 0.0, 1.0, 1.0, 1.0, 1.0, 1.0, 0.0, 1.0, 2.0, 1.0, 1.0, 2.0, 1.0, 1.0, 1.0, 1.0, 0.0, 1.0, 0.0, 1.0, 1.0, 1.0, 0.0, 0.0, 2.0, 1.0, 1.0, 1.0, 1.0, 1.0, 1.0, 1.0, 1.0, 1.0, 1.0, 0.0, 2.0, 1.0, 1.0, 1.0, 1.0, 1.0, 0.0, 1.0, 2.0, 0.0, 0.0, 1.0, 2.0, 1.0, 1.0, 1.0, 0.0, 2.0, 0.0, 1.0, 1.0, 1.0, 0.0, 2.0, 0.0, 1.0, 0.0, 0.0, 1.0, 2.0, 1.0, 1.0, 2.0, 1.0, 0.0, 1.0, 0.0, 1.0, 1.0, 1.0, 1.0, 2.0, 1.0, 0.0, 0.0, 1.0, 1.0, 0.0, 1.0, 1.0, 1.0, 1.0, 2.0, 0.0, 1.0, 1.0, 1.0, 1.0, 1.0, 1.0, 1.0, 0.0, 1.0, 1.0, 1.0, 1.0, 1.0, 1.0, 0.0, 0.0, 1.0, 1.0, 1.0, 1.0, 0.0, 1.0, 0.0, 0.0, 1.0, 1.0, 1.0, 0.0, 0.0, 1.0, 0.0, 1.0, 1.0, 0.0, 0.0, 1.0, 1.0, 1.0, 1.0, 1.0, 1.0, 1.0, 1.0, 1.0, 2.0, 0.0, 1.0, 1.0, 1.0, 1.0, 1.0, 1.0, 1.0, 0.0, 2.0, 1.0, 1.0, 1.0, 1.0, 0.0, 0.0, 1.0, 1.0, 1.0, 1.0, 0.0, 1.0, 1.0, 1.0, 1.0, 0.0, 0.0, 1.0, 1.0, 0.0, 0.0, 1.0, 0.0, 1.0, 1.0, 1.0, 0.0, 1.0, 1.0, 0.0, 1.0, 1.0, 0.0, 1.0, 0.0, 1.0, 1.0, 1.0, 1.0, 2.0, 1.0, 1.0, 1.0, 2.0, 1.0, 1.0, 1.0, 0.0, 1.0, 1.0, 0.0, 1.0, 1.0, 1.0, 0.0, 1.0, 0.0, 1.0, 0.0, 1.0, 1.0, 1.0, 0.0, 1.0, 0.0, 1.0, 1.0, 1.0, 1.0, 1.0, 1.0, 1.0, 0.0, 2.0, 1.0, 1.0, 2.0, 1.0, 1.0, 1.0, 1.0, 1.0, 1.0, 0.0, 1.0, 1.0, 2.0, 1.0, 1.0, 1.0, 2.0, 1.0, 1.0, 0.0, 1.0, 0.0, 1.0, 0.0, 1.0, 2.0, 1.0, 1.0, 1.0, 1.0, 1.0, 1.0, 1.0, 0.0, 0.0, 1.0, 1.0, 0.0, 2.0, 1.0, 0.0, 1.0, 1.0, 1.0, 1.0, 1.0, 1.0, 1.0, 0.0, 2.0, 1.0, 1.0, 1.0, 1.0, 0.0, 0.0, 1.0, 0.0, 1.0, 0.0, 1.0, 0.0, 1.0, 1.0, 1.0, 1.0, 1.0, 1.0, 2.0, 1.0, 0.0, 1.0, 1.0, 1.0, 1.0, 1.0, 2.0, 1.0, 1.0, 1.0, 1.0, 0.0, 1.0, 1.0, 0.0, 1.0, 1.0, 0.0, 1.0, 1.0, 2.0, 1.0, 1.0, 0.0, 1.0, 0.0, 0.0, 1.0, 1.0, 1.0, 1.0, 0.0, 0.0, 0.0, 1.0, 0.0, 1.0, 1.0, 1.0, 1.0, 1.0, 1.0, 1.0, 2.0, 1.0, 1.0, 1.0, 1.0, 0.0, 1.0, 0.0, 1.0, 1.0, 1.0, 1.0, 0.0, 1.0, 1.0, 1.0, 1.0, 1.0, 0.0, 1.0, 2.0, 1.0, 1.0, 1.0, 1.0, 1.0, 1.0, 1.0, 1.0, 2.0, 1.0, 2.0, 1.0, 0.0, 1.0, 2.0, 1.0, 1.0, 1.0, 1.0, 1.0, 1.0, 1.0, 1.0, 1.0, 1.0, 0.0, 1.0, 1.0, 1.0, 1.0, 1.0, 1.0, 1.0, 0.0, 1.0, 1.0, 1.0, 1.0, 1.0, 1.0, 1.0, 1.0, 1.0, 1.0, 0.0, 1.0, 1.0, 0.0, 1.0]\nfinal-> [0, 1, 1, 1, 1, 1, 2, 0, 1, 1, 0, 1, 0, 1, 1, 1, 0, 0, 1, 1, 1, 0, 1, 1, 0, 0, 1, 1, 1, 1, 2, 1, 1, 2, 1, 1, 1, 1, 0, 0, 1, 1, 1, 0, 1, 1, 1, 0, 0, 1, 1, 1, 1, 1, 0, 1, 1, 1, 0, 1, 2, 0, 1, 2, 1, 1, 1, 1, 1, 0, 1, 1, 1, 1, 2, 1, 1, 1, 1, 1, 1, 1, 0, 1, 0, 0, 1, 1, 1, 0, 1, 1, 1, 1, 0, 1, 1, 0, 1, 1, 2, 0, 0, 1, 0, 1, 0, 0, 1, 1, 0, 1, 1, 1, 0, 1, 1, 1, 1, 0, 1, 1, 2, 0, 0, 1, 1, 1, 1, 0, 1, 2, 1, 1, 1, 1, 0, 1, 1, 1, 1, 0, 1, 1, 1, 1, 1, 1, 1, 0, 1, 0, 0, 1, 0, 2, 0, 1, 0, 1, 1, 0, 0, 0, 1, 1, 1, 1, 0, 1, 1, 1, 1, 1, 0, 1, 1, 1, 1, 1, 0, 1, 2, 1, 1, 2, 1, 1, 1, 1, 0, 1, 0, 1, 1, 1, 0, 0, 2, 1, 1, 1, 1, 1, 1, 1, 1, 1, 1, 0, 2, 1, 1, 1, 1, 1, 0, 1, 2, 0, 0, 1, 2, 1, 1, 1, 0, 2, 0, 1, 1, 1, 0, 2, 0, 1, 0, 0, 1, 2, 1, 1, 2, 1, 0, 1, 0, 1, 1, 1, 1, 2, 1, 0, 0, 1, 1, 0, 1, 1, 1, 1, 2, 0, 1, 1, 1, 1, 1, 1, 1, 0, 1, 1, 1, 1, 1, 1, 0, 0, 1, 1, 1, 1, 0, 1, 0, 0, 1, 1, 1, 0, 0, 1, 0, 1, 1, 0, 0, 1, 1, 1, 1, 1, 1, 1, 1, 1, 2, 0, 1, 1, 1, 1, 1, 1, 1, 0, 2, 1, 1, 1, 1, 0, 0, 1, 1, 1, 1, 0, 1, 1, 1, 1, 0, 0, 1, 1, 0, 0, 1, 0, 1, 1, 1, 0, 1, 1, 0, 1, 1, 0, 1, 0, 1, 1, 1, 1, 2, 1, 1, 1, 2, 1, 1, 1, 0, 1, 1, 0, 1, 1, 1, 0, 1, 0, 1, 0, 1, 1, 1, 0, 1, 0, 1, 1, 1, 1, 1, 1, 1, 0, 2, 1, 1, 2, 1, 1, 1, 1, 1, 1, 0, 1, 1, 2, 1, 1, 1, 2, 1, 1, 0, 1, 0, 1, 0, 1, 2, 1, 1, 1, 1, 1, 1, 1, 0, 0, 1, 1, 0, 2, 1, 0, 1, 1, 1, 1, 1, 1, 1, 0, 2, 1, 1, 1, 1, 0, 0, 1, 0, 1, 0, 1, 0, 1, 1, 1, 1, 1, 1, 2, 1, 0, 1, 1, 1, 1, 1, 2, 1, 1, 1, 1, 0, 1, 1, 0, 1, 1, 0, 1, 1, 2, 1, 1, 0, 1, 0, 0, 1, 1, 1, 1, 0, 0, 0, 1, 0, 1, 1, 1, 1, 1, 1, 1, 2, 1, 1, 1, 1, 0, 1, 0, 1, 1, 1, 1, 0, 1, 1, 1, 1, 1, 0, 1, 2, 1, 1, 1, 1, 1, 1, 1, 1, 2, 1, 2, 1, 0, 1, 2, 1, 1, 1, 1, 1, 1, 1, 1, 1, 1, 0, 1, 1, 1, 1, 1, 1, 1, 0, 1, 1, 1, 1, 1, 1, 1, 1, 1, 1, 0, 1, 1, 0, 1]\nModified list is:  [0.0, 1.0, 2.0, 1.0, 1.0, 0.0, 2.0, 0.0, 1.0, 0.0, 1.0, 1.0, 0.0, 1.0, 1.0, 1.0, 1.0, 1.0, 1.0, 2.0, 1.0, 1.0, 1.0, 0.0, 1.0, 1.0, 1.0, 0.0, 2.0, 0.0, 1.0, 0.0, 2.0, 0.0, 1.0, 0.0, 0.0, 1.0, 1.0, 0.0, 1.0, 1.0, 1.0, 0.0, 0.0, 0.0, 1.0, 1.0, 1.0, 1.0, 0.0, 1.0, 1.0, 1.0, 0.0, 1.0, 0.0, 0.0, 1.0, 1.0, 1.0, 0.0, 1.0, 0.0, 0.0, 0.0, 0.0, 1.0, 0.0, 0.0, 0.0, 1.0, 1.0, 1.0, 1.0, 1.0, 0.0, 1.0, 1.0, 0.0, 0.0, 1.0, 2.0, 1.0, 1.0, 0.0, 1.0, 0.0, 1.0, 1.0, 1.0, 1.0, 0.0, 1.0, 1.0, 1.0, 0.0, 2.0, 1.0, 1.0, 1.0, 1.0, 0.0, 1.0, 1.0, 0.0, 0.0, 1.0, 1.0, 0.0, 1.0, 1.0, 1.0, 1.0, 1.0, 0.0, 1.0, 1.0, 1.0, 1.0, 0.0, 1.0, 1.0, 0.0, 1.0, 1.0, 0.0, 0.0, 0.0, 0.0, 0.0, 1.0, 2.0, 1.0, 1.0, 1.0, 1.0, 0.0, 2.0, 1.0, 1.0, 1.0, 0.0, 1.0, 0.0, 2.0, 1.0, 1.0, 1.0, 1.0, 1.0, 1.0, 1.0, 1.0, 1.0, 2.0, 1.0, 1.0, 1.0, 0.0, 1.0, 1.0, 1.0, 1.0, 1.0, 1.0, 1.0, 1.0, 1.0, 1.0, 1.0, 1.0, 2.0, 1.0, 1.0, 2.0, 1.0, 1.0, 1.0, 1.0, 1.0, 1.0, 1.0, 0.0, 1.0, 1.0, 1.0, 1.0, 1.0, 1.0, 1.0, 0.0, 1.0, 1.0, 1.0, 1.0, 0.0, 0.0, 0.0, 1.0, 1.0, 2.0, 0.0, 1.0, 1.0, 1.0, 1.0, 1.0, 0.0, 0.0, 1.0, 1.0, 2.0, 1.0, 2.0, 0.0, 1.0, 2.0, 1.0, 0.0, 1.0, 1.0, 0.0, 0.0, 1.0, 0.0, 1.0, 1.0, 0.0, 1.0, 1.0, 1.0, 1.0, 1.0, 2.0, 2.0, 0.0, 1.0, 1.0, 2.0, 1.0, 1.0, 1.0, 1.0, 1.0, 1.0, 2.0, 1.0, 1.0, 1.0, 1.0, 2.0, 2.0, 1.0, 1.0, 1.0, 1.0, 1.0, 1.0, 1.0, 1.0, 0.0, 1.0, 0.0, 1.0, 2.0, 1.0, 1.0, 2.0, 1.0, 1.0, 0.0, 1.0, 1.0, 0.0, 2.0, 1.0, 1.0, 1.0, 2.0, 1.0, 1.0, 0.0, 1.0, 1.0, 0.0, 1.0, 1.0, 1.0, 1.0, 1.0, 1.0, 1.0, 1.0, 1.0, 1.0, 1.0, 0.0, 1.0, 1.0, 1.0, 2.0, 1.0, 0.0, 1.0, 1.0, 1.0, 1.0, 1.0, 2.0, 1.0, 2.0, 0.0, 0.0, 1.0, 1.0, 1.0, 0.0, 0.0, 1.0, 1.0, 1.0, 1.0, 0.0, 2.0, 1.0, 1.0, 1.0, 1.0, 1.0, 1.0, 1.0, 1.0, 0.0, 1.0, 1.0, 0.0, 1.0, 0.0, 1.0, 1.0, 1.0, 1.0, 1.0, 1.0, 1.0, 2.0, 0.0, 1.0, 1.0, 0.0, 0.0, 0.0, 1.0, 1.0, 1.0, 1.0, 0.0, 0.0, 1.0, 1.0, 0.0, 0.0, 1.0, 1.0, 1.0, 1.0, 1.0, 1.0, 2.0, 1.0, 1.0, 0.0, 0.0, 1.0, 1.0, 1.0, 0.0, 1.0, 1.0, 1.0, 1.0, 1.0, 1.0]\nfinal-> [0, 1, 2, 1, 1, 0, 2, 0, 1, 0, 1, 1, 0, 1, 1, 1, 1, 1, 1, 2, 1, 1, 1, 0, 1, 1, 1, 0, 2, 0, 1, 0, 2, 0, 1, 0, 0, 1, 1, 0, 1, 1, 1, 0, 0, 0, 1, 1, 1, 1, 0, 1, 1, 1, 0, 1, 0, 0, 1, 1, 1, 0, 1, 0, 0, 0, 0, 1, 0, 0, 0, 1, 1, 1, 1, 1, 0, 1, 1, 0, 0, 1, 2, 1, 1, 0, 1, 0, 1, 1, 1, 1, 0, 1, 1, 1, 0, 2, 1, 1, 1, 1, 0, 1, 1, 0, 0, 1, 1, 0, 1, 1, 1, 1, 1, 0, 1, 1, 1, 1, 0, 1, 1, 0, 1, 1, 0, 0, 0, 0, 0, 1, 2, 1, 1, 1, 1, 0, 2, 1, 1, 1, 0, 1, 0, 2, 1, 1, 1, 1, 1, 1, 1, 1, 1, 2, 1, 1, 1, 0, 1, 1, 1, 1, 1, 1, 1, 1, 1, 1, 1, 1, 2, 1, 1, 2, 1, 1, 1, 1, 1, 1, 1, 0, 1, 1, 1, 1, 1, 1, 1, 0, 1, 1, 1, 1, 0, 0, 0, 1, 1, 2, 0, 1, 1, 1, 1, 1, 0, 0, 1, 1, 2, 1, 2, 0, 1, 2, 1, 0, 1, 1, 0, 0, 1, 0, 1, 1, 0, 1, 1, 1, 1, 1, 2, 2, 0, 1, 1, 2, 1, 1, 1, 1, 1, 1, 2, 1, 1, 1, 1, 2, 2, 1, 1, 1, 1, 1, 1, 1, 1, 0, 1, 0, 1, 2, 1, 1, 2, 1, 1, 0, 1, 1, 0, 2, 1, 1, 1, 2, 1, 1, 0, 1, 1, 0, 1, 1, 1, 1, 1, 1, 1, 1, 1, 1, 1, 0, 1, 1, 1, 2, 1, 0, 1, 1, 1, 1, 1, 2, 1, 2, 0, 0, 1, 1, 1, 0, 0, 1, 1, 1, 1, 0, 2, 1, 1, 1, 1, 1, 1, 1, 1, 0, 1, 1, 0, 1, 0, 1, 1, 1, 1, 1, 1, 1, 2, 0, 1, 1, 0, 0, 0, 1, 1, 1, 1, 0, 0, 1, 1, 0, 0, 1, 1, 1, 1, 1, 1, 2, 1, 1, 0, 0, 1, 1, 1, 0, 1, 1, 1, 1, 1, 1]\nModified list is:  [0.0, 1.0, 1.0, 1.0, 1.0, 1.0, 2.0, 0.0, 1.0, 1.0, 0.0, 1.0, 0.0, 1.0, 1.0, 1.0, 0.0, 0.0, 1.0, 1.0, 1.0, 0.0, 1.0, 1.0, 0.0, 0.0, 1.0, 1.0, 1.0, 1.0, 2.0, 1.0, 1.0, 2.0, 1.0, 1.0, 1.0, 1.0, 0.0, 0.0, 1.0, 1.0, 1.0, 0.0, 1.0, 1.0, 1.0, 0.0, 0.0, 1.0, 1.0, 1.0, 1.0, 1.0, 0.0, 1.0, 1.0, 1.0, 0.0, 1.0, 2.0, 0.0, 1.0, 2.0, 1.0, 1.0, 1.0, 1.0, 1.0, 0.0, 1.0, 1.0, 1.0, 1.0, 2.0, 1.0, 1.0, 1.0, 1.0, 1.0, 1.0, 1.0, 0.0, 1.0, 0.0, 0.0, 1.0, 1.0, 1.0, 0.0, 1.0, 1.0, 1.0, 1.0, 0.0, 1.0, 1.0, 0.0, 1.0, 1.0, 2.0, 0.0, 0.0, 1.0, 0.0, 1.0, 0.0, 0.0, 1.0, 1.0, 0.0, 1.0, 1.0, 1.0, 0.0, 1.0, 1.0, 1.0, 1.0, 0.0, 1.0, 1.0, 2.0, 0.0, 0.0, 1.0, 1.0, 1.0, 1.0, 0.0, 1.0, 2.0, 1.0, 1.0, 1.0, 1.0, 0.0, 1.0, 1.0, 1.0, 1.0, 0.0, 1.0, 1.0, 1.0, 1.0, 1.0, 1.0, 1.0, 0.0, 1.0, 0.0, 0.0, 1.0, 0.0, 2.0, 0.0, 1.0, 0.0, 1.0, 1.0, 0.0, 0.0, 0.0, 1.0, 1.0, 1.0, 1.0, 0.0, 1.0, 1.0, 1.0, 1.0, 1.0, 0.0, 1.0, 1.0, 1.0, 1.0, 1.0, 0.0, 1.0, 2.0, 1.0, 1.0, 2.0, 1.0, 1.0, 1.0, 1.0, 0.0, 1.0, 0.0, 1.0, 1.0, 1.0, 0.0, 0.0, 2.0, 1.0, 1.0, 1.0, 1.0, 1.0, 1.0, 1.0, 1.0, 1.0, 1.0, 0.0, 2.0, 1.0, 1.0, 1.0, 1.0, 1.0, 0.0, 1.0, 2.0, 0.0, 0.0, 1.0, 2.0, 1.0, 1.0, 1.0, 0.0, 2.0, 0.0, 1.0, 1.0, 1.0, 0.0, 2.0, 0.0, 1.0, 0.0, 0.0, 1.0, 2.0, 1.0, 1.0, 2.0, 1.0, 0.0, 1.0, 0.0, 1.0, 1.0, 1.0, 1.0, 2.0, 1.0, 0.0, 0.0, 1.0, 1.0, 0.0, 1.0, 1.0, 1.0, 1.0, 2.0, 0.0, 1.0, 1.0, 1.0, 1.0, 1.0, 1.0, 1.0, 0.0, 1.0, 1.0, 1.0, 1.0, 1.0, 1.0, 0.0, 0.0, 1.0, 1.0, 1.0, 1.0, 0.0, 1.0, 0.0, 0.0, 1.0, 1.0, 1.0, 0.0, 0.0, 1.0, 0.0, 1.0, 1.0, 0.0, 0.0, 1.0, 1.0, 1.0, 1.0, 1.0, 1.0, 1.0, 1.0, 1.0, 2.0, 0.0, 1.0, 1.0, 1.0, 1.0, 1.0, 1.0, 1.0, 0.0, 2.0, 1.0, 1.0, 1.0, 1.0, 0.0, 0.0, 1.0, 1.0, 1.0, 1.0, 0.0, 1.0, 1.0, 1.0, 1.0, 0.0, 0.0, 1.0, 1.0, 0.0, 0.0, 1.0, 0.0, 1.0, 1.0, 1.0, 0.0, 1.0, 1.0, 0.0, 1.0, 1.0, 0.0, 1.0, 0.0, 1.0, 1.0, 1.0, 1.0, 2.0, 1.0, 1.0, 1.0, 2.0, 1.0, 1.0, 1.0, 0.0, 1.0, 1.0, 0.0, 1.0, 1.0, 1.0, 0.0, 1.0, 0.0, 1.0, 0.0, 1.0, 1.0, 1.0, 0.0, 1.0, 0.0, 1.0, 1.0, 1.0, 1.0, 1.0, 1.0, 1.0, 0.0, 2.0, 1.0, 1.0, 2.0, 1.0, 1.0, 1.0, 1.0, 1.0, 1.0, 0.0, 1.0, 1.0, 2.0, 1.0, 1.0, 1.0, 2.0, 1.0, 1.0, 0.0, 1.0, 0.0, 1.0, 0.0, 1.0, 2.0, 1.0, 1.0, 1.0, 1.0, 1.0, 1.0, 1.0, 0.0, 0.0, 1.0, 1.0, 0.0, 2.0, 1.0, 0.0, 1.0, 1.0, 1.0, 1.0, 1.0, 1.0, 1.0, 0.0, 2.0, 1.0, 1.0, 1.0, 1.0, 0.0, 0.0, 1.0, 0.0, 1.0, 0.0, 1.0, 0.0, 1.0, 1.0, 1.0, 1.0, 1.0, 1.0, 2.0, 1.0, 0.0, 1.0, 1.0, 1.0, 1.0, 1.0, 2.0, 1.0, 1.0, 1.0, 1.0, 0.0, 1.0, 1.0, 0.0, 1.0, 1.0, 0.0, 1.0, 1.0, 2.0, 1.0, 1.0, 0.0, 1.0, 0.0, 0.0, 1.0, 1.0, 1.0, 1.0, 0.0, 0.0, 0.0, 1.0, 0.0, 1.0, 1.0, 1.0, 1.0, 1.0, 1.0, 1.0, 2.0, 1.0, 1.0, 1.0, 1.0, 0.0, 1.0, 0.0, 1.0, 1.0, 1.0, 1.0, 0.0, 1.0, 1.0, 1.0, 1.0, 1.0, 0.0, 1.0, 2.0, 1.0, 1.0, 1.0, 1.0, 1.0, 1.0, 1.0, 1.0, 2.0, 1.0, 2.0, 1.0, 0.0, 1.0, 2.0, 1.0, 1.0, 1.0, 1.0, 1.0, 1.0, 1.0, 1.0, 1.0, 1.0, 0.0, 1.0, 1.0, 1.0, 1.0, 1.0, 1.0, 1.0, 0.0, 1.0, 1.0, 1.0, 1.0, 1.0, 1.0, 1.0, 1.0, 1.0, 1.0, 0.0, 1.0, 1.0, 0.0, 1.0]\nfinal-> [0, 1, 1, 1, 1, 1, 2, 0, 1, 1, 0, 1, 0, 1, 1, 1, 0, 0, 1, 1, 1, 0, 1, 1, 0, 0, 1, 1, 1, 1, 2, 1, 1, 2, 1, 1, 1, 1, 0, 0, 1, 1, 1, 0, 1, 1, 1, 0, 0, 1, 1, 1, 1, 1, 0, 1, 1, 1, 0, 1, 2, 0, 1, 2, 1, 1, 1, 1, 1, 0, 1, 1, 1, 1, 2, 1, 1, 1, 1, 1, 1, 1, 0, 1, 0, 0, 1, 1, 1, 0, 1, 1, 1, 1, 0, 1, 1, 0, 1, 1, 2, 0, 0, 1, 0, 1, 0, 0, 1, 1, 0, 1, 1, 1, 0, 1, 1, 1, 1, 0, 1, 1, 2, 0, 0, 1, 1, 1, 1, 0, 1, 2, 1, 1, 1, 1, 0, 1, 1, 1, 1, 0, 1, 1, 1, 1, 1, 1, 1, 0, 1, 0, 0, 1, 0, 2, 0, 1, 0, 1, 1, 0, 0, 0, 1, 1, 1, 1, 0, 1, 1, 1, 1, 1, 0, 1, 1, 1, 1, 1, 0, 1, 2, 1, 1, 2, 1, 1, 1, 1, 0, 1, 0, 1, 1, 1, 0, 0, 2, 1, 1, 1, 1, 1, 1, 1, 1, 1, 1, 0, 2, 1, 1, 1, 1, 1, 0, 1, 2, 0, 0, 1, 2, 1, 1, 1, 0, 2, 0, 1, 1, 1, 0, 2, 0, 1, 0, 0, 1, 2, 1, 1, 2, 1, 0, 1, 0, 1, 1, 1, 1, 2, 1, 0, 0, 1, 1, 0, 1, 1, 1, 1, 2, 0, 1, 1, 1, 1, 1, 1, 1, 0, 1, 1, 1, 1, 1, 1, 0, 0, 1, 1, 1, 1, 0, 1, 0, 0, 1, 1, 1, 0, 0, 1, 0, 1, 1, 0, 0, 1, 1, 1, 1, 1, 1, 1, 1, 1, 2, 0, 1, 1, 1, 1, 1, 1, 1, 0, 2, 1, 1, 1, 1, 0, 0, 1, 1, 1, 1, 0, 1, 1, 1, 1, 0, 0, 1, 1, 0, 0, 1, 0, 1, 1, 1, 0, 1, 1, 0, 1, 1, 0, 1, 0, 1, 1, 1, 1, 2, 1, 1, 1, 2, 1, 1, 1, 0, 1, 1, 0, 1, 1, 1, 0, 1, 0, 1, 0, 1, 1, 1, 0, 1, 0, 1, 1, 1, 1, 1, 1, 1, 0, 2, 1, 1, 2, 1, 1, 1, 1, 1, 1, 0, 1, 1, 2, 1, 1, 1, 2, 1, 1, 0, 1, 0, 1, 0, 1, 2, 1, 1, 1, 1, 1, 1, 1, 0, 0, 1, 1, 0, 2, 1, 0, 1, 1, 1, 1, 1, 1, 1, 0, 2, 1, 1, 1, 1, 0, 0, 1, 0, 1, 0, 1, 0, 1, 1, 1, 1, 1, 1, 2, 1, 0, 1, 1, 1, 1, 1, 2, 1, 1, 1, 1, 0, 1, 1, 0, 1, 1, 0, 1, 1, 2, 1, 1, 0, 1, 0, 0, 1, 1, 1, 1, 0, 0, 0, 1, 0, 1, 1, 1, 1, 1, 1, 1, 2, 1, 1, 1, 1, 0, 1, 0, 1, 1, 1, 1, 0, 1, 1, 1, 1, 1, 0, 1, 2, 1, 1, 1, 1, 1, 1, 1, 1, 2, 1, 2, 1, 0, 1, 2, 1, 1, 1, 1, 1, 1, 1, 1, 1, 1, 0, 1, 1, 1, 1, 1, 1, 1, 0, 1, 1, 1, 1, 1, 1, 1, 1, 1, 1, 0, 1, 1, 0, 1]\nModified list is:  [0.0, 1.0, 2.0, 1.0, 1.0, 0.0, 2.0, 0.0, 1.0, 0.0, 1.0, 1.0, 0.0, 1.0, 1.0, 1.0, 1.0, 1.0, 1.0, 2.0, 1.0, 1.0, 1.0, 0.0, 1.0, 1.0, 1.0, 0.0, 2.0, 0.0, 1.0, 0.0, 2.0, 0.0, 1.0, 0.0, 0.0, 1.0, 1.0, 0.0, 1.0, 1.0, 1.0, 0.0, 0.0, 0.0, 1.0, 1.0, 1.0, 1.0, 0.0, 1.0, 1.0, 1.0, 0.0, 1.0, 0.0, 0.0, 1.0, 1.0, 1.0, 0.0, 1.0, 0.0, 0.0, 0.0, 0.0, 1.0, 0.0, 0.0, 0.0, 1.0, 1.0, 1.0, 1.0, 1.0, 0.0, 1.0, 1.0, 0.0, 0.0, 1.0, 2.0, 1.0, 1.0, 0.0, 1.0, 0.0, 1.0, 1.0, 1.0, 1.0, 0.0, 1.0, 1.0, 1.0, 0.0, 2.0, 1.0, 1.0, 1.0, 1.0, 0.0, 1.0, 1.0, 0.0, 0.0, 1.0, 1.0, 0.0, 1.0, 1.0, 1.0, 1.0, 1.0, 0.0, 1.0, 1.0, 1.0, 1.0, 0.0, 1.0, 1.0, 0.0, 1.0, 1.0, 0.0, 0.0, 0.0, 0.0, 0.0, 1.0, 2.0, 1.0, 1.0, 1.0, 1.0, 0.0, 2.0, 1.0, 1.0, 1.0, 0.0, 1.0, 0.0, 2.0, 1.0, 1.0, 1.0, 1.0, 1.0, 1.0, 1.0, 1.0, 1.0, 2.0, 1.0, 1.0, 1.0, 0.0, 1.0, 1.0, 1.0, 1.0, 1.0, 1.0, 1.0, 1.0, 1.0, 1.0, 1.0, 1.0, 2.0, 1.0, 1.0, 2.0, 1.0, 1.0, 1.0, 1.0, 1.0, 1.0, 1.0, 0.0, 1.0, 1.0, 1.0, 1.0, 1.0, 1.0, 1.0, 0.0, 1.0, 1.0, 1.0, 1.0, 0.0, 0.0, 0.0, 1.0, 1.0, 2.0, 0.0, 1.0, 1.0, 1.0, 1.0, 1.0, 0.0, 0.0, 1.0, 1.0, 2.0, 1.0, 2.0, 0.0, 1.0, 2.0, 1.0, 0.0, 1.0, 1.0, 0.0, 0.0, 1.0, 0.0, 1.0, 1.0, 0.0, 1.0, 1.0, 1.0, 1.0, 1.0, 2.0, 2.0, 0.0, 1.0, 1.0, 2.0, 1.0, 1.0, 1.0, 1.0, 1.0, 1.0, 2.0, 1.0, 1.0, 1.0, 1.0, 2.0, 2.0, 1.0, 1.0, 1.0, 1.0, 1.0, 1.0, 1.0, 1.0, 0.0, 1.0, 0.0, 1.0, 2.0, 1.0, 1.0, 2.0, 1.0, 1.0, 0.0, 1.0, 1.0, 0.0, 2.0, 1.0, 1.0, 1.0, 2.0, 1.0, 1.0, 0.0, 1.0, 1.0, 0.0, 1.0, 1.0, 1.0, 1.0, 1.0, 1.0, 1.0, 1.0, 1.0, 1.0, 1.0, 0.0, 1.0, 1.0, 1.0, 2.0, 1.0, 0.0, 1.0, 1.0, 1.0, 1.0, 1.0, 2.0, 1.0, 2.0, 0.0, 0.0, 1.0, 1.0, 1.0, 0.0, 0.0, 1.0, 1.0, 1.0, 1.0, 0.0, 2.0, 1.0, 1.0, 1.0, 1.0, 1.0, 1.0, 1.0, 1.0, 0.0, 1.0, 1.0, 0.0, 1.0, 0.0, 1.0, 1.0, 1.0, 1.0, 1.0, 1.0, 1.0, 2.0, 0.0, 1.0, 1.0, 0.0, 0.0, 0.0, 1.0, 1.0, 1.0, 1.0, 0.0, 0.0, 1.0, 1.0, 0.0, 0.0, 1.0, 1.0, 1.0, 1.0, 1.0, 1.0, 2.0, 1.0, 1.0, 0.0, 0.0, 1.0, 1.0, 1.0, 0.0, 1.0, 1.0, 1.0, 1.0, 1.0, 1.0]\nfinal-> [0, 1, 2, 1, 1, 0, 2, 0, 1, 0, 1, 1, 0, 1, 1, 1, 1, 1, 1, 2, 1, 1, 1, 0, 1, 1, 1, 0, 2, 0, 1, 0, 2, 0, 1, 0, 0, 1, 1, 0, 1, 1, 1, 0, 0, 0, 1, 1, 1, 1, 0, 1, 1, 1, 0, 1, 0, 0, 1, 1, 1, 0, 1, 0, 0, 0, 0, 1, 0, 0, 0, 1, 1, 1, 1, 1, 0, 1, 1, 0, 0, 1, 2, 1, 1, 0, 1, 0, 1, 1, 1, 1, 0, 1, 1, 1, 0, 2, 1, 1, 1, 1, 0, 1, 1, 0, 0, 1, 1, 0, 1, 1, 1, 1, 1, 0, 1, 1, 1, 1, 0, 1, 1, 0, 1, 1, 0, 0, 0, 0, 0, 1, 2, 1, 1, 1, 1, 0, 2, 1, 1, 1, 0, 1, 0, 2, 1, 1, 1, 1, 1, 1, 1, 1, 1, 2, 1, 1, 1, 0, 1, 1, 1, 1, 1, 1, 1, 1, 1, 1, 1, 1, 2, 1, 1, 2, 1, 1, 1, 1, 1, 1, 1, 0, 1, 1, 1, 1, 1, 1, 1, 0, 1, 1, 1, 1, 0, 0, 0, 1, 1, 2, 0, 1, 1, 1, 1, 1, 0, 0, 1, 1, 2, 1, 2, 0, 1, 2, 1, 0, 1, 1, 0, 0, 1, 0, 1, 1, 0, 1, 1, 1, 1, 1, 2, 2, 0, 1, 1, 2, 1, 1, 1, 1, 1, 1, 2, 1, 1, 1, 1, 2, 2, 1, 1, 1, 1, 1, 1, 1, 1, 0, 1, 0, 1, 2, 1, 1, 2, 1, 1, 0, 1, 1, 0, 2, 1, 1, 1, 2, 1, 1, 0, 1, 1, 0, 1, 1, 1, 1, 1, 1, 1, 1, 1, 1, 1, 0, 1, 1, 1, 2, 1, 0, 1, 1, 1, 1, 1, 2, 1, 2, 0, 0, 1, 1, 1, 0, 0, 1, 1, 1, 1, 0, 2, 1, 1, 1, 1, 1, 1, 1, 1, 0, 1, 1, 0, 1, 0, 1, 1, 1, 1, 1, 1, 1, 2, 0, 1, 1, 0, 0, 0, 1, 1, 1, 1, 0, 0, 1, 1, 0, 0, 1, 1, 1, 1, 1, 1, 2, 1, 1, 0, 0, 1, 1, 1, 0, 1, 1, 1, 1, 1, 1]\n",
          "output_type": "stream"
        }
      ]
    },
    {
      "cell_type": "code",
      "source": [
        "train_params = {'batch_size': TRAIN_BATCH_SIZE,\n",
        "                'shuffle': False,\n",
        "                'num_workers': 0\n",
        "                }\n",
        "\n",
        "test_params = {'batch_size': VALID_BATCH_SIZE,\n",
        "                'shuffle': False,\n",
        "                'num_workers': 0\n",
        "                }\n",
        "\n",
        "training_loader1 = DataLoader(training_set1, **train_params)\n",
        "testing_loader1 = DataLoader(testing_set1, **test_params)\n",
        "\n",
        "training_loader2 = DataLoader(training_set2, **train_params)\n",
        "testing_loader2 = DataLoader(testing_set2, **test_params)\n",
        "\n",
        "training_loader3 = DataLoader(training_set3, **train_params)\n",
        "testing_loader3 = DataLoader(testing_set3, **test_params)"
      ],
      "metadata": {
        "execution": {
          "iopub.status.busy": "2023-03-11T05:01:33.767191Z",
          "iopub.execute_input": "2023-03-11T05:01:33.767988Z",
          "iopub.status.idle": "2023-03-11T05:01:33.777309Z",
          "shell.execute_reply.started": "2023-03-11T05:01:33.767943Z",
          "shell.execute_reply": "2023-03-11T05:01:33.775668Z"
        },
        "trusted": true,
        "id": "pk8SXgkrB7NE"
      },
      "execution_count": null,
      "outputs": []
    },
    {
      "cell_type": "code",
      "source": [
        "weights = [.762, .316, .923]\n",
        "class_weights=torch.tensor(weights,dtype=torch.float)\n",
        "loss_function = torch.nn.CrossEntropyLoss(weight = class_weights)"
      ],
      "metadata": {
        "execution": {
          "iopub.status.busy": "2023-03-11T05:01:37.497924Z",
          "iopub.execute_input": "2023-03-11T05:01:37.498508Z",
          "iopub.status.idle": "2023-03-11T05:01:37.531311Z",
          "shell.execute_reply.started": "2023-03-11T05:01:37.498452Z",
          "shell.execute_reply": "2023-03-11T05:01:37.529340Z"
        },
        "trusted": true,
        "id": "NQlFikCOB7NF"
      },
      "execution_count": null,
      "outputs": []
    },
    {
      "cell_type": "code",
      "source": [
        "class BerniceClass(torch.nn.Module):\n",
        "    def __init__(self):\n",
        "        super(BerniceClass, self).__init__()\n",
        "        self.l1 = AutoModelForMaskedLM.from_pretrained(\"jhu-clsp/bernice\")\n",
        "        #self.pre_classifier = torch.nn.Linear(768, 768)\n",
        "        #self.pre_classifier = torch.nn.Linear(768, 68)\n",
        "        self.pre_classifier = torch.nn.Linear(250000, 68)\n",
        "        self.dropout = torch.nn.Dropout(0.3)\n",
        "        self.classifier = torch.nn.Linear(68, 3)\n",
        "        self.loss_fn = loss_function\n",
        "\n",
        "    def forward(self, input_ids, attention_mask, token_type_ids):\n",
        "        output_1 = self.l1(input_ids=input_ids, attention_mask=attention_mask, token_type_ids=token_type_ids)\n",
        "        hidden_state = output_1[0]\n",
        "        pooler = hidden_state[:, 0]\n",
        "        pooler = self.pre_classifier(pooler)\n",
        "        pooler = torch.nn.ReLU()(pooler)\n",
        "        pooler = self.dropout(pooler)\n",
        "        output = self.classifier(pooler)\n",
        "        return output"
      ],
      "metadata": {
        "execution": {
          "iopub.status.busy": "2023-03-11T05:01:39.912194Z",
          "iopub.execute_input": "2023-03-11T05:01:39.912810Z",
          "iopub.status.idle": "2023-03-11T05:01:39.928073Z",
          "shell.execute_reply.started": "2023-03-11T05:01:39.912729Z",
          "shell.execute_reply": "2023-03-11T05:01:39.926091Z"
        },
        "trusted": true,
        "id": "oc-hElTiB7NF"
      },
      "execution_count": null,
      "outputs": []
    },
    {
      "cell_type": "code",
      "source": [
        "class TwhinClass(torch.nn.Module):\n",
        "    def __init__(self):\n",
        "        super(TwhinClass, self).__init__()\n",
        "        self.l1 = AutoModelForMaskedLM.from_pretrained(\"Twitter/twhin-bert-base\")\n",
        "        self.pre_classifier = torch.nn.Linear(250002, 68)\n",
        "        self.dropout = torch.nn.Dropout(0.3)\n",
        "        self.classifier = torch.nn.Linear(68, 3)\n",
        "        self.loss_fn = loss_function\n",
        "\n",
        "    def forward(self, input_ids, attention_mask, token_type_ids):\n",
        "        output_1 = self.l1(input_ids=input_ids, attention_mask=attention_mask, token_type_ids=token_type_ids)\n",
        "        hidden_state = output_1[0]\n",
        "        pooler = hidden_state[:, 0]\n",
        "        pooler = self.pre_classifier(pooler)\n",
        "        pooler = torch.nn.ReLU()(pooler)\n",
        "        pooler = self.dropout(pooler)\n",
        "        output = self.classifier(pooler)\n",
        "        return output"
      ],
      "metadata": {
        "execution": {
          "iopub.status.busy": "2023-03-11T05:01:43.360456Z",
          "iopub.execute_input": "2023-03-11T05:01:43.361932Z",
          "iopub.status.idle": "2023-03-11T05:01:43.373905Z",
          "shell.execute_reply.started": "2023-03-11T05:01:43.361879Z",
          "shell.execute_reply": "2023-03-11T05:01:43.372373Z"
        },
        "trusted": true,
        "id": "F3OEsAbkB7NF"
      },
      "execution_count": null,
      "outputs": []
    },
    {
      "cell_type": "code",
      "source": [
        "class MURILClass(torch.nn.Module):\n",
        "    def __init__(self):\n",
        "        super(MURILClass, self).__init__()\n",
        "        #self.l1 = AutoModel.from_pretrained(\"ai4bharat/indic-bert\")\n",
        "        self.l1 = AutoModelForMaskedLM.from_pretrained(\"google/muril-base-cased\")\n",
        "        #self.pre_classifier = torch.nn.Linear(768, 768)\n",
        "        self.pre_classifier = torch.nn.Linear(197285, 68)\n",
        "        self.dropout = torch.nn.Dropout(0.3)\n",
        "        self.classifier = torch.nn.Linear(68, 3)\n",
        "        self.loss_fn=loss_function\n",
        "\n",
        "    def forward(self, input_ids, attention_mask, token_type_ids):\n",
        "        output_1 = self.l1(input_ids=input_ids, attention_mask=attention_mask, token_type_ids=token_type_ids)\n",
        "        hidden_state = output_1[0]\n",
        "        pooler = hidden_state[:, 0]\n",
        "        pooler = self.pre_classifier(pooler)\n",
        "        pooler = torch.nn.ReLU()(pooler)\n",
        "        pooler = self.dropout(pooler)\n",
        "        output = self.classifier(pooler)\n",
        "        return output"
      ],
      "metadata": {
        "execution": {
          "iopub.status.busy": "2023-03-11T05:01:49.501208Z",
          "iopub.execute_input": "2023-03-11T05:01:49.501691Z",
          "iopub.status.idle": "2023-03-11T05:01:49.514697Z",
          "shell.execute_reply.started": "2023-03-11T05:01:49.501651Z",
          "shell.execute_reply": "2023-03-11T05:01:49.512008Z"
        },
        "trusted": true,
        "id": "D703YIBDB7NG"
      },
      "execution_count": null,
      "outputs": []
    },
    {
      "cell_type": "code",
      "source": [
        "model1 = BerniceClass()\n",
        "model1.to(device)\n",
        "\n",
        "model2 = TwhinClass()\n",
        "model2.to(device)\n",
        "\n",
        "model3 = MURILClass()\n",
        "model3.to(device)\n"
      ],
      "metadata": {
        "execution": {
          "iopub.status.busy": "2023-03-11T05:01:52.091261Z",
          "iopub.execute_input": "2023-03-11T05:01:52.091734Z",
          "iopub.status.idle": "2023-03-11T05:04:58.166841Z",
          "shell.execute_reply.started": "2023-03-11T05:01:52.091692Z",
          "shell.execute_reply": "2023-03-11T05:04:58.164913Z"
        },
        "trusted": true,
        "id": "whmJgYiaB7NG",
        "outputId": "ed1302b7-949a-4322-d641-bd7bf23e5aba",
        "colab": {
          "referenced_widgets": [
            "c817c18fc7734ce485f459d419bf987d",
            "a0ba97e905a44628a13092933f6c92cd",
            "881a623d39fa4462b4856e2a4a6c7844",
            "cdf6853c24524ceda3f040b072c53a85"
          ]
        }
      },
      "execution_count": null,
      "outputs": [
        {
          "output_type": "display_data",
          "data": {
            "text/plain": "Downloading (…)\"pytorch_model.bin\";:   0%|          | 0.00/1.12G [00:00<?, ?B/s]",
            "application/vnd.jupyter.widget-view+json": {
              "version_major": 2,
              "version_minor": 0,
              "model_id": "c817c18fc7734ce485f459d419bf987d"
            }
          },
          "metadata": {}
        },
        {
          "output_type": "display_data",
          "data": {
            "text/plain": "Downloading (…)lve/main/config.json:   0%|          | 0.00/632 [00:00<?, ?B/s]",
            "application/vnd.jupyter.widget-view+json": {
              "version_major": 2,
              "version_minor": 0,
              "model_id": "a0ba97e905a44628a13092933f6c92cd"
            }
          },
          "metadata": {}
        },
        {
          "output_type": "display_data",
          "data": {
            "text/plain": "Downloading (…)\"pytorch_model.bin\";:   0%|          | 0.00/1.12G [00:00<?, ?B/s]",
            "application/vnd.jupyter.widget-view+json": {
              "version_major": 2,
              "version_minor": 0,
              "model_id": "881a623d39fa4462b4856e2a4a6c7844"
            }
          },
          "metadata": {}
        },
        {
          "output_type": "display_data",
          "data": {
            "text/plain": "Downloading (…)\"pytorch_model.bin\";:   0%|          | 0.00/953M [00:00<?, ?B/s]",
            "application/vnd.jupyter.widget-view+json": {
              "version_major": 2,
              "version_minor": 0,
              "model_id": "cdf6853c24524ceda3f040b072c53a85"
            }
          },
          "metadata": {}
        },
        {
          "name": "stderr",
          "text": "Some weights of the model checkpoint at google/muril-base-cased were not used when initializing BertForMaskedLM: ['cls.seq_relationship.weight', 'cls.seq_relationship.bias']\n- This IS expected if you are initializing BertForMaskedLM from the checkpoint of a model trained on another task or with another architecture (e.g. initializing a BertForSequenceClassification model from a BertForPreTraining model).\n- This IS NOT expected if you are initializing BertForMaskedLM from the checkpoint of a model that you expect to be exactly identical (initializing a BertForSequenceClassification model from a BertForSequenceClassification model).\n",
          "output_type": "stream"
        },
        {
          "execution_count": 19,
          "output_type": "execute_result",
          "data": {
            "text/plain": "MURILClass(\n  (l1): BertForMaskedLM(\n    (bert): BertModel(\n      (embeddings): BertEmbeddings(\n        (word_embeddings): Embedding(197285, 768, padding_idx=0)\n        (position_embeddings): Embedding(512, 768)\n        (token_type_embeddings): Embedding(2, 768)\n        (LayerNorm): LayerNorm((768,), eps=1e-12, elementwise_affine=True)\n        (dropout): Dropout(p=0.1, inplace=False)\n      )\n      (encoder): BertEncoder(\n        (layer): ModuleList(\n          (0): BertLayer(\n            (attention): BertAttention(\n              (self): BertSelfAttention(\n                (query): Linear(in_features=768, out_features=768, bias=True)\n                (key): Linear(in_features=768, out_features=768, bias=True)\n                (value): Linear(in_features=768, out_features=768, bias=True)\n                (dropout): Dropout(p=0.1, inplace=False)\n              )\n              (output): BertSelfOutput(\n                (dense): Linear(in_features=768, out_features=768, bias=True)\n                (LayerNorm): LayerNorm((768,), eps=1e-12, elementwise_affine=True)\n                (dropout): Dropout(p=0.1, inplace=False)\n              )\n            )\n            (intermediate): BertIntermediate(\n              (dense): Linear(in_features=768, out_features=3072, bias=True)\n              (intermediate_act_fn): GELUActivation()\n            )\n            (output): BertOutput(\n              (dense): Linear(in_features=3072, out_features=768, bias=True)\n              (LayerNorm): LayerNorm((768,), eps=1e-12, elementwise_affine=True)\n              (dropout): Dropout(p=0.1, inplace=False)\n            )\n          )\n          (1): BertLayer(\n            (attention): BertAttention(\n              (self): BertSelfAttention(\n                (query): Linear(in_features=768, out_features=768, bias=True)\n                (key): Linear(in_features=768, out_features=768, bias=True)\n                (value): Linear(in_features=768, out_features=768, bias=True)\n                (dropout): Dropout(p=0.1, inplace=False)\n              )\n              (output): BertSelfOutput(\n                (dense): Linear(in_features=768, out_features=768, bias=True)\n                (LayerNorm): LayerNorm((768,), eps=1e-12, elementwise_affine=True)\n                (dropout): Dropout(p=0.1, inplace=False)\n              )\n            )\n            (intermediate): BertIntermediate(\n              (dense): Linear(in_features=768, out_features=3072, bias=True)\n              (intermediate_act_fn): GELUActivation()\n            )\n            (output): BertOutput(\n              (dense): Linear(in_features=3072, out_features=768, bias=True)\n              (LayerNorm): LayerNorm((768,), eps=1e-12, elementwise_affine=True)\n              (dropout): Dropout(p=0.1, inplace=False)\n            )\n          )\n          (2): BertLayer(\n            (attention): BertAttention(\n              (self): BertSelfAttention(\n                (query): Linear(in_features=768, out_features=768, bias=True)\n                (key): Linear(in_features=768, out_features=768, bias=True)\n                (value): Linear(in_features=768, out_features=768, bias=True)\n                (dropout): Dropout(p=0.1, inplace=False)\n              )\n              (output): BertSelfOutput(\n                (dense): Linear(in_features=768, out_features=768, bias=True)\n                (LayerNorm): LayerNorm((768,), eps=1e-12, elementwise_affine=True)\n                (dropout): Dropout(p=0.1, inplace=False)\n              )\n            )\n            (intermediate): BertIntermediate(\n              (dense): Linear(in_features=768, out_features=3072, bias=True)\n              (intermediate_act_fn): GELUActivation()\n            )\n            (output): BertOutput(\n              (dense): Linear(in_features=3072, out_features=768, bias=True)\n              (LayerNorm): LayerNorm((768,), eps=1e-12, elementwise_affine=True)\n              (dropout): Dropout(p=0.1, inplace=False)\n            )\n          )\n          (3): BertLayer(\n            (attention): BertAttention(\n              (self): BertSelfAttention(\n                (query): Linear(in_features=768, out_features=768, bias=True)\n                (key): Linear(in_features=768, out_features=768, bias=True)\n                (value): Linear(in_features=768, out_features=768, bias=True)\n                (dropout): Dropout(p=0.1, inplace=False)\n              )\n              (output): BertSelfOutput(\n                (dense): Linear(in_features=768, out_features=768, bias=True)\n                (LayerNorm): LayerNorm((768,), eps=1e-12, elementwise_affine=True)\n                (dropout): Dropout(p=0.1, inplace=False)\n              )\n            )\n            (intermediate): BertIntermediate(\n              (dense): Linear(in_features=768, out_features=3072, bias=True)\n              (intermediate_act_fn): GELUActivation()\n            )\n            (output): BertOutput(\n              (dense): Linear(in_features=3072, out_features=768, bias=True)\n              (LayerNorm): LayerNorm((768,), eps=1e-12, elementwise_affine=True)\n              (dropout): Dropout(p=0.1, inplace=False)\n            )\n          )\n          (4): BertLayer(\n            (attention): BertAttention(\n              (self): BertSelfAttention(\n                (query): Linear(in_features=768, out_features=768, bias=True)\n                (key): Linear(in_features=768, out_features=768, bias=True)\n                (value): Linear(in_features=768, out_features=768, bias=True)\n                (dropout): Dropout(p=0.1, inplace=False)\n              )\n              (output): BertSelfOutput(\n                (dense): Linear(in_features=768, out_features=768, bias=True)\n                (LayerNorm): LayerNorm((768,), eps=1e-12, elementwise_affine=True)\n                (dropout): Dropout(p=0.1, inplace=False)\n              )\n            )\n            (intermediate): BertIntermediate(\n              (dense): Linear(in_features=768, out_features=3072, bias=True)\n              (intermediate_act_fn): GELUActivation()\n            )\n            (output): BertOutput(\n              (dense): Linear(in_features=3072, out_features=768, bias=True)\n              (LayerNorm): LayerNorm((768,), eps=1e-12, elementwise_affine=True)\n              (dropout): Dropout(p=0.1, inplace=False)\n            )\n          )\n          (5): BertLayer(\n            (attention): BertAttention(\n              (self): BertSelfAttention(\n                (query): Linear(in_features=768, out_features=768, bias=True)\n                (key): Linear(in_features=768, out_features=768, bias=True)\n                (value): Linear(in_features=768, out_features=768, bias=True)\n                (dropout): Dropout(p=0.1, inplace=False)\n              )\n              (output): BertSelfOutput(\n                (dense): Linear(in_features=768, out_features=768, bias=True)\n                (LayerNorm): LayerNorm((768,), eps=1e-12, elementwise_affine=True)\n                (dropout): Dropout(p=0.1, inplace=False)\n              )\n            )\n            (intermediate): BertIntermediate(\n              (dense): Linear(in_features=768, out_features=3072, bias=True)\n              (intermediate_act_fn): GELUActivation()\n            )\n            (output): BertOutput(\n              (dense): Linear(in_features=3072, out_features=768, bias=True)\n              (LayerNorm): LayerNorm((768,), eps=1e-12, elementwise_affine=True)\n              (dropout): Dropout(p=0.1, inplace=False)\n            )\n          )\n          (6): BertLayer(\n            (attention): BertAttention(\n              (self): BertSelfAttention(\n                (query): Linear(in_features=768, out_features=768, bias=True)\n                (key): Linear(in_features=768, out_features=768, bias=True)\n                (value): Linear(in_features=768, out_features=768, bias=True)\n                (dropout): Dropout(p=0.1, inplace=False)\n              )\n              (output): BertSelfOutput(\n                (dense): Linear(in_features=768, out_features=768, bias=True)\n                (LayerNorm): LayerNorm((768,), eps=1e-12, elementwise_affine=True)\n                (dropout): Dropout(p=0.1, inplace=False)\n              )\n            )\n            (intermediate): BertIntermediate(\n              (dense): Linear(in_features=768, out_features=3072, bias=True)\n              (intermediate_act_fn): GELUActivation()\n            )\n            (output): BertOutput(\n              (dense): Linear(in_features=3072, out_features=768, bias=True)\n              (LayerNorm): LayerNorm((768,), eps=1e-12, elementwise_affine=True)\n              (dropout): Dropout(p=0.1, inplace=False)\n            )\n          )\n          (7): BertLayer(\n            (attention): BertAttention(\n              (self): BertSelfAttention(\n                (query): Linear(in_features=768, out_features=768, bias=True)\n                (key): Linear(in_features=768, out_features=768, bias=True)\n                (value): Linear(in_features=768, out_features=768, bias=True)\n                (dropout): Dropout(p=0.1, inplace=False)\n              )\n              (output): BertSelfOutput(\n                (dense): Linear(in_features=768, out_features=768, bias=True)\n                (LayerNorm): LayerNorm((768,), eps=1e-12, elementwise_affine=True)\n                (dropout): Dropout(p=0.1, inplace=False)\n              )\n            )\n            (intermediate): BertIntermediate(\n              (dense): Linear(in_features=768, out_features=3072, bias=True)\n              (intermediate_act_fn): GELUActivation()\n            )\n            (output): BertOutput(\n              (dense): Linear(in_features=3072, out_features=768, bias=True)\n              (LayerNorm): LayerNorm((768,), eps=1e-12, elementwise_affine=True)\n              (dropout): Dropout(p=0.1, inplace=False)\n            )\n          )\n          (8): BertLayer(\n            (attention): BertAttention(\n              (self): BertSelfAttention(\n                (query): Linear(in_features=768, out_features=768, bias=True)\n                (key): Linear(in_features=768, out_features=768, bias=True)\n                (value): Linear(in_features=768, out_features=768, bias=True)\n                (dropout): Dropout(p=0.1, inplace=False)\n              )\n              (output): BertSelfOutput(\n                (dense): Linear(in_features=768, out_features=768, bias=True)\n                (LayerNorm): LayerNorm((768,), eps=1e-12, elementwise_affine=True)\n                (dropout): Dropout(p=0.1, inplace=False)\n              )\n            )\n            (intermediate): BertIntermediate(\n              (dense): Linear(in_features=768, out_features=3072, bias=True)\n              (intermediate_act_fn): GELUActivation()\n            )\n            (output): BertOutput(\n              (dense): Linear(in_features=3072, out_features=768, bias=True)\n              (LayerNorm): LayerNorm((768,), eps=1e-12, elementwise_affine=True)\n              (dropout): Dropout(p=0.1, inplace=False)\n            )\n          )\n          (9): BertLayer(\n            (attention): BertAttention(\n              (self): BertSelfAttention(\n                (query): Linear(in_features=768, out_features=768, bias=True)\n                (key): Linear(in_features=768, out_features=768, bias=True)\n                (value): Linear(in_features=768, out_features=768, bias=True)\n                (dropout): Dropout(p=0.1, inplace=False)\n              )\n              (output): BertSelfOutput(\n                (dense): Linear(in_features=768, out_features=768, bias=True)\n                (LayerNorm): LayerNorm((768,), eps=1e-12, elementwise_affine=True)\n                (dropout): Dropout(p=0.1, inplace=False)\n              )\n            )\n            (intermediate): BertIntermediate(\n              (dense): Linear(in_features=768, out_features=3072, bias=True)\n              (intermediate_act_fn): GELUActivation()\n            )\n            (output): BertOutput(\n              (dense): Linear(in_features=3072, out_features=768, bias=True)\n              (LayerNorm): LayerNorm((768,), eps=1e-12, elementwise_affine=True)\n              (dropout): Dropout(p=0.1, inplace=False)\n            )\n          )\n          (10): BertLayer(\n            (attention): BertAttention(\n              (self): BertSelfAttention(\n                (query): Linear(in_features=768, out_features=768, bias=True)\n                (key): Linear(in_features=768, out_features=768, bias=True)\n                (value): Linear(in_features=768, out_features=768, bias=True)\n                (dropout): Dropout(p=0.1, inplace=False)\n              )\n              (output): BertSelfOutput(\n                (dense): Linear(in_features=768, out_features=768, bias=True)\n                (LayerNorm): LayerNorm((768,), eps=1e-12, elementwise_affine=True)\n                (dropout): Dropout(p=0.1, inplace=False)\n              )\n            )\n            (intermediate): BertIntermediate(\n              (dense): Linear(in_features=768, out_features=3072, bias=True)\n              (intermediate_act_fn): GELUActivation()\n            )\n            (output): BertOutput(\n              (dense): Linear(in_features=3072, out_features=768, bias=True)\n              (LayerNorm): LayerNorm((768,), eps=1e-12, elementwise_affine=True)\n              (dropout): Dropout(p=0.1, inplace=False)\n            )\n          )\n          (11): BertLayer(\n            (attention): BertAttention(\n              (self): BertSelfAttention(\n                (query): Linear(in_features=768, out_features=768, bias=True)\n                (key): Linear(in_features=768, out_features=768, bias=True)\n                (value): Linear(in_features=768, out_features=768, bias=True)\n                (dropout): Dropout(p=0.1, inplace=False)\n              )\n              (output): BertSelfOutput(\n                (dense): Linear(in_features=768, out_features=768, bias=True)\n                (LayerNorm): LayerNorm((768,), eps=1e-12, elementwise_affine=True)\n                (dropout): Dropout(p=0.1, inplace=False)\n              )\n            )\n            (intermediate): BertIntermediate(\n              (dense): Linear(in_features=768, out_features=3072, bias=True)\n              (intermediate_act_fn): GELUActivation()\n            )\n            (output): BertOutput(\n              (dense): Linear(in_features=3072, out_features=768, bias=True)\n              (LayerNorm): LayerNorm((768,), eps=1e-12, elementwise_affine=True)\n              (dropout): Dropout(p=0.1, inplace=False)\n            )\n          )\n        )\n      )\n    )\n    (cls): BertOnlyMLMHead(\n      (predictions): BertLMPredictionHead(\n        (transform): BertPredictionHeadTransform(\n          (dense): Linear(in_features=768, out_features=768, bias=True)\n          (transform_act_fn): GELUActivation()\n          (LayerNorm): LayerNorm((768,), eps=1e-12, elementwise_affine=True)\n        )\n        (decoder): Linear(in_features=768, out_features=197285, bias=True)\n      )\n    )\n  )\n  (pre_classifier): Linear(in_features=197285, out_features=68, bias=True)\n  (dropout): Dropout(p=0.3, inplace=False)\n  (classifier): Linear(in_features=68, out_features=3, bias=True)\n  (loss_fn): CrossEntropyLoss()\n)"
          },
          "metadata": {}
        }
      ]
    },
    {
      "cell_type": "code",
      "source": [
        "# Creating optimizer\n",
        "optimizer1 = torch.optim.SGD(params =  model1.parameters(), lr=LEARNING_RATE)\n",
        "optimizer2 = torch.optim.SGD(params =  model2.parameters(), lr=LEARNING_RATE)\n",
        "optimizer3 = torch.optim.SGD(params =  model3.parameters(), lr=LEARNING_RATE)"
      ],
      "metadata": {
        "execution": {
          "iopub.status.busy": "2023-03-11T05:05:06.314571Z",
          "iopub.execute_input": "2023-03-11T05:05:06.316187Z",
          "iopub.status.idle": "2023-03-11T05:05:06.330543Z",
          "shell.execute_reply.started": "2023-03-11T05:05:06.316116Z",
          "shell.execute_reply": "2023-03-11T05:05:06.327586Z"
        },
        "trusted": true,
        "id": "vfFp5iSLB7NG"
      },
      "execution_count": null,
      "outputs": []
    },
    {
      "cell_type": "code",
      "source": [
        "print(\"Load the predictions of Model 4\")\n",
        "data = pd.read_csv('/kaggle/input/setting4-txt-output-m4-m5/final_prediction4_S2_U.txt', sep=\",\", header = None)\n",
        "#print(data)"
      ],
      "metadata": {
        "execution": {
          "iopub.status.busy": "2023-03-11T05:05:10.210913Z",
          "iopub.execute_input": "2023-03-11T05:05:10.211597Z",
          "iopub.status.idle": "2023-03-11T05:05:10.248623Z",
          "shell.execute_reply.started": "2023-03-11T05:05:10.211539Z",
          "shell.execute_reply": "2023-03-11T05:05:10.246995Z"
        },
        "trusted": true,
        "id": "iJcMNS4QB7NH",
        "outputId": "b413b63f-e72d-41b3-a197-a9d9bcb5f56b"
      },
      "execution_count": null,
      "outputs": [
        {
          "name": "stdout",
          "text": "Load the predictions of Model 4\n",
          "output_type": "stream"
        }
      ]
    },
    {
      "cell_type": "code",
      "source": [
        "print(\"Load the predictions of Model 5\")\n",
        "data1 = pd.read_csv('/kaggle/input/setting4-txt-output-m4-m5/final_prediction5_S2_U.txt', sep=\",\", header = None)\n",
        "#print(data1)"
      ],
      "metadata": {
        "execution": {
          "iopub.status.busy": "2023-03-11T05:05:12.914852Z",
          "iopub.execute_input": "2023-03-11T05:05:12.915505Z",
          "iopub.status.idle": "2023-03-11T05:05:12.962710Z",
          "shell.execute_reply.started": "2023-03-11T05:05:12.915461Z",
          "shell.execute_reply": "2023-03-11T05:05:12.960973Z"
        },
        "trusted": true,
        "id": "0h7ezvCsB7NH",
        "outputId": "e493373e-5506-48df-9b15-176c6383d425"
      },
      "execution_count": null,
      "outputs": [
        {
          "name": "stdout",
          "text": "Load the predictions of Model 5\n",
          "output_type": "stream"
        }
      ]
    },
    {
      "cell_type": "code",
      "source": [
        "# For Model 1, pair 1 to be updated\n",
        "predicted11 = []\n",
        "original11=[]\n",
        "# For Model 2, pair 1 to be updated\n",
        "predicted12 = []\n",
        "original12=[]\n",
        "# For Model 3, pair 1 to be updated\n",
        "predicted13 = []\n",
        "original13=[]\n",
        "\n",
        "def calcuate_accuracy(preds, targets, number):\n",
        "    if number==1:\n",
        "        predicted11.append(preds.tolist())\n",
        "        original11.append(targets.tolist())\n",
        "        n_correct1 = (preds==targets).sum().item()\n",
        "        return n_correct1\n",
        "    if number==2:\n",
        "        predicted12.append(preds.tolist())\n",
        "        original12.append(targets.tolist())\n",
        "        n_correct2 = (preds==targets).sum().item()\n",
        "        return n_correct2\n",
        "    if number==3:\n",
        "        predicted13.append(preds.tolist())\n",
        "        original13.append(targets.tolist())\n",
        "        n_correct3 = (preds==targets).sum().item()\n",
        "        return n_correct3"
      ],
      "metadata": {
        "execution": {
          "iopub.status.busy": "2023-03-11T05:05:15.752670Z",
          "iopub.execute_input": "2023-03-11T05:05:15.753305Z",
          "iopub.status.idle": "2023-03-11T05:05:15.778664Z",
          "shell.execute_reply.started": "2023-03-11T05:05:15.753252Z",
          "shell.execute_reply": "2023-03-11T05:05:15.776276Z"
        },
        "trusted": true,
        "id": "K-3tWBImB7NH"
      },
      "execution_count": null,
      "outputs": []
    },
    {
      "cell_type": "code",
      "source": [
        "def calcuate_accuracyTrain(preds, targets):\n",
        "    n_correct = (preds==targets).sum().item()\n",
        "    #print(\"Inside accuracyTrain() method\")\n",
        "    return n_correct"
      ],
      "metadata": {
        "execution": {
          "iopub.status.busy": "2023-03-11T05:05:18.696813Z",
          "iopub.execute_input": "2023-03-11T05:05:18.698007Z",
          "iopub.status.idle": "2023-03-11T05:05:18.707301Z",
          "shell.execute_reply.started": "2023-03-11T05:05:18.697943Z",
          "shell.execute_reply": "2023-03-11T05:05:18.705471Z"
        },
        "trusted": true,
        "id": "wrOwed1sB7NI"
      },
      "execution_count": null,
      "outputs": []
    },
    {
      "cell_type": "code",
      "source": [
        "def train(model, optimizer, training_loader, epoch):\n",
        "    tr_loss = 0\n",
        "    n_correct = 0\n",
        "    nb_tr_steps = 0\n",
        "    nb_tr_examples = 0\n",
        "    model.train()\n",
        "    for _,data in tqdm(enumerate(training_loader, 0)):\n",
        "        ids = data['ids'].to(device, dtype = torch.long)\n",
        "        mask = data['mask'].to(device, dtype = torch.long)\n",
        "        token_type_ids = data['token_type_ids'].to(device, dtype = torch.long)\n",
        "        targets = data['targets'].to(device, dtype = torch.long)\n",
        "\n",
        "        outputs = model(ids, mask, token_type_ids)\n",
        "        loss = loss_function(outputs, targets)\n",
        "        tr_loss += loss.item()\n",
        "        big_val, big_idx = torch.max(outputs.data, dim=1)\n",
        "        n_correct += calcuate_accuracyTrain(big_idx, targets)\n",
        "\n",
        "        nb_tr_steps += 1\n",
        "        nb_tr_examples+=targets.size(0)\n",
        "        \n",
        "        if _%5000==0:\n",
        "            loss_step = tr_loss/nb_tr_steps\n",
        "            accu_step = (n_correct*100)/nb_tr_examples \n",
        "            #print(f\"Training Loss per 5000 steps: {loss_step}\")\n",
        "            #print(f\"Training Accuracy per 5000 steps: {accu_step}\")\n",
        "\n",
        "        optimizer.zero_grad()\n",
        "        loss.backward()\n",
        "        # # When using GPU\n",
        "        optimizer.step()\n",
        "\n",
        "    print(f'The Total Accuracy for Epoch {epoch}: {(n_correct*100)/nb_tr_examples}')\n",
        "    epoch_loss = tr_loss/nb_tr_steps\n",
        "    epoch_accu = (n_correct*100)/nb_tr_examples\n",
        "    print(f\"Training Loss Epoch: {epoch_loss}\")\n",
        "    print(f\"Training Accuracy Epoch: {epoch_accu}\")\n",
        "\n",
        "    return "
      ],
      "metadata": {
        "execution": {
          "iopub.status.busy": "2023-03-11T05:05:21.295635Z",
          "iopub.execute_input": "2023-03-11T05:05:21.296914Z",
          "iopub.status.idle": "2023-03-11T05:05:21.310640Z",
          "shell.execute_reply.started": "2023-03-11T05:05:21.296837Z",
          "shell.execute_reply": "2023-03-11T05:05:21.309178Z"
        },
        "trusted": true,
        "id": "AE4men1fB7NI"
      },
      "execution_count": null,
      "outputs": []
    },
    {
      "cell_type": "code",
      "source": [
        "EPOCHS = 4\n",
        "print(f\"Finetuning with FIRST model:::\")\n",
        "for epoch in range(EPOCHS):\n",
        "    train(model1, optimizer1, training_loader1, epoch)\n",
        "print(f\"Finetuning with SECOND model:::\")\n",
        "for epoch in range(EPOCHS):\n",
        "    train(model2, optimizer2, training_loader2, epoch)    \n",
        "print(f\"Finetuning with THIRD model:::\")\n",
        "for epoch in range(EPOCHS):\n",
        "    train(model3, optimizer3, training_loader3, epoch) "
      ],
      "metadata": {
        "execution": {
          "iopub.status.busy": "2023-03-11T05:05:24.497346Z",
          "iopub.execute_input": "2023-03-11T05:05:24.497886Z",
          "iopub.status.idle": "2023-03-11T05:12:40.500195Z",
          "shell.execute_reply.started": "2023-03-11T05:05:24.497817Z",
          "shell.execute_reply": "2023-03-11T05:12:40.498532Z"
        },
        "trusted": true,
        "id": "taJL6cRGB7NN",
        "outputId": "52b87c48-9dc5-4bdc-ec0a-8036038a425b"
      },
      "execution_count": null,
      "outputs": [
        {
          "name": "stdout",
          "text": "Finetuning with FIRST model:::\n",
          "output_type": "stream"
        },
        {
          "name": "stderr",
          "text": "0it [00:00, ?it/s]Truncation was not explicitly activated but `max_length` is provided a specific value, please use `truncation=True` to explicitly truncate examples to max length. Defaulting to 'longest_first' truncation strategy. If you encode pairs of sequences (GLUE-style) with the tokenizer you can select this strategy more precisely by providing a specific strategy to `truncation`.\n/opt/conda/lib/python3.7/site-packages/transformers/tokenization_utils_base.py:2345: FutureWarning: The `pad_to_max_length` argument is deprecated and will be removed in a future version, use `padding=True` or `padding='longest'` to pad to the longest sequence in the batch, or use `padding='max_length'` to pad to a max length. In this case, you can give a specific length with `max_length` (e.g. `max_length=45`) or leave max_length to None to pad to the maximal input size of the model (e.g. 512 for Bert).\n  FutureWarning,\n72it [00:39,  1.84it/s]\n",
          "output_type": "stream"
        },
        {
          "name": "stdout",
          "text": "The Total Accuracy for Epoch 0: 42.013888888888886\nTraining Loss Epoch: 1.120372787117958\nTraining Accuracy Epoch: 42.013888888888886\n",
          "output_type": "stream"
        },
        {
          "name": "stderr",
          "text": "72it [00:37,  1.94it/s]\n",
          "output_type": "stream"
        },
        {
          "name": "stdout",
          "text": "The Total Accuracy for Epoch 1: 41.84027777777778\nTraining Loss Epoch: 1.1341885411077075\nTraining Accuracy Epoch: 41.84027777777778\n",
          "output_type": "stream"
        },
        {
          "name": "stderr",
          "text": "72it [00:37,  1.94it/s]\n",
          "output_type": "stream"
        },
        {
          "name": "stdout",
          "text": "The Total Accuracy for Epoch 2: 39.93055555555556\nTraining Loss Epoch: 1.1557869985699654\nTraining Accuracy Epoch: 39.93055555555556\n",
          "output_type": "stream"
        },
        {
          "name": "stderr",
          "text": "72it [00:37,  1.94it/s]\n",
          "output_type": "stream"
        },
        {
          "name": "stdout",
          "text": "The Total Accuracy for Epoch 3: 42.88194444444444\nTraining Loss Epoch: 1.135161096851031\nTraining Accuracy Epoch: 42.88194444444444\nFinetuning with SECOND model:::\n",
          "output_type": "stream"
        },
        {
          "name": "stderr",
          "text": "0it [00:00, ?it/s]Truncation was not explicitly activated but `max_length` is provided a specific value, please use `truncation=True` to explicitly truncate examples to max length. Defaulting to 'longest_first' truncation strategy. If you encode pairs of sequences (GLUE-style) with the tokenizer you can select this strategy more precisely by providing a specific strategy to `truncation`.\n72it [00:39,  1.84it/s]\n",
          "output_type": "stream"
        },
        {
          "name": "stdout",
          "text": "The Total Accuracy for Epoch 0: 40.625\nTraining Loss Epoch: 1.3135435448752508\nTraining Accuracy Epoch: 40.625\n",
          "output_type": "stream"
        },
        {
          "name": "stderr",
          "text": "72it [00:38,  1.85it/s]\n",
          "output_type": "stream"
        },
        {
          "name": "stdout",
          "text": "The Total Accuracy for Epoch 1: 44.791666666666664\nTraining Loss Epoch: 1.3088146621982257\nTraining Accuracy Epoch: 44.791666666666664\n",
          "output_type": "stream"
        },
        {
          "name": "stderr",
          "text": "72it [00:38,  1.85it/s]\n",
          "output_type": "stream"
        },
        {
          "name": "stdout",
          "text": "The Total Accuracy for Epoch 2: 46.875\nTraining Loss Epoch: 1.2793087139725685\nTraining Accuracy Epoch: 46.875\n",
          "output_type": "stream"
        },
        {
          "name": "stderr",
          "text": "72it [00:38,  1.85it/s]\n",
          "output_type": "stream"
        },
        {
          "name": "stdout",
          "text": "The Total Accuracy for Epoch 3: 45.833333333333336\nTraining Loss Epoch: 1.2705562425156434\nTraining Accuracy Epoch: 45.833333333333336\nFinetuning with THIRD model:::\n",
          "output_type": "stream"
        },
        {
          "name": "stderr",
          "text": "0it [00:00, ?it/s]Truncation was not explicitly activated but `max_length` is provided a specific value, please use `truncation=True` to explicitly truncate examples to max length. Defaulting to 'longest_first' truncation strategy. If you encode pairs of sequences (GLUE-style) with the tokenizer you can select this strategy more precisely by providing a specific strategy to `truncation`.\n72it [00:32,  2.24it/s]\n",
          "output_type": "stream"
        },
        {
          "name": "stdout",
          "text": "The Total Accuracy for Epoch 0: 28.47222222222222\nTraining Loss Epoch: 2.3131380950411162\nTraining Accuracy Epoch: 28.47222222222222\n",
          "output_type": "stream"
        },
        {
          "name": "stderr",
          "text": "72it [00:32,  2.22it/s]\n",
          "output_type": "stream"
        },
        {
          "name": "stdout",
          "text": "The Total Accuracy for Epoch 1: 31.944444444444443\nTraining Loss Epoch: 1.8088089807165995\nTraining Accuracy Epoch: 31.944444444444443\n",
          "output_type": "stream"
        },
        {
          "name": "stderr",
          "text": "72it [00:32,  2.22it/s]\n",
          "output_type": "stream"
        },
        {
          "name": "stdout",
          "text": "The Total Accuracy for Epoch 2: 38.020833333333336\nTraining Loss Epoch: 1.635213892492983\nTraining Accuracy Epoch: 38.020833333333336\n",
          "output_type": "stream"
        },
        {
          "name": "stderr",
          "text": "72it [00:32,  2.22it/s]",
          "output_type": "stream"
        },
        {
          "name": "stdout",
          "text": "The Total Accuracy for Epoch 3: 38.888888888888886\nTraining Loss Epoch: 1.5988409428132906\nTraining Accuracy Epoch: 38.888888888888886\n",
          "output_type": "stream"
        },
        {
          "name": "stderr",
          "text": "\n",
          "output_type": "stream"
        }
      ]
    },
    {
      "cell_type": "code",
      "source": [
        "def valid(model, testing_loader, number):\n",
        "    model.eval()\n",
        "    n_correct = 0; n_wrong = 0; total = 0; tr_loss=0; nb_tr_steps=0; nb_tr_examples=0\n",
        "    with torch.no_grad():\n",
        "        for _, data in tqdm(enumerate(testing_loader, 0)):\n",
        "            ids = data['ids'].to(device, dtype = torch.long)\n",
        "            mask = data['mask'].to(device, dtype = torch.long)\n",
        "            token_type_ids = data['token_type_ids'].to(device, dtype=torch.long)\n",
        "            targets = data['targets'].to(device, dtype = torch.long)\n",
        "            outputs = model(ids, mask, token_type_ids).squeeze()\n",
        "            loss = loss_function(outputs, targets)\n",
        "            tr_loss += loss.item()\n",
        "            big_val, big_idx = torch.max(outputs.data, dim=1)\n",
        "            n_correct += calcuate_accuracy(big_idx, targets, number)\n",
        "\n",
        "            nb_tr_steps += 1\n",
        "            nb_tr_examples+=targets.size(0)\n",
        "            \n",
        "            if _%5000==0:\n",
        "                loss_step = tr_loss/nb_tr_steps\n",
        "                accu_step = (n_correct*100)/nb_tr_examples\n",
        "                #print(f\"Validation Loss per 100 steps: {loss_step}\")\n",
        "                #print(f\"Validation Accuracy per 100 steps: {accu_step}\")\n",
        "    epoch_loss = tr_loss/nb_tr_steps\n",
        "    epoch_accu = (n_correct*100)/nb_tr_examples\n",
        "    print(f\"Validation Loss Epoch: {epoch_loss}\")\n",
        "    print(f\"Validation Accuracy Epoch: {epoch_accu}\")\n",
        "    \n",
        "    return epoch_accu"
      ],
      "metadata": {
        "execution": {
          "iopub.status.busy": "2023-03-11T05:13:02.341132Z",
          "iopub.execute_input": "2023-03-11T05:13:02.342685Z",
          "iopub.status.idle": "2023-03-11T05:13:02.359836Z",
          "shell.execute_reply.started": "2023-03-11T05:13:02.342607Z",
          "shell.execute_reply": "2023-03-11T05:13:02.358124Z"
        },
        "trusted": true,
        "id": "c6V3yfYsB7NN"
      },
      "execution_count": null,
      "outputs": []
    },
    {
      "cell_type": "code",
      "source": [
        "acc1 = valid(model1, testing_loader1, 1)\n",
        "print(f\"Validation Accuracy FIRST Model::::\\n\")\n",
        "print(\"Accuracy on test data = %0.2f%%\" % acc1)\n",
        "acc2 = valid(model2, testing_loader2, 2)\n",
        "print(f\"Validation Accuracy SECOND Model::::\\n\")\n",
        "print(\"Accuracy on test data = %0.2f%%\" % acc2)\n",
        "acc3 = valid(model3, testing_loader3, 3)\n",
        "print(f\"Validation Accuracy THIRD Model::::\\n\")\n",
        "print(\"Accuracy on test data = %0.2f%%\" % acc3)"
      ],
      "metadata": {
        "execution": {
          "iopub.status.busy": "2023-03-11T05:13:05.796981Z",
          "iopub.execute_input": "2023-03-11T05:13:05.798099Z",
          "iopub.status.idle": "2023-03-11T05:13:31.942840Z",
          "shell.execute_reply.started": "2023-03-11T05:13:05.798039Z",
          "shell.execute_reply": "2023-03-11T05:13:31.941247Z"
        },
        "trusted": true,
        "id": "tmoyp9wuB7NO",
        "outputId": "217fb8a9-68fb-42f4-b581-9edb5775c3a0"
      },
      "execution_count": null,
      "outputs": [
        {
          "name": "stderr",
          "text": "96it [00:08, 10.75it/s]\n",
          "output_type": "stream"
        },
        {
          "name": "stdout",
          "text": "Validation Loss Epoch: 1.023318521057566\nValidation Accuracy Epoch: 38.28125\nValidation Accuracy FIRST Model::::\n\nAccuracy on test data = 38.28%\n",
          "output_type": "stream"
        },
        {
          "name": "stderr",
          "text": "96it [00:09, 10.23it/s]\n",
          "output_type": "stream"
        },
        {
          "name": "stdout",
          "text": "Validation Loss Epoch: 1.0578507178773482\nValidation Accuracy Epoch: 54.427083333333336\nValidation Accuracy SECOND Model::::\n\nAccuracy on test data = 54.43%\n",
          "output_type": "stream"
        },
        {
          "name": "stderr",
          "text": "96it [00:07, 12.33it/s]",
          "output_type": "stream"
        },
        {
          "name": "stdout",
          "text": "Validation Loss Epoch: 1.1538816777368386\nValidation Accuracy Epoch: 49.739583333333336\nValidation Accuracy THIRD Model::::\n\nAccuracy on test data = 49.74%\n",
          "output_type": "stream"
        },
        {
          "name": "stderr",
          "text": "\n",
          "output_type": "stream"
        }
      ]
    },
    {
      "cell_type": "code",
      "source": [
        "print(len(predicted11))\n",
        "print(predicted11)\n",
        "print(\"***********************************************\")\n",
        "print(len(predicted12))\n",
        "print(predicted12)\n",
        "print(\"***********************************************\")\n",
        "print(len(predicted13))\n",
        "print(predicted13)\n",
        "print(\"***********************************************\")"
      ],
      "metadata": {
        "execution": {
          "iopub.status.busy": "2023-03-11T05:14:12.954624Z",
          "iopub.execute_input": "2023-03-11T05:14:12.955393Z",
          "iopub.status.idle": "2023-03-11T05:14:12.966282Z",
          "shell.execute_reply.started": "2023-03-11T05:14:12.955350Z",
          "shell.execute_reply": "2023-03-11T05:14:12.964596Z"
        },
        "trusted": true,
        "id": "KX94DT3UB7NO",
        "outputId": "5cf8cad4-6518-46ba-9d11-afaaec84eff4"
      },
      "execution_count": null,
      "outputs": [
        {
          "name": "stdout",
          "text": "96\n[[0, 0, 1, 0], [0, 0, 0, 0], [0, 0, 0, 0], [1, 0, 0, 0], [0, 0, 0, 0], [0, 0, 0, 0], [0, 0, 1, 0], [0, 1, 1, 0], [0, 0, 0, 1], [0, 0, 0, 1], [0, 0, 0, 0], [0, 0, 1, 1], [0, 0, 1, 0], [1, 0, 0, 0], [1, 1, 0, 0], [1, 0, 1, 0], [0, 0, 0, 0], [0, 0, 0, 0], [1, 0, 0, 0], [0, 0, 1, 0], [0, 0, 0, 0], [0, 1, 1, 1], [0, 1, 0, 0], [0, 1, 1, 0], [1, 0, 1, 1], [0, 0, 0, 0], [1, 1, 1, 0], [0, 0, 0, 0], [0, 1, 0, 0], [1, 0, 0, 1], [1, 1, 0, 1], [1, 0, 0, 0], [0, 1, 0, 0], [0, 1, 1, 0], [0, 0, 0, 0], [0, 0, 0, 0], [1, 1, 1, 1], [1, 0, 1, 1], [0, 0, 1, 0], [1, 1, 0, 0], [0, 1, 1, 0], [0, 0, 0, 1], [0, 0, 0, 1], [0, 1, 0, 0], [1, 1, 0, 0], [0, 0, 0, 1], [0, 1, 1, 1], [1, 1, 0, 0], [0, 0, 0, 0], [0, 0, 0, 0], [0, 1, 0, 0], [1, 1, 0, 0], [1, 0, 0, 0], [0, 1, 0, 0], [0, 0, 1, 1], [0, 1, 0, 0], [0, 0, 1, 0], [0, 1, 0, 0], [0, 1, 0, 1], [1, 0, 0, 0], [0, 1, 1, 0], [0, 0, 1, 0], [0, 0, 0, 1], [0, 0, 0, 1], [0, 0, 0, 1], [0, 0, 0, 0], [0, 0, 0, 0], [1, 0, 0, 0], [0, 0, 0, 0], [1, 1, 0, 0], [0, 0, 0, 0], [0, 1, 0, 0], [0, 1, 1, 0], [0, 1, 0, 0], [1, 0, 0, 0], [0, 1, 0, 1], [0, 0, 0, 0], [0, 0, 0, 0], [0, 1, 1, 0], [1, 1, 0, 0], [1, 1, 0, 1], [0, 0, 0, 0], [1, 1, 0, 1], [0, 1, 1, 1], [0, 1, 1, 1], [0, 0, 0, 0], [1, 0, 1, 0], [1, 0, 0, 1], [1, 0, 1, 1], [0, 1, 0, 1], [0, 0, 0, 0], [0, 0, 0, 1], [1, 1, 0, 1], [0, 0, 1, 0], [0, 0, 1, 1], [0, 0, 0, 1]]\n***********************************************\n96\n[[1, 1, 1, 0], [0, 1, 1, 1], [0, 0, 1, 1], [1, 1, 1, 0], [1, 0, 1, 0], [1, 1, 1, 1], [1, 1, 1, 1], [1, 1, 1, 0], [0, 1, 1, 1], [1, 0, 0, 1], [1, 1, 1, 1], [1, 1, 0, 1], [0, 1, 0, 1], [1, 1, 1, 1], [0, 0, 1, 0], [1, 1, 1, 0], [1, 1, 1, 1], [1, 1, 1, 0], [1, 1, 1, 1], [1, 1, 1, 1], [1, 0, 1, 1], [0, 1, 0, 1], [1, 0, 0, 1], [1, 1, 1, 0], [1, 0, 1, 1], [1, 0, 1, 1], [1, 0, 1, 0], [0, 1, 1, 1], [1, 1, 1, 1], [1, 1, 1, 0], [1, 1, 0, 1], [1, 1, 0, 1], [1, 1, 1, 1], [1, 1, 1, 0], [1, 1, 0, 0], [1, 0, 1, 1], [0, 1, 1, 1], [1, 1, 1, 1], [1, 0, 0, 1], [1, 0, 1, 0], [1, 1, 1, 0], [1, 1, 0, 1], [0, 1, 1, 0], [1, 1, 0, 1], [1, 1, 1, 1], [1, 1, 0, 1], [0, 1, 0, 1], [1, 1, 1, 1], [0, 1, 1, 0], [1, 1, 1, 0], [1, 1, 1, 1], [1, 1, 1, 0], [1, 1, 0, 0], [1, 1, 1, 1], [1, 1, 1, 1], [1, 1, 1, 1], [0, 0, 1, 1], [1, 1, 1, 1], [0, 1, 1, 1], [1, 1, 1, 1], [1, 1, 0, 1], [1, 1, 1, 1], [1, 1, 1, 0], [1, 1, 1, 1], [0, 1, 1, 0], [1, 1, 1, 1], [1, 0, 1, 1], [1, 1, 1, 1], [1, 1, 1, 1], [1, 1, 1, 1], [1, 1, 1, 1], [0, 1, 1, 1], [1, 1, 0, 1], [1, 1, 1, 1], [0, 0, 1, 1], [1, 1, 1, 1], [1, 1, 1, 1], [1, 1, 1, 1], [1, 0, 1, 1], [1, 0, 0, 1], [0, 1, 0, 1], [0, 0, 1, 1], [1, 1, 1, 1], [1, 1, 1, 1], [1, 0, 1, 1], [0, 1, 1, 0], [1, 1, 1, 1], [1, 1, 1, 1], [1, 0, 0, 1], [1, 1, 1, 1], [0, 1, 1, 0], [1, 1, 1, 1], [1, 0, 1, 1], [1, 0, 1, 0], [0, 1, 0, 1], [1, 1, 0, 0]]\n***********************************************\n96\n[[1, 0, 1, 2], [2, 0, 1, 1], [1, 1, 1, 0], [2, 1, 1, 1], [1, 1, 2, 0], [1, 1, 0, 1], [1, 0, 0, 1], [0, 2, 1, 1], [1, 0, 1, 1], [1, 0, 1, 1], [0, 0, 0, 1], [1, 0, 1, 1], [0, 0, 1, 1], [2, 1, 0, 2], [1, 1, 1, 0], [1, 0, 1, 1], [0, 1, 0, 1], [1, 2, 1, 0], [2, 0, 1, 1], [1, 1, 1, 1], [1, 1, 1, 1], [0, 1, 0, 0], [0, 1, 0, 1], [1, 1, 1, 1], [1, 2, 1, 2], [1, 0, 1, 1], [1, 0, 0, 0], [1, 1, 2, 0], [1, 1, 1, 0], [1, 2, 1, 1], [1, 1, 1, 1], [1, 1, 1, 1], [1, 2, 1, 1], [1, 1, 1, 0], [1, 1, 1, 0], [0, 1, 1, 0], [0, 1, 1, 2], [0, 1, 1, 0], [1, 1, 0, 2], [1, 1, 1, 1], [0, 0, 1, 2], [1, 1, 0, 1], [1, 1, 0, 1], [1, 1, 1, 1], [1, 1, 0, 1], [1, 1, 0, 1], [1, 0, 2, 0], [0, 1, 0, 1], [1, 1, 1, 0], [1, 1, 1, 0], [0, 2, 2, 1], [1, 1, 0, 0], [1, 1, 0, 1], [2, 1, 1, 0], [1, 1, 1, 1], [1, 0, 0, 1], [1, 1, 1, 1], [0, 0, 1, 1], [0, 1, 0, 1], [1, 1, 1, 0], [2, 2, 1, 1], [1, 0, 1, 1], [1, 1, 1, 1], [0, 0, 0, 0], [1, 1, 1, 1], [1, 0, 1, 1], [1, 1, 1, 1], [1, 1, 0, 2], [1, 1, 1, 1], [1, 1, 1, 1], [1, 1, 0, 0], [1, 1, 2, 1], [1, 1, 1, 1], [1, 0, 1, 1], [1, 0, 1, 0], [0, 1, 1, 1], [1, 2, 1, 0], [1, 0, 1, 0], [1, 1, 1, 1], [1, 0, 1, 1], [0, 1, 1, 1], [1, 1, 1, 0], [1, 0, 1, 2], [1, 2, 1, 1], [2, 1, 1, 0], [0, 0, 0, 0], [0, 1, 1, 1], [1, 0, 0, 1], [1, 0, 1, 2], [1, 1, 2, 1], [1, 1, 1, 1], [1, 0, 1, 1], [1, 0, 1, 0], [1, 1, 1, 1], [0, 0, 2, 0], [1, 0, 1, 1]]\n***********************************************\n",
          "output_type": "stream"
        }
      ]
    },
    {
      "cell_type": "code",
      "source": [
        "print(len(original11))\n",
        "print(original11)\n",
        "print(\"**************************************\")\n",
        "print(len(original12))\n",
        "print(original12)\n",
        "print(\"**************************************\")\n",
        "print(len(original13))\n",
        "print(original13)\n",
        "print(\"**************************************\")"
      ],
      "metadata": {
        "execution": {
          "iopub.status.busy": "2023-03-11T05:14:16.359379Z",
          "iopub.execute_input": "2023-03-11T05:14:16.359879Z",
          "iopub.status.idle": "2023-03-11T05:14:16.371797Z",
          "shell.execute_reply.started": "2023-03-11T05:14:16.359836Z",
          "shell.execute_reply": "2023-03-11T05:14:16.369336Z"
        },
        "trusted": true,
        "id": "X-J9ekg4B7NO",
        "outputId": "26d6de2c-2ca2-43b7-c76b-ae6b20069183"
      },
      "execution_count": null,
      "outputs": [
        {
          "name": "stdout",
          "text": "96\n[[0, 1, 2, 1], [1, 0, 2, 0], [1, 0, 1, 1], [0, 1, 1, 1], [1, 1, 1, 2], [1, 1, 1, 0], [1, 1, 1, 0], [2, 0, 1, 0], [2, 0, 1, 0], [0, 1, 1, 0], [1, 1, 1, 0], [0, 0, 1, 1], [1, 1, 0, 1], [1, 1, 0, 1], [0, 0, 1, 1], [1, 0, 1, 0], [0, 0, 0, 1], [0, 0, 0, 1], [1, 1, 1, 1], [0, 1, 1, 0], [0, 1, 2, 1], [1, 0, 1, 0], [1, 1, 1, 1], [0, 1, 1, 1], [0, 2, 1, 1], [1, 1, 0, 1], [1, 0, 0, 1], [1, 0, 1, 1], [1, 1, 1, 0], [1, 1, 1, 1], [0, 1, 1, 0], [1, 1, 0, 0], [0, 0, 0, 1], [2, 1, 1, 1], [1, 0, 2, 1], [1, 1, 0, 1], [0, 2, 1, 1], [1, 1, 1, 1], [1, 1, 1, 2], [1, 1, 1, 0], [1, 1, 1, 1], [1, 1, 1, 1], [1, 1, 1, 1], [2, 1, 1, 2], [1, 1, 1, 1], [1, 1, 1, 0], [1, 1, 1, 1], [1, 1, 1, 0], [1, 1, 1, 1], [0, 0, 0, 1], [1, 2, 0, 1], [1, 1, 1, 1], [0, 0, 1, 1], [2, 1, 2, 0], [1, 2, 1, 0], [1, 1, 0, 0], [1, 0, 1, 1], [0, 1, 1, 1], [1, 1, 2, 2], [0, 1, 1, 2], [1, 1, 1, 1], [1, 1, 2, 1], [1, 1, 1, 2], [2, 1, 1, 1], [1, 1, 1, 1], [1, 0, 1, 0], [1, 2, 1, 1], [2, 1, 1, 0], [1, 1, 0, 2], [1, 1, 1, 2], [1, 1, 0, 1], [1, 0, 1, 1], [1, 1, 1, 1], [1, 1, 1, 1], [1, 0, 1, 1], [1, 2, 1, 0], [1, 1, 1, 1], [1, 2, 1, 2], [0, 0, 1, 1], [1, 0, 0, 1], [1, 1, 1, 0], [2, 1, 1, 1], [1, 1, 1, 1], [1, 0, 1, 1], [0, 1, 0, 1], [1, 1, 1, 1], [1, 1, 2, 0], [1, 1, 0, 0], [0, 1, 1, 1], [1, 0, 0, 1], [1, 0, 0, 1], [1, 1, 1, 1], [1, 2, 1, 1], [0, 0, 1, 1], [1, 0, 1, 1], [1, 1, 1, 1]]\n**************************************\n96\n[[0, 1, 2, 1], [1, 0, 2, 0], [1, 0, 1, 1], [0, 1, 1, 1], [1, 1, 1, 2], [1, 1, 1, 0], [1, 1, 1, 0], [2, 0, 1, 0], [2, 0, 1, 0], [0, 1, 1, 0], [1, 1, 1, 0], [0, 0, 1, 1], [1, 1, 0, 1], [1, 1, 0, 1], [0, 0, 1, 1], [1, 0, 1, 0], [0, 0, 0, 1], [0, 0, 0, 1], [1, 1, 1, 1], [0, 1, 1, 0], [0, 1, 2, 1], [1, 0, 1, 0], [1, 1, 1, 1], [0, 1, 1, 1], [0, 2, 1, 1], [1, 1, 0, 1], [1, 0, 0, 1], [1, 0, 1, 1], [1, 1, 1, 0], [1, 1, 1, 1], [0, 1, 1, 0], [1, 1, 0, 0], [0, 0, 0, 1], [2, 1, 1, 1], [1, 0, 2, 1], [1, 1, 0, 1], [0, 2, 1, 1], [1, 1, 1, 1], [1, 1, 1, 2], [1, 1, 1, 0], [1, 1, 1, 1], [1, 1, 1, 1], [1, 1, 1, 1], [2, 1, 1, 2], [1, 1, 1, 1], [1, 1, 1, 0], [1, 1, 1, 1], [1, 1, 1, 0], [1, 1, 1, 1], [0, 0, 0, 1], [1, 2, 0, 1], [1, 1, 1, 1], [0, 0, 1, 1], [2, 1, 2, 0], [1, 2, 1, 0], [1, 1, 0, 0], [1, 0, 1, 1], [0, 1, 1, 1], [1, 1, 2, 2], [0, 1, 1, 2], [1, 1, 1, 1], [1, 1, 2, 1], [1, 1, 1, 2], [2, 1, 1, 1], [1, 1, 1, 1], [1, 0, 1, 0], [1, 2, 1, 1], [2, 1, 1, 0], [1, 1, 0, 2], [1, 1, 1, 2], [1, 1, 0, 1], [1, 0, 1, 1], [1, 1, 1, 1], [1, 1, 1, 1], [1, 0, 1, 1], [1, 2, 1, 0], [1, 1, 1, 1], [1, 2, 1, 2], [0, 0, 1, 1], [1, 0, 0, 1], [1, 1, 1, 0], [2, 1, 1, 1], [1, 1, 1, 1], [1, 0, 1, 1], [0, 1, 0, 1], [1, 1, 1, 1], [1, 1, 2, 0], [1, 1, 0, 0], [0, 1, 1, 1], [1, 0, 0, 1], [1, 0, 0, 1], [1, 1, 1, 1], [1, 2, 1, 1], [0, 0, 1, 1], [1, 0, 1, 1], [1, 1, 1, 1]]\n**************************************\n96\n[[0, 1, 2, 1], [1, 0, 2, 0], [1, 0, 1, 1], [0, 1, 1, 1], [1, 1, 1, 2], [1, 1, 1, 0], [1, 1, 1, 0], [2, 0, 1, 0], [2, 0, 1, 0], [0, 1, 1, 0], [1, 1, 1, 0], [0, 0, 1, 1], [1, 1, 0, 1], [1, 1, 0, 1], [0, 0, 1, 1], [1, 0, 1, 0], [0, 0, 0, 1], [0, 0, 0, 1], [1, 1, 1, 1], [0, 1, 1, 0], [0, 1, 2, 1], [1, 0, 1, 0], [1, 1, 1, 1], [0, 1, 1, 1], [0, 2, 1, 1], [1, 1, 0, 1], [1, 0, 0, 1], [1, 0, 1, 1], [1, 1, 1, 0], [1, 1, 1, 1], [0, 1, 1, 0], [1, 1, 0, 0], [0, 0, 0, 1], [2, 1, 1, 1], [1, 0, 2, 1], [1, 1, 0, 1], [0, 2, 1, 1], [1, 1, 1, 1], [1, 1, 1, 2], [1, 1, 1, 0], [1, 1, 1, 1], [1, 1, 1, 1], [1, 1, 1, 1], [2, 1, 1, 2], [1, 1, 1, 1], [1, 1, 1, 0], [1, 1, 1, 1], [1, 1, 1, 0], [1, 1, 1, 1], [0, 0, 0, 1], [1, 2, 0, 1], [1, 1, 1, 1], [0, 0, 1, 1], [2, 1, 2, 0], [1, 2, 1, 0], [1, 1, 0, 0], [1, 0, 1, 1], [0, 1, 1, 1], [1, 1, 2, 2], [0, 1, 1, 2], [1, 1, 1, 1], [1, 1, 2, 1], [1, 1, 1, 2], [2, 1, 1, 1], [1, 1, 1, 1], [1, 0, 1, 0], [1, 2, 1, 1], [2, 1, 1, 0], [1, 1, 0, 2], [1, 1, 1, 2], [1, 1, 0, 1], [1, 0, 1, 1], [1, 1, 1, 1], [1, 1, 1, 1], [1, 0, 1, 1], [1, 2, 1, 0], [1, 1, 1, 1], [1, 2, 1, 2], [0, 0, 1, 1], [1, 0, 0, 1], [1, 1, 1, 0], [2, 1, 1, 1], [1, 1, 1, 1], [1, 0, 1, 1], [0, 1, 0, 1], [1, 1, 1, 1], [1, 1, 2, 0], [1, 1, 0, 0], [0, 1, 1, 1], [1, 0, 0, 1], [1, 0, 0, 1], [1, 1, 1, 1], [1, 2, 1, 1], [0, 0, 1, 1], [1, 0, 1, 1], [1, 1, 1, 1]]\n**************************************\n",
          "output_type": "stream"
        }
      ]
    },
    {
      "cell_type": "code",
      "source": [
        "final_prediction1 = []\n",
        "final_prediction2 = []\n",
        "final_prediction3 = []\n",
        "for sublist in predicted11:\n",
        "    for item in sublist:\n",
        "        final_prediction1.append(item)\n",
        "for sublist in predicted12:\n",
        "    for item in sublist:\n",
        "        final_prediction2.append(item)\n",
        "for sublist in predicted13:\n",
        "    for item in sublist:\n",
        "        final_prediction3.append(item)"
      ],
      "metadata": {
        "execution": {
          "iopub.status.busy": "2023-03-11T05:14:20.381633Z",
          "iopub.execute_input": "2023-03-11T05:14:20.382415Z",
          "iopub.status.idle": "2023-03-11T05:14:20.398511Z",
          "shell.execute_reply.started": "2023-03-11T05:14:20.382367Z",
          "shell.execute_reply": "2023-03-11T05:14:20.396355Z"
        },
        "trusted": true,
        "id": "uFjviJcpB7NP"
      },
      "execution_count": null,
      "outputs": []
    },
    {
      "cell_type": "code",
      "source": [
        "#Loading result of Model 4\n",
        "prediction4=data.values.tolist()\n",
        "final_prediction4 = []\n",
        "#print(prediction4[0][3])\n",
        "i=0\n",
        "limit=384\n",
        "print(limit)\n",
        "for x in prediction4[0]:\n",
        "    if i==0: \n",
        "        prediction4[0][i] = 1\n",
        "        #print(prediction4[0][i])\n",
        "        final_prediction4.append(prediction4[0][i])\n",
        "    elif i==limit-1:\n",
        "        prediction4[0][i] = 1\n",
        "        #print(prediction4[0][i])\n",
        "        final_prediction4.append(prediction4[0][i])\n",
        "    else:\n",
        "        #print(prediction4[0][i])\n",
        "        final_prediction4.append(prediction4[0][i])\n",
        "    i = i+1\n",
        "    #print(i)\n",
        "print(final_prediction4)        "
      ],
      "metadata": {
        "execution": {
          "iopub.status.busy": "2023-03-11T05:14:23.274539Z",
          "iopub.execute_input": "2023-03-11T05:14:23.276623Z",
          "iopub.status.idle": "2023-03-11T05:14:23.292342Z",
          "shell.execute_reply.started": "2023-03-11T05:14:23.276519Z",
          "shell.execute_reply": "2023-03-11T05:14:23.290654Z"
        },
        "trusted": true,
        "id": "XsRyNLeEB7NP",
        "outputId": "6b68d8aa-862a-4e99-fd9d-e8d0b6dc869e"
      },
      "execution_count": null,
      "outputs": [
        {
          "name": "stdout",
          "text": "384\n[1, 1, 1, 0, 0, 0, 1, 1, 1, 0, 1, 1, 1, 0, 1, 1, 1, 0, 0, 0, 0, 1, 1, 1, 1, 1, 1, 0, 1, 1, 0, 0, 0, 0, 1, 1, 1, 0, 0, 1, 1, 1, 1, 1, 1, 1, 1, 1, 0, 0, 0, 1, 0, 1, 1, 1, 0, 1, 0, 0, 0, 1, 0, 0, 1, 1, 1, 0, 1, 1, 0, 0, 1, 1, 0, 1, 1, 0, 1, 0, 1, 0, 1, 1, 0, 0, 1, 0, 0, 0, 1, 0, 0, 0, 1, 0, 0, 1, 1, 1, 1, 0, 1, 1, 1, 0, 1, 1, 0, 0, 0, 0, 1, 1, 1, 0, 0, 0, 1, 1, 0, 1, 1, 1, 0, 1, 1, 1, 1, 0, 0, 1, 1, 0, 1, 1, 1, 0, 0, 0, 1, 0, 0, 1, 0, 0, 0, 1, 1, 1, 0, 0, 1, 1, 0, 1, 1, 1, 1, 0, 1, 1, 0, 0, 1, 0, 1, 1, 1, 0, 1, 1, 1, 1, 0, 1, 1, 0, 0, 1, 0, 0, 0, 1, 0, 1, 0, 0, 1, 0, 1, 1, 1, 0, 1, 1, 1, 1, 0, 1, 1, 1, 1, 1, 1, 1, 1, 1, 0, 1, 0, 0, 1, 1, 1, 1, 1, 1, 1, 1, 1, 1, 1, 1, 0, 0, 1, 0, 1, 1, 1, 0, 1, 1, 1, 1, 1, 1, 1, 1, 1, 1, 1, 1, 1, 1, 0, 0, 1, 1, 0, 1, 1, 1, 0, 1, 1, 0, 1, 0, 1, 0, 0, 1, 1, 1, 1, 1, 1, 1, 1, 1, 1, 1, 1, 1, 0, 1, 1, 1, 1, 1, 0, 0, 0, 0, 0, 1, 0, 1, 0, 0, 1, 0, 1, 1, 0, 0, 0, 0, 1, 1, 1, 1, 1, 1, 1, 1, 1, 0, 1, 0, 1, 0, 1, 0, 1, 0, 0, 1, 0, 0, 1, 1, 0, 1, 1, 1, 1, 1, 0, 0, 1, 1, 0, 1, 0, 1, 1, 1, 1, 1, 1, 1, 1, 1, 0, 0, 1, 1, 0, 0, 1, 0, 0, 1, 1, 0, 1, 1, 0, 1, 0, 0, 1, 0, 1, 0, 0, 1, 0, 0, 1, 1, 1, 0, 1, 1, 0, 0, 0, 1, 1, 1]\n",
          "output_type": "stream"
        }
      ]
    },
    {
      "cell_type": "code",
      "source": [
        "prediction5=data1.values.tolist()\n",
        "final_prediction5 = []\n",
        "#print(prediction4[0][3])\n",
        "i=0\n",
        "limit=384\n",
        "print(limit)\n",
        "for x in prediction5[0]:\n",
        "    if i==0: \n",
        "        prediction5[0][i] = 1\n",
        "        #print(prediction4[0][i])\n",
        "        final_prediction5.append(prediction5[0][i])\n",
        "    elif i==limit-1:\n",
        "        prediction5[0][i] = 1\n",
        "        #print(prediction4[0][i])\n",
        "        final_prediction5.append(prediction5[0][i])\n",
        "    else:\n",
        "        #print(prediction4[0][i])\n",
        "        final_prediction5.append(prediction5[0][i])\n",
        "    i = i+1\n",
        "    #print(i)\n",
        "print(final_prediction5)        "
      ],
      "metadata": {
        "execution": {
          "iopub.status.busy": "2023-03-11T05:14:27.257740Z",
          "iopub.execute_input": "2023-03-11T05:14:27.258383Z",
          "iopub.status.idle": "2023-03-11T05:14:27.282524Z",
          "shell.execute_reply.started": "2023-03-11T05:14:27.258326Z",
          "shell.execute_reply": "2023-03-11T05:14:27.280554Z"
        },
        "trusted": true,
        "id": "UWE0nFVVB7NP",
        "outputId": "ef014229-f72c-4387-d52c-abfca40f4ff5"
      },
      "execution_count": null,
      "outputs": [
        {
          "name": "stdout",
          "text": "384\n[1, 1, 1, 1, 1, 1, 1, 1, 1, 1, 1, 1, 1, 1, 1, 1, 1, 1, 1, 1, 1, 1, 1, 1, 1, 1, 1, 1, 1, 1, 1, 1, 1, 1, 1, 1, 1, 1, 1, 1, 1, 1, 1, 1, 1, 1, 1, 1, 1, 1, 1, 1, 1, 1, 1, 1, 1, 1, 1, 1, 1, 1, 1, 1, 1, 1, 1, 1, 1, 1, 1, 1, 1, 1, 1, 1, 1, 1, 1, 1, 1, 1, 1, 1, 1, 1, 1, 1, 1, 1, 1, 1, 1, 1, 1, 1, 1, 1, 1, 1, 1, 1, 1, 1, 1, 1, 1, 1, 1, 1, 1, 1, 1, 1, 1, 1, 1, 1, 1, 1, 1, 1, 1, 1, 1, 1, 1, 1, 1, 1, 1, 1, 1, 1, 1, 1, 1, 1, 0, 1, 1, 1, 1, 1, 1, 1, 1, 1, 1, 1, 1, 1, 1, 1, 1, 1, 1, 1, 1, 1, 1, 1, 1, 1, 1, 1, 1, 1, 1, 1, 1, 1, 1, 1, 1, 1, 1, 1, 1, 1, 1, 1, 1, 1, 1, 1, 1, 1, 1, 1, 1, 1, 1, 1, 1, 1, 1, 1, 1, 1, 1, 1, 1, 1, 1, 1, 1, 1, 1, 1, 1, 1, 1, 1, 1, 1, 1, 1, 1, 1, 1, 1, 1, 1, 1, 1, 1, 1, 1, 1, 1, 1, 1, 1, 1, 1, 1, 1, 1, 1, 1, 1, 1, 1, 1, 1, 1, 1, 1, 1, 1, 1, 1, 1, 1, 1, 1, 1, 1, 1, 1, 1, 1, 1, 1, 1, 1, 1, 1, 1, 1, 1, 1, 1, 1, 1, 1, 1, 1, 1, 1, 1, 1, 1, 1, 1, 1, 1, 1, 1, 1, 0, 1, 1, 1, 1, 1, 1, 1, 1, 1, 1, 1, 1, 1, 1, 1, 1, 1, 1, 1, 1, 1, 1, 1, 1, 1, 1, 1, 1, 1, 1, 1, 1, 1, 1, 1, 1, 1, 1, 1, 1, 1, 1, 1, 1, 1, 1, 1, 1, 1, 1, 1, 1, 1, 1, 1, 1, 1, 1, 1, 1, 1, 1, 1, 1, 1, 1, 1, 1, 1, 1, 1, 1, 1, 1, 1, 1, 1, 1, 1, 1, 1, 1, 1, 1, 1, 1, 1, 1, 1, 1, 1, 1]\n",
          "output_type": "stream"
        }
      ]
    },
    {
      "cell_type": "code",
      "source": [
        "final_original1 = []\n",
        "final_original2 = []\n",
        "final_original3 = []\n",
        "for sublist in original11:\n",
        "    for item in sublist:\n",
        "        final_original1.append(item)\n",
        "final_original2 = []\n",
        "for sublist in original12:\n",
        "    for item in sublist:\n",
        "        final_original2.append(item)\n",
        "final_original3 = []\n",
        "for sublist in original13:\n",
        "    for item in sublist:\n",
        "        final_original3.append(item)"
      ],
      "metadata": {
        "execution": {
          "iopub.status.busy": "2023-03-11T05:14:30.847500Z",
          "iopub.execute_input": "2023-03-11T05:14:30.848944Z",
          "iopub.status.idle": "2023-03-11T05:14:30.858562Z",
          "shell.execute_reply.started": "2023-03-11T05:14:30.848883Z",
          "shell.execute_reply": "2023-03-11T05:14:30.856634Z"
        },
        "trusted": true,
        "id": "Ixm7GKkgB7NQ"
      },
      "execution_count": null,
      "outputs": []
    },
    {
      "cell_type": "code",
      "source": [
        "print(len(final_prediction1))\n",
        "print(final_prediction1)\n",
        "print(\"*****************************************\")\n",
        "print(len(final_prediction2))\n",
        "print(final_prediction2)\n",
        "print(\"*****************************************\")\n",
        "print(len(final_prediction3))\n",
        "print(final_prediction3)\n",
        "print(\"*****************************************\")\n",
        "print(len(final_prediction4))\n",
        "print(final_prediction4)\n",
        "print(\"*****************************************\")\n",
        "#final_prediction5=data1.values.tolist()\n",
        "print(len(final_prediction5))\n",
        "print(final_prediction5)"
      ],
      "metadata": {
        "execution": {
          "iopub.status.busy": "2023-03-11T05:14:33.874318Z",
          "iopub.execute_input": "2023-03-11T05:14:33.874822Z",
          "iopub.status.idle": "2023-03-11T05:14:33.885037Z",
          "shell.execute_reply.started": "2023-03-11T05:14:33.874754Z",
          "shell.execute_reply": "2023-03-11T05:14:33.883260Z"
        },
        "trusted": true,
        "id": "w311L08xB7NQ",
        "outputId": "12e0d6f5-9389-4e2e-ca5d-156d0969736d"
      },
      "execution_count": null,
      "outputs": [
        {
          "name": "stdout",
          "text": "384\n[0, 0, 1, 0, 0, 0, 0, 0, 0, 0, 0, 0, 1, 0, 0, 0, 0, 0, 0, 0, 0, 0, 0, 0, 0, 0, 1, 0, 0, 1, 1, 0, 0, 0, 0, 1, 0, 0, 0, 1, 0, 0, 0, 0, 0, 0, 1, 1, 0, 0, 1, 0, 1, 0, 0, 0, 1, 1, 0, 0, 1, 0, 1, 0, 0, 0, 0, 0, 0, 0, 0, 0, 1, 0, 0, 0, 0, 0, 1, 0, 0, 0, 0, 0, 0, 1, 1, 1, 0, 1, 0, 0, 0, 1, 1, 0, 1, 0, 1, 1, 0, 0, 0, 0, 1, 1, 1, 0, 0, 0, 0, 0, 0, 1, 0, 0, 1, 0, 0, 1, 1, 1, 0, 1, 1, 0, 0, 0, 0, 1, 0, 0, 0, 1, 1, 0, 0, 0, 0, 0, 0, 0, 0, 0, 1, 1, 1, 1, 1, 0, 1, 1, 0, 0, 1, 0, 1, 1, 0, 0, 0, 1, 1, 0, 0, 0, 0, 1, 0, 0, 0, 1, 0, 1, 0, 0, 1, 1, 0, 0, 0, 0, 0, 1, 0, 1, 1, 1, 1, 1, 0, 0, 0, 0, 0, 0, 0, 0, 0, 0, 0, 1, 0, 0, 1, 1, 0, 0, 1, 0, 0, 0, 0, 1, 0, 0, 0, 0, 1, 1, 0, 1, 0, 0, 0, 0, 1, 0, 0, 1, 0, 0, 0, 1, 0, 1, 1, 0, 0, 0, 0, 1, 1, 0, 0, 0, 1, 0, 0, 0, 0, 1, 0, 0, 0, 1, 0, 0, 0, 1, 0, 0, 0, 0, 0, 0, 0, 0, 1, 0, 0, 0, 0, 0, 0, 0, 1, 1, 0, 0, 0, 0, 0, 0, 0, 1, 0, 0, 0, 1, 1, 0, 0, 1, 0, 0, 1, 0, 0, 0, 0, 1, 0, 1, 0, 0, 0, 0, 0, 0, 0, 0, 0, 1, 1, 0, 1, 1, 0, 0, 1, 1, 0, 1, 0, 0, 0, 0, 1, 1, 0, 1, 0, 1, 1, 1, 0, 1, 1, 1, 0, 0, 0, 0, 1, 0, 1, 0, 1, 0, 0, 1, 1, 0, 1, 1, 0, 1, 0, 1, 0, 0, 0, 0, 0, 0, 0, 1, 1, 1, 0, 1, 0, 0, 1, 0, 0, 0, 1, 1, 0, 0, 0, 1]\n*****************************************\n384\n[1, 1, 1, 0, 0, 1, 1, 1, 0, 0, 1, 1, 1, 1, 1, 0, 1, 0, 1, 0, 1, 1, 1, 1, 1, 1, 1, 1, 1, 1, 1, 0, 0, 1, 1, 1, 1, 0, 0, 1, 1, 1, 1, 1, 1, 1, 0, 1, 0, 1, 0, 1, 1, 1, 1, 1, 0, 0, 1, 0, 1, 1, 1, 0, 1, 1, 1, 1, 1, 1, 1, 0, 1, 1, 1, 1, 1, 1, 1, 1, 1, 0, 1, 1, 0, 1, 0, 1, 1, 0, 0, 1, 1, 1, 1, 0, 1, 0, 1, 1, 1, 0, 1, 1, 1, 0, 1, 0, 0, 1, 1, 1, 1, 1, 1, 1, 1, 1, 1, 0, 1, 1, 0, 1, 1, 1, 0, 1, 1, 1, 1, 1, 1, 1, 1, 0, 1, 1, 0, 0, 1, 0, 1, 1, 0, 1, 1, 1, 1, 1, 1, 1, 1, 0, 0, 1, 1, 0, 1, 0, 1, 1, 1, 0, 1, 1, 0, 1, 0, 1, 1, 0, 1, 1, 0, 1, 1, 1, 1, 1, 1, 1, 0, 1, 0, 1, 0, 1, 1, 1, 1, 1, 0, 1, 1, 0, 1, 1, 1, 0, 1, 1, 1, 1, 1, 1, 1, 0, 1, 1, 0, 0, 1, 1, 1, 1, 1, 1, 1, 1, 1, 1, 1, 1, 0, 0, 1, 1, 1, 1, 1, 1, 0, 1, 1, 1, 1, 1, 1, 1, 1, 1, 0, 1, 1, 1, 1, 1, 1, 1, 1, 0, 1, 1, 1, 1, 0, 1, 1, 0, 1, 1, 1, 1, 1, 0, 1, 1, 1, 1, 1, 1, 1, 1, 1, 1, 1, 1, 1, 1, 1, 1, 1, 1, 0, 1, 1, 1, 1, 1, 0, 1, 1, 1, 1, 1, 0, 0, 1, 1, 1, 1, 1, 1, 1, 1, 1, 1, 1, 1, 1, 1, 1, 0, 1, 1, 1, 0, 0, 1, 0, 1, 0, 1, 0, 0, 1, 1, 1, 1, 1, 1, 1, 1, 1, 1, 1, 0, 1, 1, 0, 1, 1, 0, 1, 1, 1, 1, 1, 1, 1, 1, 1, 0, 0, 1, 1, 1, 1, 1, 0, 1, 1, 0, 1, 1, 1, 1, 1, 0, 1, 1, 1, 0, 1, 0, 0, 1, 0, 1, 1, 1, 0, 0]\n*****************************************\n384\n[1, 0, 1, 2, 2, 0, 1, 1, 1, 1, 1, 0, 2, 1, 1, 1, 1, 1, 2, 0, 1, 1, 0, 1, 1, 0, 0, 1, 0, 2, 1, 1, 1, 0, 1, 1, 1, 0, 1, 1, 0, 0, 0, 1, 1, 0, 1, 1, 0, 0, 1, 1, 2, 1, 0, 2, 1, 1, 1, 0, 1, 0, 1, 1, 0, 1, 0, 1, 1, 2, 1, 0, 2, 0, 1, 1, 1, 1, 1, 1, 1, 1, 1, 1, 0, 1, 0, 0, 0, 1, 0, 1, 1, 1, 1, 1, 1, 2, 1, 2, 1, 0, 1, 1, 1, 0, 0, 0, 1, 1, 2, 0, 1, 1, 1, 0, 1, 2, 1, 1, 1, 1, 1, 1, 1, 1, 1, 1, 1, 2, 1, 1, 1, 1, 1, 0, 1, 1, 1, 0, 0, 1, 1, 0, 0, 1, 1, 2, 0, 1, 1, 0, 1, 1, 0, 2, 1, 1, 1, 1, 0, 0, 1, 2, 1, 1, 0, 1, 1, 1, 0, 1, 1, 1, 1, 1, 1, 1, 0, 1, 1, 1, 0, 1, 1, 0, 2, 0, 0, 1, 0, 1, 1, 1, 1, 0, 1, 1, 1, 0, 0, 2, 2, 1, 1, 1, 0, 0, 1, 1, 0, 1, 2, 1, 1, 0, 1, 1, 1, 1, 1, 0, 0, 1, 1, 1, 1, 1, 0, 0, 1, 1, 0, 1, 0, 1, 1, 1, 1, 0, 2, 2, 1, 1, 1, 0, 1, 1, 1, 1, 1, 1, 0, 0, 0, 0, 1, 1, 1, 1, 1, 0, 1, 1, 1, 1, 1, 1, 1, 1, 0, 2, 1, 1, 1, 1, 1, 1, 1, 1, 1, 1, 0, 0, 1, 1, 2, 1, 1, 1, 1, 1, 1, 0, 1, 1, 1, 0, 1, 0, 0, 1, 1, 1, 1, 2, 1, 0, 1, 0, 1, 0, 1, 1, 1, 1, 1, 0, 1, 1, 0, 1, 1, 1, 1, 1, 1, 0, 1, 0, 1, 2, 1, 2, 1, 1, 2, 1, 1, 0, 0, 0, 0, 0, 0, 1, 1, 1, 1, 0, 0, 1, 1, 0, 1, 2, 1, 1, 2, 1, 1, 1, 1, 1, 1, 0, 1, 1, 1, 0, 1, 0, 1, 1, 1, 1, 0, 0, 2, 0, 1, 0, 1, 1]\n*****************************************\n384\n[1, 1, 1, 0, 0, 0, 1, 1, 1, 0, 1, 1, 1, 0, 1, 1, 1, 0, 0, 0, 0, 1, 1, 1, 1, 1, 1, 0, 1, 1, 0, 0, 0, 0, 1, 1, 1, 0, 0, 1, 1, 1, 1, 1, 1, 1, 1, 1, 0, 0, 0, 1, 0, 1, 1, 1, 0, 1, 0, 0, 0, 1, 0, 0, 1, 1, 1, 0, 1, 1, 0, 0, 1, 1, 0, 1, 1, 0, 1, 0, 1, 0, 1, 1, 0, 0, 1, 0, 0, 0, 1, 0, 0, 0, 1, 0, 0, 1, 1, 1, 1, 0, 1, 1, 1, 0, 1, 1, 0, 0, 0, 0, 1, 1, 1, 0, 0, 0, 1, 1, 0, 1, 1, 1, 0, 1, 1, 1, 1, 0, 0, 1, 1, 0, 1, 1, 1, 0, 0, 0, 1, 0, 0, 1, 0, 0, 0, 1, 1, 1, 0, 0, 1, 1, 0, 1, 1, 1, 1, 0, 1, 1, 0, 0, 1, 0, 1, 1, 1, 0, 1, 1, 1, 1, 0, 1, 1, 0, 0, 1, 0, 0, 0, 1, 0, 1, 0, 0, 1, 0, 1, 1, 1, 0, 1, 1, 1, 1, 0, 1, 1, 1, 1, 1, 1, 1, 1, 1, 0, 1, 0, 0, 1, 1, 1, 1, 1, 1, 1, 1, 1, 1, 1, 1, 0, 0, 1, 0, 1, 1, 1, 0, 1, 1, 1, 1, 1, 1, 1, 1, 1, 1, 1, 1, 1, 1, 0, 0, 1, 1, 0, 1, 1, 1, 0, 1, 1, 0, 1, 0, 1, 0, 0, 1, 1, 1, 1, 1, 1, 1, 1, 1, 1, 1, 1, 1, 0, 1, 1, 1, 1, 1, 0, 0, 0, 0, 0, 1, 0, 1, 0, 0, 1, 0, 1, 1, 0, 0, 0, 0, 1, 1, 1, 1, 1, 1, 1, 1, 1, 0, 1, 0, 1, 0, 1, 0, 1, 0, 0, 1, 0, 0, 1, 1, 0, 1, 1, 1, 1, 1, 0, 0, 1, 1, 0, 1, 0, 1, 1, 1, 1, 1, 1, 1, 1, 1, 0, 0, 1, 1, 0, 0, 1, 0, 0, 1, 1, 0, 1, 1, 0, 1, 0, 0, 1, 0, 1, 0, 0, 1, 0, 0, 1, 1, 1, 0, 1, 1, 0, 0, 0, 1, 1, 1]\n*****************************************\n384\n[1, 1, 1, 1, 1, 1, 1, 1, 1, 1, 1, 1, 1, 1, 1, 1, 1, 1, 1, 1, 1, 1, 1, 1, 1, 1, 1, 1, 1, 1, 1, 1, 1, 1, 1, 1, 1, 1, 1, 1, 1, 1, 1, 1, 1, 1, 1, 1, 1, 1, 1, 1, 1, 1, 1, 1, 1, 1, 1, 1, 1, 1, 1, 1, 1, 1, 1, 1, 1, 1, 1, 1, 1, 1, 1, 1, 1, 1, 1, 1, 1, 1, 1, 1, 1, 1, 1, 1, 1, 1, 1, 1, 1, 1, 1, 1, 1, 1, 1, 1, 1, 1, 1, 1, 1, 1, 1, 1, 1, 1, 1, 1, 1, 1, 1, 1, 1, 1, 1, 1, 1, 1, 1, 1, 1, 1, 1, 1, 1, 1, 1, 1, 1, 1, 1, 1, 1, 1, 0, 1, 1, 1, 1, 1, 1, 1, 1, 1, 1, 1, 1, 1, 1, 1, 1, 1, 1, 1, 1, 1, 1, 1, 1, 1, 1, 1, 1, 1, 1, 1, 1, 1, 1, 1, 1, 1, 1, 1, 1, 1, 1, 1, 1, 1, 1, 1, 1, 1, 1, 1, 1, 1, 1, 1, 1, 1, 1, 1, 1, 1, 1, 1, 1, 1, 1, 1, 1, 1, 1, 1, 1, 1, 1, 1, 1, 1, 1, 1, 1, 1, 1, 1, 1, 1, 1, 1, 1, 1, 1, 1, 1, 1, 1, 1, 1, 1, 1, 1, 1, 1, 1, 1, 1, 1, 1, 1, 1, 1, 1, 1, 1, 1, 1, 1, 1, 1, 1, 1, 1, 1, 1, 1, 1, 1, 1, 1, 1, 1, 1, 1, 1, 1, 1, 1, 1, 1, 1, 1, 1, 1, 1, 1, 1, 1, 1, 1, 1, 1, 1, 1, 1, 0, 1, 1, 1, 1, 1, 1, 1, 1, 1, 1, 1, 1, 1, 1, 1, 1, 1, 1, 1, 1, 1, 1, 1, 1, 1, 1, 1, 1, 1, 1, 1, 1, 1, 1, 1, 1, 1, 1, 1, 1, 1, 1, 1, 1, 1, 1, 1, 1, 1, 1, 1, 1, 1, 1, 1, 1, 1, 1, 1, 1, 1, 1, 1, 1, 1, 1, 1, 1, 1, 1, 1, 1, 1, 1, 1, 1, 1, 1, 1, 1, 1, 1, 1, 1, 1, 1, 1, 1, 1, 1, 1, 1]\n",
          "output_type": "stream"
        }
      ]
    },
    {
      "cell_type": "code",
      "source": [
        "print(len(final_original1))\n",
        "print(final_original1)\n",
        "print(\"**************************\")\n",
        "print(len(final_original2))\n",
        "print(final_original2)\n",
        "print(\"**************************\")\n",
        "print(len(final_original3))\n",
        "print(final_original3)\n",
        "print(\"**************************\")"
      ],
      "metadata": {
        "execution": {
          "iopub.status.busy": "2023-03-11T05:14:37.992760Z",
          "iopub.execute_input": "2023-03-11T05:14:37.993436Z",
          "iopub.status.idle": "2023-03-11T05:14:38.006544Z",
          "shell.execute_reply.started": "2023-03-11T05:14:37.993380Z",
          "shell.execute_reply": "2023-03-11T05:14:38.005027Z"
        },
        "trusted": true,
        "id": "6_DEbaR7B7NQ",
        "outputId": "34954a3d-d771-4a40-ef46-cb2d5183c1c8"
      },
      "execution_count": null,
      "outputs": [
        {
          "name": "stdout",
          "text": "384\n[0, 1, 2, 1, 1, 0, 2, 0, 1, 0, 1, 1, 0, 1, 1, 1, 1, 1, 1, 2, 1, 1, 1, 0, 1, 1, 1, 0, 2, 0, 1, 0, 2, 0, 1, 0, 0, 1, 1, 0, 1, 1, 1, 0, 0, 0, 1, 1, 1, 1, 0, 1, 1, 1, 0, 1, 0, 0, 1, 1, 1, 0, 1, 0, 0, 0, 0, 1, 0, 0, 0, 1, 1, 1, 1, 1, 0, 1, 1, 0, 0, 1, 2, 1, 1, 0, 1, 0, 1, 1, 1, 1, 0, 1, 1, 1, 0, 2, 1, 1, 1, 1, 0, 1, 1, 0, 0, 1, 1, 0, 1, 1, 1, 1, 1, 0, 1, 1, 1, 1, 0, 1, 1, 0, 1, 1, 0, 0, 0, 0, 0, 1, 2, 1, 1, 1, 1, 0, 2, 1, 1, 1, 0, 1, 0, 2, 1, 1, 1, 1, 1, 1, 1, 1, 1, 2, 1, 1, 1, 0, 1, 1, 1, 1, 1, 1, 1, 1, 1, 1, 1, 1, 2, 1, 1, 2, 1, 1, 1, 1, 1, 1, 1, 0, 1, 1, 1, 1, 1, 1, 1, 0, 1, 1, 1, 1, 0, 0, 0, 1, 1, 2, 0, 1, 1, 1, 1, 1, 0, 0, 1, 1, 2, 1, 2, 0, 1, 2, 1, 0, 1, 1, 0, 0, 1, 0, 1, 1, 0, 1, 1, 1, 1, 1, 2, 2, 0, 1, 1, 2, 1, 1, 1, 1, 1, 1, 2, 1, 1, 1, 1, 2, 2, 1, 1, 1, 1, 1, 1, 1, 1, 0, 1, 0, 1, 2, 1, 1, 2, 1, 1, 0, 1, 1, 0, 2, 1, 1, 1, 2, 1, 1, 0, 1, 1, 0, 1, 1, 1, 1, 1, 1, 1, 1, 1, 1, 1, 0, 1, 1, 1, 2, 1, 0, 1, 1, 1, 1, 1, 2, 1, 2, 0, 0, 1, 1, 1, 0, 0, 1, 1, 1, 1, 0, 2, 1, 1, 1, 1, 1, 1, 1, 1, 0, 1, 1, 0, 1, 0, 1, 1, 1, 1, 1, 1, 1, 2, 0, 1, 1, 0, 0, 0, 1, 1, 1, 1, 0, 0, 1, 1, 0, 0, 1, 1, 1, 1, 1, 1, 2, 1, 1, 0, 0, 1, 1, 1, 0, 1, 1, 1, 1, 1, 1]\n**************************\n384\n[0, 1, 2, 1, 1, 0, 2, 0, 1, 0, 1, 1, 0, 1, 1, 1, 1, 1, 1, 2, 1, 1, 1, 0, 1, 1, 1, 0, 2, 0, 1, 0, 2, 0, 1, 0, 0, 1, 1, 0, 1, 1, 1, 0, 0, 0, 1, 1, 1, 1, 0, 1, 1, 1, 0, 1, 0, 0, 1, 1, 1, 0, 1, 0, 0, 0, 0, 1, 0, 0, 0, 1, 1, 1, 1, 1, 0, 1, 1, 0, 0, 1, 2, 1, 1, 0, 1, 0, 1, 1, 1, 1, 0, 1, 1, 1, 0, 2, 1, 1, 1, 1, 0, 1, 1, 0, 0, 1, 1, 0, 1, 1, 1, 1, 1, 0, 1, 1, 1, 1, 0, 1, 1, 0, 1, 1, 0, 0, 0, 0, 0, 1, 2, 1, 1, 1, 1, 0, 2, 1, 1, 1, 0, 1, 0, 2, 1, 1, 1, 1, 1, 1, 1, 1, 1, 2, 1, 1, 1, 0, 1, 1, 1, 1, 1, 1, 1, 1, 1, 1, 1, 1, 2, 1, 1, 2, 1, 1, 1, 1, 1, 1, 1, 0, 1, 1, 1, 1, 1, 1, 1, 0, 1, 1, 1, 1, 0, 0, 0, 1, 1, 2, 0, 1, 1, 1, 1, 1, 0, 0, 1, 1, 2, 1, 2, 0, 1, 2, 1, 0, 1, 1, 0, 0, 1, 0, 1, 1, 0, 1, 1, 1, 1, 1, 2, 2, 0, 1, 1, 2, 1, 1, 1, 1, 1, 1, 2, 1, 1, 1, 1, 2, 2, 1, 1, 1, 1, 1, 1, 1, 1, 0, 1, 0, 1, 2, 1, 1, 2, 1, 1, 0, 1, 1, 0, 2, 1, 1, 1, 2, 1, 1, 0, 1, 1, 0, 1, 1, 1, 1, 1, 1, 1, 1, 1, 1, 1, 0, 1, 1, 1, 2, 1, 0, 1, 1, 1, 1, 1, 2, 1, 2, 0, 0, 1, 1, 1, 0, 0, 1, 1, 1, 1, 0, 2, 1, 1, 1, 1, 1, 1, 1, 1, 0, 1, 1, 0, 1, 0, 1, 1, 1, 1, 1, 1, 1, 2, 0, 1, 1, 0, 0, 0, 1, 1, 1, 1, 0, 0, 1, 1, 0, 0, 1, 1, 1, 1, 1, 1, 2, 1, 1, 0, 0, 1, 1, 1, 0, 1, 1, 1, 1, 1, 1]\n**************************\n384\n[0, 1, 2, 1, 1, 0, 2, 0, 1, 0, 1, 1, 0, 1, 1, 1, 1, 1, 1, 2, 1, 1, 1, 0, 1, 1, 1, 0, 2, 0, 1, 0, 2, 0, 1, 0, 0, 1, 1, 0, 1, 1, 1, 0, 0, 0, 1, 1, 1, 1, 0, 1, 1, 1, 0, 1, 0, 0, 1, 1, 1, 0, 1, 0, 0, 0, 0, 1, 0, 0, 0, 1, 1, 1, 1, 1, 0, 1, 1, 0, 0, 1, 2, 1, 1, 0, 1, 0, 1, 1, 1, 1, 0, 1, 1, 1, 0, 2, 1, 1, 1, 1, 0, 1, 1, 0, 0, 1, 1, 0, 1, 1, 1, 1, 1, 0, 1, 1, 1, 1, 0, 1, 1, 0, 1, 1, 0, 0, 0, 0, 0, 1, 2, 1, 1, 1, 1, 0, 2, 1, 1, 1, 0, 1, 0, 2, 1, 1, 1, 1, 1, 1, 1, 1, 1, 2, 1, 1, 1, 0, 1, 1, 1, 1, 1, 1, 1, 1, 1, 1, 1, 1, 2, 1, 1, 2, 1, 1, 1, 1, 1, 1, 1, 0, 1, 1, 1, 1, 1, 1, 1, 0, 1, 1, 1, 1, 0, 0, 0, 1, 1, 2, 0, 1, 1, 1, 1, 1, 0, 0, 1, 1, 2, 1, 2, 0, 1, 2, 1, 0, 1, 1, 0, 0, 1, 0, 1, 1, 0, 1, 1, 1, 1, 1, 2, 2, 0, 1, 1, 2, 1, 1, 1, 1, 1, 1, 2, 1, 1, 1, 1, 2, 2, 1, 1, 1, 1, 1, 1, 1, 1, 0, 1, 0, 1, 2, 1, 1, 2, 1, 1, 0, 1, 1, 0, 2, 1, 1, 1, 2, 1, 1, 0, 1, 1, 0, 1, 1, 1, 1, 1, 1, 1, 1, 1, 1, 1, 0, 1, 1, 1, 2, 1, 0, 1, 1, 1, 1, 1, 2, 1, 2, 0, 0, 1, 1, 1, 0, 0, 1, 1, 1, 1, 0, 2, 1, 1, 1, 1, 1, 1, 1, 1, 0, 1, 1, 0, 1, 0, 1, 1, 1, 1, 1, 1, 1, 2, 0, 1, 1, 0, 0, 0, 1, 1, 1, 1, 0, 0, 1, 1, 0, 0, 1, 1, 1, 1, 1, 1, 2, 1, 1, 0, 0, 1, 1, 1, 0, 1, 1, 1, 1, 1, 1]\n**************************\n",
          "output_type": "stream"
        }
      ]
    },
    {
      "cell_type": "code",
      "source": [
        "import sklearn\n",
        "print(\"***********Confusion Matrix by MODEL 1 over Test Set**********************\")\n",
        "mat1 = sklearn.metrics.confusion_matrix(final_original1,final_prediction1)\n",
        "mat1"
      ],
      "metadata": {
        "execution": {
          "iopub.status.busy": "2023-03-11T05:14:40.938052Z",
          "iopub.execute_input": "2023-03-11T05:14:40.939176Z",
          "iopub.status.idle": "2023-03-11T05:14:40.956133Z",
          "shell.execute_reply.started": "2023-03-11T05:14:40.939112Z",
          "shell.execute_reply": "2023-03-11T05:14:40.954524Z"
        },
        "trusted": true,
        "id": "2qNmw1iwB7NR",
        "outputId": "2f48b129-c649-4e83-97bd-774a9e1d5020"
      },
      "execution_count": null,
      "outputs": [
        {
          "name": "stdout",
          "text": "***********Confusion Matrix by MODEL 1 over Test Set**********************\n",
          "output_type": "stream"
        },
        {
          "execution_count": 37,
          "output_type": "execute_result",
          "data": {
            "text/plain": "array([[ 63,  30,   0],\n       [174,  84,   0],\n       [ 23,  10,   0]])"
          },
          "metadata": {}
        }
      ]
    },
    {
      "cell_type": "code",
      "source": [
        "print(\"***********Confusion Matrix by MODEL 2 over Test Set**********************\")\n",
        "mat2 = sklearn.metrics.confusion_matrix(final_original2,final_prediction2)\n",
        "mat2"
      ],
      "metadata": {
        "execution": {
          "iopub.status.busy": "2023-03-11T05:14:44.258889Z",
          "iopub.execute_input": "2023-03-11T05:14:44.259471Z",
          "iopub.status.idle": "2023-03-11T05:14:44.279189Z",
          "shell.execute_reply.started": "2023-03-11T05:14:44.259416Z",
          "shell.execute_reply": "2023-03-11T05:14:44.277466Z"
        },
        "trusted": true,
        "id": "admcOxcyB7NR",
        "outputId": "2643cf29-d56c-4317-9239-3e5d78e7a714"
      },
      "execution_count": null,
      "outputs": [
        {
          "name": "stdout",
          "text": "***********Confusion Matrix by MODEL 2 over Test Set**********************\n",
          "output_type": "stream"
        },
        {
          "execution_count": 38,
          "output_type": "execute_result",
          "data": {
            "text/plain": "array([[ 16,  77,   0],\n       [ 65, 193,   0],\n       [  8,  25,   0]])"
          },
          "metadata": {}
        }
      ]
    },
    {
      "cell_type": "code",
      "source": [
        "print(\"***********Confusion Matrix by MODEL 3 over Test Set**********************\")\n",
        "mat3 = sklearn.metrics.confusion_matrix(final_original3,final_prediction3)\n",
        "mat3"
      ],
      "metadata": {
        "execution": {
          "iopub.status.busy": "2023-03-11T05:14:46.903120Z",
          "iopub.execute_input": "2023-03-11T05:14:46.903586Z",
          "iopub.status.idle": "2023-03-11T05:14:46.918197Z",
          "shell.execute_reply.started": "2023-03-11T05:14:46.903546Z",
          "shell.execute_reply": "2023-03-11T05:14:46.916250Z"
        },
        "trusted": true,
        "id": "Cys0KK_UB7NR",
        "outputId": "27b70f85-2dd5-4ad8-a88b-f3b96df64620"
      },
      "execution_count": null,
      "outputs": [
        {
          "name": "stdout",
          "text": "***********Confusion Matrix by MODEL 3 over Test Set**********************\n",
          "output_type": "stream"
        },
        {
          "execution_count": 39,
          "output_type": "execute_result",
          "data": {
            "text/plain": "array([[ 21,  63,   9],\n       [ 73, 166,  19],\n       [  8,  21,   4]])"
          },
          "metadata": {}
        }
      ]
    },
    {
      "cell_type": "code",
      "source": [
        "print(\"***********Confusion Matrix by MODEL 4 over Test Set**********************\")\n",
        "mat4 = sklearn.metrics.confusion_matrix(final_original3,final_prediction4)\n",
        "mat4"
      ],
      "metadata": {
        "execution": {
          "iopub.status.busy": "2023-03-11T05:14:49.658413Z",
          "iopub.execute_input": "2023-03-11T05:14:49.659022Z",
          "iopub.status.idle": "2023-03-11T05:14:49.684802Z",
          "shell.execute_reply.started": "2023-03-11T05:14:49.658964Z",
          "shell.execute_reply": "2023-03-11T05:14:49.683197Z"
        },
        "trusted": true,
        "id": "9GmM8gQaB7NR",
        "outputId": "8f5d3371-7eeb-4dd6-d105-03e7afafcc1b"
      },
      "execution_count": null,
      "outputs": [
        {
          "name": "stdout",
          "text": "***********Confusion Matrix by MODEL 4 over Test Set**********************\n",
          "output_type": "stream"
        },
        {
          "execution_count": 40,
          "output_type": "execute_result",
          "data": {
            "text/plain": "array([[ 40,  53,   0],\n       [ 97, 161,   0],\n       [  9,  24,   0]])"
          },
          "metadata": {}
        }
      ]
    },
    {
      "cell_type": "code",
      "source": [
        "print(\"***********Confusion Matrix by MODEL 5 over Test Set**********************\")\n",
        "mat5 = sklearn.metrics.confusion_matrix(final_original3,final_prediction5)\n",
        "mat5"
      ],
      "metadata": {
        "execution": {
          "iopub.status.busy": "2023-03-11T05:14:53.209973Z",
          "iopub.execute_input": "2023-03-11T05:14:53.211470Z",
          "iopub.status.idle": "2023-03-11T05:14:53.225002Z",
          "shell.execute_reply.started": "2023-03-11T05:14:53.211417Z",
          "shell.execute_reply": "2023-03-11T05:14:53.223270Z"
        },
        "trusted": true,
        "id": "eibZ6I1jB7NS",
        "outputId": "1cf987ee-95f5-4435-c764-85c156777e7e"
      },
      "execution_count": null,
      "outputs": [
        {
          "name": "stdout",
          "text": "***********Confusion Matrix by MODEL 5 over Test Set**********************\n",
          "output_type": "stream"
        },
        {
          "execution_count": 41,
          "output_type": "execute_result",
          "data": {
            "text/plain": "array([[  0,  93,   0],\n       [  1, 257,   0],\n       [  1,  32,   0]])"
          },
          "metadata": {}
        }
      ]
    },
    {
      "cell_type": "code",
      "source": [
        "print(\"***********Accuracy by MODEL 1 over Test Set**********************\")\n",
        "sklearn.metrics.accuracy_score(final_original1,final_prediction1)"
      ],
      "metadata": {
        "execution": {
          "iopub.status.busy": "2023-03-11T05:14:58.252494Z",
          "iopub.execute_input": "2023-03-11T05:14:58.253019Z",
          "iopub.status.idle": "2023-03-11T05:14:58.266616Z",
          "shell.execute_reply.started": "2023-03-11T05:14:58.252961Z",
          "shell.execute_reply": "2023-03-11T05:14:58.264721Z"
        },
        "trusted": true,
        "id": "nw64laMAB7NS",
        "outputId": "cef0bdd2-6e05-4193-fccd-6432ee020a75"
      },
      "execution_count": null,
      "outputs": [
        {
          "name": "stdout",
          "text": "***********Accuracy by MODEL 1 over Test Set**********************\n",
          "output_type": "stream"
        },
        {
          "execution_count": 42,
          "output_type": "execute_result",
          "data": {
            "text/plain": "0.3828125"
          },
          "metadata": {}
        }
      ]
    },
    {
      "cell_type": "code",
      "source": [
        "print(\"***********Accuracy by MODEL 2 over Test Set**********************\")\n",
        "sklearn.metrics.accuracy_score(final_original2,final_prediction2)"
      ],
      "metadata": {
        "execution": {
          "iopub.status.busy": "2023-03-11T05:15:00.721163Z",
          "iopub.execute_input": "2023-03-11T05:15:00.721626Z",
          "iopub.status.idle": "2023-03-11T05:15:00.737248Z",
          "shell.execute_reply.started": "2023-03-11T05:15:00.721589Z",
          "shell.execute_reply": "2023-03-11T05:15:00.734893Z"
        },
        "trusted": true,
        "id": "fSzKUgXsB7NS",
        "outputId": "55b92508-bb87-4a8f-9c34-6b05beba719d"
      },
      "execution_count": null,
      "outputs": [
        {
          "name": "stdout",
          "text": "***********Accuracy by MODEL 2 over Test Set**********************\n",
          "output_type": "stream"
        },
        {
          "execution_count": 43,
          "output_type": "execute_result",
          "data": {
            "text/plain": "0.5442708333333334"
          },
          "metadata": {}
        }
      ]
    },
    {
      "cell_type": "code",
      "source": [
        "print(\"***********Accuracy by MODEL 3 over Test Set**********************\")\n",
        "sklearn.metrics.accuracy_score(final_original3,final_prediction3)"
      ],
      "metadata": {
        "execution": {
          "iopub.status.busy": "2023-03-11T05:15:02.754530Z",
          "iopub.execute_input": "2023-03-11T05:15:02.756155Z",
          "iopub.status.idle": "2023-03-11T05:15:02.775611Z",
          "shell.execute_reply.started": "2023-03-11T05:15:02.756063Z",
          "shell.execute_reply": "2023-03-11T05:15:02.774077Z"
        },
        "trusted": true,
        "id": "RocU1bm3B7NS",
        "outputId": "2b5d70fc-d18c-4d91-dec2-7be2b5458847"
      },
      "execution_count": null,
      "outputs": [
        {
          "name": "stdout",
          "text": "***********Accuracy by MODEL 3 over Test Set**********************\n",
          "output_type": "stream"
        },
        {
          "execution_count": 44,
          "output_type": "execute_result",
          "data": {
            "text/plain": "0.4973958333333333"
          },
          "metadata": {}
        }
      ]
    },
    {
      "cell_type": "code",
      "source": [
        "print(\"***********Accuracy by MODEL 4 over Test Set**********************\")\n",
        "sklearn.metrics.accuracy_score(final_original3,final_prediction4)"
      ],
      "metadata": {
        "execution": {
          "iopub.status.busy": "2023-03-11T05:15:05.159728Z",
          "iopub.execute_input": "2023-03-11T05:15:05.161050Z",
          "iopub.status.idle": "2023-03-11T05:15:05.177949Z",
          "shell.execute_reply.started": "2023-03-11T05:15:05.160998Z",
          "shell.execute_reply": "2023-03-11T05:15:05.175706Z"
        },
        "trusted": true,
        "id": "6eQbfIi2B7NT",
        "outputId": "e0a3991a-348d-4c58-a303-1c3e9a19a447"
      },
      "execution_count": null,
      "outputs": [
        {
          "name": "stdout",
          "text": "***********Accuracy by MODEL 4 over Test Set**********************\n",
          "output_type": "stream"
        },
        {
          "execution_count": 45,
          "output_type": "execute_result",
          "data": {
            "text/plain": "0.5234375"
          },
          "metadata": {}
        }
      ]
    },
    {
      "cell_type": "code",
      "source": [
        "print(\"***********Accuracy by MODEL 5 over Test Set**********************\")\n",
        "sklearn.metrics.accuracy_score(final_original3,final_prediction5)"
      ],
      "metadata": {
        "execution": {
          "iopub.status.busy": "2023-03-11T05:15:07.890188Z",
          "iopub.execute_input": "2023-03-11T05:15:07.890677Z",
          "iopub.status.idle": "2023-03-11T05:15:07.903577Z",
          "shell.execute_reply.started": "2023-03-11T05:15:07.890636Z",
          "shell.execute_reply": "2023-03-11T05:15:07.901850Z"
        },
        "trusted": true,
        "id": "MgQvFhw3B7NT",
        "outputId": "23402350-5f4e-4347-b293-cc536d89cf1d"
      },
      "execution_count": null,
      "outputs": [
        {
          "name": "stdout",
          "text": "***********Accuracy by MODEL 5 over Test Set**********************\n",
          "output_type": "stream"
        },
        {
          "execution_count": 46,
          "output_type": "execute_result",
          "data": {
            "text/plain": "0.6692708333333334"
          },
          "metadata": {}
        }
      ]
    },
    {
      "cell_type": "code",
      "source": [
        "print(\"Printable Confusion Matrix from Model 1\")\n",
        "import matplotlib.pyplot as plt\n",
        "import seaborn as sns\n",
        "df_cm = pd.DataFrame(mat1, range(3), range(3))\n",
        "\n",
        "sns.heatmap(df_cm, annot=True) \n",
        "plt.show()"
      ],
      "metadata": {
        "execution": {
          "iopub.status.busy": "2023-03-11T05:15:10.467232Z",
          "iopub.execute_input": "2023-03-11T05:15:10.468080Z",
          "iopub.status.idle": "2023-03-11T05:15:10.876156Z",
          "shell.execute_reply.started": "2023-03-11T05:15:10.468035Z",
          "shell.execute_reply": "2023-03-11T05:15:10.874561Z"
        },
        "trusted": true,
        "id": "YITxR1tyB7NT",
        "outputId": "e0e13f57-0f33-4610-cbdb-6abbd93230ea"
      },
      "execution_count": null,
      "outputs": [
        {
          "name": "stdout",
          "text": "Printable Confusion Matrix from Model 1\n",
          "output_type": "stream"
        },
        {
          "output_type": "display_data",
          "data": {
            "text/plain": "<Figure size 640x480 with 2 Axes>",
            "image/png": "[encoded data removed]"
          },
          "metadata": {}
        }
      ]
    },
    {
      "cell_type": "code",
      "source": [
        "from sklearn.metrics import precision_recall_fscore_support\n",
        "precision,recall,fscore,support = precision_recall_fscore_support(final_original1,final_prediction1,labels=[0,1,2])"
      ],
      "metadata": {
        "execution": {
          "iopub.status.busy": "2023-03-11T05:15:13.522283Z",
          "iopub.execute_input": "2023-03-11T05:15:13.523024Z",
          "iopub.status.idle": "2023-03-11T05:15:13.537217Z",
          "shell.execute_reply.started": "2023-03-11T05:15:13.522982Z",
          "shell.execute_reply": "2023-03-11T05:15:13.535423Z"
        },
        "trusted": true,
        "id": "FnBaAWkRB7NT",
        "outputId": "dd4c8dca-01f9-436d-daa8-21d61e6b56e2"
      },
      "execution_count": null,
      "outputs": [
        {
          "name": "stderr",
          "text": "/opt/conda/lib/python3.7/site-packages/sklearn/metrics/_classification.py:1318: UndefinedMetricWarning: Precision and F-score are ill-defined and being set to 0.0 in labels with no predicted samples. Use `zero_division` parameter to control this behavior.\n  _warn_prf(average, modifier, msg_start, len(result))\n",
          "output_type": "stream"
        }
      ]
    },
    {
      "cell_type": "code",
      "source": [
        "precision"
      ],
      "metadata": {
        "execution": {
          "iopub.status.busy": "2023-03-11T05:15:16.562524Z",
          "iopub.execute_input": "2023-03-11T05:15:16.563422Z",
          "iopub.status.idle": "2023-03-11T05:15:16.574365Z",
          "shell.execute_reply.started": "2023-03-11T05:15:16.563376Z",
          "shell.execute_reply": "2023-03-11T05:15:16.572765Z"
        },
        "trusted": true,
        "id": "TLmtuRjrB7NU",
        "outputId": "51da8124-7f0f-4417-8b49-8af7065b0e90"
      },
      "execution_count": null,
      "outputs": [
        {
          "execution_count": 49,
          "output_type": "execute_result",
          "data": {
            "text/plain": "array([0.24230769, 0.67741935, 0.        ])"
          },
          "metadata": {}
        }
      ]
    },
    {
      "cell_type": "code",
      "source": [
        "recall"
      ],
      "metadata": {
        "execution": {
          "iopub.status.busy": "2023-03-11T05:15:18.703900Z",
          "iopub.execute_input": "2023-03-11T05:15:18.705148Z",
          "iopub.status.idle": "2023-03-11T05:15:18.715841Z",
          "shell.execute_reply.started": "2023-03-11T05:15:18.705100Z",
          "shell.execute_reply": "2023-03-11T05:15:18.713878Z"
        },
        "trusted": true,
        "id": "b7yV9Qg0B7NU",
        "outputId": "8a054365-d5e6-41ac-f839-8d73a1d29810"
      },
      "execution_count": null,
      "outputs": [
        {
          "execution_count": 50,
          "output_type": "execute_result",
          "data": {
            "text/plain": "array([0.67741935, 0.3255814 , 0.        ])"
          },
          "metadata": {}
        }
      ]
    },
    {
      "cell_type": "code",
      "source": [
        "fscore"
      ],
      "metadata": {
        "execution": {
          "iopub.status.busy": "2023-03-11T05:15:21.517373Z",
          "iopub.execute_input": "2023-03-11T05:15:21.519305Z",
          "iopub.status.idle": "2023-03-11T05:15:21.539268Z",
          "shell.execute_reply.started": "2023-03-11T05:15:21.519218Z",
          "shell.execute_reply": "2023-03-11T05:15:21.535665Z"
        },
        "trusted": true,
        "id": "gcJadkKzB7NU",
        "outputId": "ecd66a93-56af-4080-9906-d19db7351248"
      },
      "execution_count": null,
      "outputs": [
        {
          "execution_count": 51,
          "output_type": "execute_result",
          "data": {
            "text/plain": "array([0.35694051, 0.43979058, 0.        ])"
          },
          "metadata": {}
        }
      ]
    },
    {
      "cell_type": "code",
      "source": [
        "support"
      ],
      "metadata": {
        "execution": {
          "iopub.status.busy": "2023-03-11T05:15:23.882519Z",
          "iopub.execute_input": "2023-03-11T05:15:23.883052Z",
          "iopub.status.idle": "2023-03-11T05:15:23.892532Z",
          "shell.execute_reply.started": "2023-03-11T05:15:23.883011Z",
          "shell.execute_reply": "2023-03-11T05:15:23.890818Z"
        },
        "trusted": true,
        "id": "xgMj0RW7B7NV",
        "outputId": "a5961843-c247-459f-d1a9-118f72771216"
      },
      "execution_count": null,
      "outputs": [
        {
          "execution_count": 52,
          "output_type": "execute_result",
          "data": {
            "text/plain": "array([ 93, 258,  33])"
          },
          "metadata": {}
        }
      ]
    },
    {
      "cell_type": "code",
      "source": [
        "print(\"Printable Confusion Matrix from Model 2\")\n",
        "import matplotlib.pyplot as plt\n",
        "import seaborn as sns\n",
        "df_cm = pd.DataFrame(mat2, range(3), range(3))\n",
        "\n",
        "sns.heatmap(df_cm, annot=True) \n",
        "plt.show()"
      ],
      "metadata": {
        "execution": {
          "iopub.status.busy": "2023-03-11T05:15:25.882248Z",
          "iopub.execute_input": "2023-03-11T05:15:25.882735Z",
          "iopub.status.idle": "2023-03-11T05:15:26.229271Z",
          "shell.execute_reply.started": "2023-03-11T05:15:25.882695Z",
          "shell.execute_reply": "2023-03-11T05:15:26.227843Z"
        },
        "trusted": true,
        "id": "XxCGku63B7NV",
        "outputId": "b3c257ab-d609-4459-9618-0da14d39a2cd"
      },
      "execution_count": null,
      "outputs": [
        {
          "name": "stdout",
          "text": "Printable Confusion Matrix from Model 2\n",
          "output_type": "stream"
        },
        {
          "output_type": "display_data",
          "data": {
            "text/plain": "<Figure size 640x480 with 2 Axes>",
            "image/png": "[encoded data removed]"
          },
          "metadata": {}
        }
      ]
    },
    {
      "cell_type": "code",
      "source": [
        "precision,recall,fscore,support = precision_recall_fscore_support(final_original2,final_prediction2,labels=[0,1,2])"
      ],
      "metadata": {
        "execution": {
          "iopub.status.busy": "2023-03-11T05:15:28.985941Z",
          "iopub.execute_input": "2023-03-11T05:15:28.987036Z",
          "iopub.status.idle": "2023-03-11T05:15:28.999346Z",
          "shell.execute_reply.started": "2023-03-11T05:15:28.986988Z",
          "shell.execute_reply": "2023-03-11T05:15:28.997329Z"
        },
        "trusted": true,
        "id": "gmw9DraGB7NV",
        "outputId": "83c4728a-2110-4792-811c-1c80e5eb3c3e"
      },
      "execution_count": null,
      "outputs": [
        {
          "name": "stderr",
          "text": "/opt/conda/lib/python3.7/site-packages/sklearn/metrics/_classification.py:1318: UndefinedMetricWarning: Precision and F-score are ill-defined and being set to 0.0 in labels with no predicted samples. Use `zero_division` parameter to control this behavior.\n  _warn_prf(average, modifier, msg_start, len(result))\n",
          "output_type": "stream"
        }
      ]
    },
    {
      "cell_type": "code",
      "source": [
        "precision"
      ],
      "metadata": {
        "execution": {
          "iopub.status.busy": "2023-03-11T05:15:31.250959Z",
          "iopub.execute_input": "2023-03-11T05:15:31.252059Z",
          "iopub.status.idle": "2023-03-11T05:15:31.262191Z",
          "shell.execute_reply.started": "2023-03-11T05:15:31.252011Z",
          "shell.execute_reply": "2023-03-11T05:15:31.260419Z"
        },
        "trusted": true,
        "id": "BdlL5z_LB7NW",
        "outputId": "eb900fd2-b42d-479b-8633-2efe37b9570f"
      },
      "execution_count": null,
      "outputs": [
        {
          "execution_count": 55,
          "output_type": "execute_result",
          "data": {
            "text/plain": "array([0.17977528, 0.65423729, 0.        ])"
          },
          "metadata": {}
        }
      ]
    },
    {
      "cell_type": "code",
      "source": [
        "recall"
      ],
      "metadata": {
        "execution": {
          "iopub.status.busy": "2023-03-11T05:15:33.075715Z",
          "iopub.execute_input": "2023-03-11T05:15:33.077285Z",
          "iopub.status.idle": "2023-03-11T05:15:33.090749Z",
          "shell.execute_reply.started": "2023-03-11T05:15:33.077214Z",
          "shell.execute_reply": "2023-03-11T05:15:33.088726Z"
        },
        "trusted": true,
        "id": "J-3Ie1prB7NW",
        "outputId": "a37c374d-be1c-4528-9bff-c55324fd63b8"
      },
      "execution_count": null,
      "outputs": [
        {
          "execution_count": 56,
          "output_type": "execute_result",
          "data": {
            "text/plain": "array([0.17204301, 0.74806202, 0.        ])"
          },
          "metadata": {}
        }
      ]
    },
    {
      "cell_type": "code",
      "source": [
        "fscore"
      ],
      "metadata": {
        "execution": {
          "iopub.status.busy": "2023-03-11T05:15:35.386022Z",
          "iopub.execute_input": "2023-03-11T05:15:35.387085Z",
          "iopub.status.idle": "2023-03-11T05:15:35.397625Z",
          "shell.execute_reply.started": "2023-03-11T05:15:35.387032Z",
          "shell.execute_reply": "2023-03-11T05:15:35.395842Z"
        },
        "trusted": true,
        "id": "e0NKz4n7B7NW",
        "outputId": "849e8894-6681-4049-b022-573458e513c6"
      },
      "execution_count": null,
      "outputs": [
        {
          "execution_count": 57,
          "output_type": "execute_result",
          "data": {
            "text/plain": "array([0.17582418, 0.69801085, 0.        ])"
          },
          "metadata": {}
        }
      ]
    },
    {
      "cell_type": "code",
      "source": [
        "support"
      ],
      "metadata": {
        "execution": {
          "iopub.status.busy": "2023-03-11T05:15:37.809635Z",
          "iopub.execute_input": "2023-03-11T05:15:37.811305Z",
          "iopub.status.idle": "2023-03-11T05:15:37.823073Z",
          "shell.execute_reply.started": "2023-03-11T05:15:37.811217Z",
          "shell.execute_reply": "2023-03-11T05:15:37.820872Z"
        },
        "trusted": true,
        "id": "F4sgTZEUB7NX",
        "outputId": "11bacaad-1284-4597-c82e-cd17bcd412f1"
      },
      "execution_count": null,
      "outputs": [
        {
          "execution_count": 58,
          "output_type": "execute_result",
          "data": {
            "text/plain": "array([ 93, 258,  33])"
          },
          "metadata": {}
        }
      ]
    },
    {
      "cell_type": "code",
      "source": [
        "print(\"Printable Confusion Matrix from Model 3\")\n",
        "import matplotlib.pyplot as plt\n",
        "import seaborn as sns\n",
        "df_cm = pd.DataFrame(mat3, range(3), range(3))\n",
        "\n",
        "sns.heatmap(df_cm, annot=True) \n",
        "plt.show()"
      ],
      "metadata": {
        "execution": {
          "iopub.status.busy": "2023-03-11T05:15:39.939176Z",
          "iopub.execute_input": "2023-03-11T05:15:39.939791Z",
          "iopub.status.idle": "2023-03-11T05:15:40.334261Z",
          "shell.execute_reply.started": "2023-03-11T05:15:39.939723Z",
          "shell.execute_reply": "2023-03-11T05:15:40.332410Z"
        },
        "trusted": true,
        "id": "BjEYdl-HB7NX",
        "outputId": "464b61b3-093d-4800-d0e2-57ea841fd46c"
      },
      "execution_count": null,
      "outputs": [
        {
          "name": "stdout",
          "text": "Printable Confusion Matrix from Model 3\n",
          "output_type": "stream"
        },
        {
          "output_type": "display_data",
          "data": {
            "text/plain": "<Figure size 640x480 with 2 Axes>",
            "image/png": "[encoded data removed]"
          },
          "metadata": {}
        }
      ]
    },
    {
      "cell_type": "code",
      "source": [
        "precision,recall,fscore,support = precision_recall_fscore_support(final_original3,final_prediction3,labels=[0,1,2])"
      ],
      "metadata": {
        "execution": {
          "iopub.status.busy": "2023-03-11T05:15:44.206367Z",
          "iopub.execute_input": "2023-03-11T05:15:44.208115Z",
          "iopub.status.idle": "2023-03-11T05:15:44.219927Z",
          "shell.execute_reply.started": "2023-03-11T05:15:44.208043Z",
          "shell.execute_reply": "2023-03-11T05:15:44.217941Z"
        },
        "trusted": true,
        "id": "lqzgUnygB7NY"
      },
      "execution_count": null,
      "outputs": []
    },
    {
      "cell_type": "code",
      "source": [
        "precision"
      ],
      "metadata": {
        "execution": {
          "iopub.status.busy": "2023-03-11T05:15:46.697823Z",
          "iopub.execute_input": "2023-03-11T05:15:46.698983Z",
          "iopub.status.idle": "2023-03-11T05:15:46.714063Z",
          "shell.execute_reply.started": "2023-03-11T05:15:46.698932Z",
          "shell.execute_reply": "2023-03-11T05:15:46.711900Z"
        },
        "trusted": true,
        "id": "eccy3aG5B7NY",
        "outputId": "7642b2b6-5d17-4620-e876-10a53fb34907"
      },
      "execution_count": null,
      "outputs": [
        {
          "execution_count": 61,
          "output_type": "execute_result",
          "data": {
            "text/plain": "array([0.20588235, 0.664     , 0.125     ])"
          },
          "metadata": {}
        }
      ]
    },
    {
      "cell_type": "code",
      "source": [
        "recall"
      ],
      "metadata": {
        "execution": {
          "iopub.status.busy": "2023-03-11T05:15:48.890072Z",
          "iopub.execute_input": "2023-03-11T05:15:48.891150Z",
          "iopub.status.idle": "2023-03-11T05:15:48.900684Z",
          "shell.execute_reply.started": "2023-03-11T05:15:48.891103Z",
          "shell.execute_reply": "2023-03-11T05:15:48.898732Z"
        },
        "trusted": true,
        "id": "wQQn5etHB7NY",
        "outputId": "43c9e1d9-3958-40c3-e8d3-4c02f7f30849"
      },
      "execution_count": null,
      "outputs": [
        {
          "execution_count": 62,
          "output_type": "execute_result",
          "data": {
            "text/plain": "array([0.22580645, 0.64341085, 0.12121212])"
          },
          "metadata": {}
        }
      ]
    },
    {
      "cell_type": "code",
      "source": [
        "fscore"
      ],
      "metadata": {
        "execution": {
          "iopub.status.busy": "2023-03-11T05:15:53.223470Z",
          "iopub.execute_input": "2023-03-11T05:15:53.224381Z",
          "iopub.status.idle": "2023-03-11T05:15:53.234411Z",
          "shell.execute_reply.started": "2023-03-11T05:15:53.224335Z",
          "shell.execute_reply": "2023-03-11T05:15:53.232550Z"
        },
        "trusted": true,
        "id": "UlED_xJDB7NZ",
        "outputId": "25a954c5-cbb7-4a5b-d641-6dcecc1a440b"
      },
      "execution_count": null,
      "outputs": [
        {
          "execution_count": 64,
          "output_type": "execute_result",
          "data": {
            "text/plain": "array([0.21538462, 0.65354331, 0.12307692])"
          },
          "metadata": {}
        }
      ]
    },
    {
      "cell_type": "code",
      "source": [
        "support"
      ],
      "metadata": {
        "execution": {
          "iopub.status.busy": "2023-03-11T05:15:55.111231Z",
          "iopub.execute_input": "2023-03-11T05:15:55.111699Z",
          "iopub.status.idle": "2023-03-11T05:15:55.122786Z",
          "shell.execute_reply.started": "2023-03-11T05:15:55.111658Z",
          "shell.execute_reply": "2023-03-11T05:15:55.120987Z"
        },
        "trusted": true,
        "id": "CAFXH4hCB7NZ",
        "outputId": "3bacf8ef-dd26-4d48-8324-daf43c943220"
      },
      "execution_count": null,
      "outputs": [
        {
          "execution_count": 65,
          "output_type": "execute_result",
          "data": {
            "text/plain": "array([ 93, 258,  33])"
          },
          "metadata": {}
        }
      ]
    },
    {
      "cell_type": "code",
      "source": [
        "print(\"Printable Confusion Matrix from Model 4\")\n",
        "import matplotlib.pyplot as plt\n",
        "import seaborn as sns\n",
        "df_cm = pd.DataFrame(mat4, range(3), range(3))\n",
        "\n",
        "sns.heatmap(df_cm, annot=True) \n",
        "plt.show()"
      ],
      "metadata": {
        "execution": {
          "iopub.status.busy": "2023-03-11T05:15:57.080682Z",
          "iopub.execute_input": "2023-03-11T05:15:57.081456Z",
          "iopub.status.idle": "2023-03-11T05:15:57.467003Z",
          "shell.execute_reply.started": "2023-03-11T05:15:57.081411Z",
          "shell.execute_reply": "2023-03-11T05:15:57.464975Z"
        },
        "trusted": true,
        "id": "jbt-M8KDB7NZ",
        "outputId": "088acf72-4598-4d70-fa06-4c0865bf3a41"
      },
      "execution_count": null,
      "outputs": [
        {
          "name": "stdout",
          "text": "Printable Confusion Matrix from Model 4\n",
          "output_type": "stream"
        },
        {
          "output_type": "display_data",
          "data": {
            "text/plain": "<Figure size 640x480 with 2 Axes>",
            "image/png": "[encoded data removed]"
          },
          "metadata": {}
        }
      ]
    },
    {
      "cell_type": "code",
      "source": [
        "precision,recall,fscore,support = precision_recall_fscore_support(final_original3,final_prediction4,labels=[0,1,2])"
      ],
      "metadata": {
        "execution": {
          "iopub.status.busy": "2023-03-11T05:16:00.138595Z",
          "iopub.execute_input": "2023-03-11T05:16:00.140043Z",
          "iopub.status.idle": "2023-03-11T05:16:00.153060Z",
          "shell.execute_reply.started": "2023-03-11T05:16:00.139989Z",
          "shell.execute_reply": "2023-03-11T05:16:00.150872Z"
        },
        "trusted": true,
        "id": "jwa7cbwIB7NZ",
        "outputId": "7642350d-a37b-4392-ca23-ab056b5b79e3"
      },
      "execution_count": null,
      "outputs": [
        {
          "name": "stderr",
          "text": "/opt/conda/lib/python3.7/site-packages/sklearn/metrics/_classification.py:1318: UndefinedMetricWarning: Precision and F-score are ill-defined and being set to 0.0 in labels with no predicted samples. Use `zero_division` parameter to control this behavior.\n  _warn_prf(average, modifier, msg_start, len(result))\n",
          "output_type": "stream"
        }
      ]
    },
    {
      "cell_type": "code",
      "source": [
        "precision"
      ],
      "metadata": {
        "execution": {
          "iopub.status.busy": "2023-03-11T05:16:02.313016Z",
          "iopub.execute_input": "2023-03-11T05:16:02.314063Z",
          "iopub.status.idle": "2023-03-11T05:16:02.323705Z",
          "shell.execute_reply.started": "2023-03-11T05:16:02.314016Z",
          "shell.execute_reply": "2023-03-11T05:16:02.322019Z"
        },
        "trusted": true,
        "id": "RZ0yKS5mB7Na",
        "outputId": "4cf21754-9fd6-4703-9b81-23a34e315668"
      },
      "execution_count": null,
      "outputs": [
        {
          "execution_count": 68,
          "output_type": "execute_result",
          "data": {
            "text/plain": "array([0.2739726 , 0.67647059, 0.        ])"
          },
          "metadata": {}
        }
      ]
    },
    {
      "cell_type": "code",
      "source": [
        "recall"
      ],
      "metadata": {
        "execution": {
          "iopub.status.busy": "2023-03-11T05:16:04.346172Z",
          "iopub.execute_input": "2023-03-11T05:16:04.347588Z",
          "iopub.status.idle": "2023-03-11T05:16:04.359482Z",
          "shell.execute_reply.started": "2023-03-11T05:16:04.347498Z",
          "shell.execute_reply": "2023-03-11T05:16:04.357297Z"
        },
        "trusted": true,
        "id": "GIc2xz2QB7Na",
        "outputId": "75009ceb-c2ac-4a35-9625-a2bd5a556f12"
      },
      "execution_count": null,
      "outputs": [
        {
          "execution_count": 69,
          "output_type": "execute_result",
          "data": {
            "text/plain": "array([0.43010753, 0.62403101, 0.        ])"
          },
          "metadata": {}
        }
      ]
    },
    {
      "cell_type": "code",
      "source": [
        "fscore"
      ],
      "metadata": {
        "execution": {
          "iopub.status.busy": "2023-03-11T05:16:06.458602Z",
          "iopub.execute_input": "2023-03-11T05:16:06.459560Z",
          "iopub.status.idle": "2023-03-11T05:16:06.470470Z",
          "shell.execute_reply.started": "2023-03-11T05:16:06.459511Z",
          "shell.execute_reply": "2023-03-11T05:16:06.467847Z"
        },
        "trusted": true,
        "id": "C5wNP8N3B7Na",
        "outputId": "3e050ea8-150c-41de-fca9-4dda3c7c58f2"
      },
      "execution_count": null,
      "outputs": [
        {
          "execution_count": 70,
          "output_type": "execute_result",
          "data": {
            "text/plain": "array([0.33472803, 0.64919355, 0.        ])"
          },
          "metadata": {}
        }
      ]
    },
    {
      "cell_type": "code",
      "source": [
        "support"
      ],
      "metadata": {
        "execution": {
          "iopub.status.busy": "2023-03-11T05:16:08.657100Z",
          "iopub.execute_input": "2023-03-11T05:16:08.658163Z",
          "iopub.status.idle": "2023-03-11T05:16:08.667800Z",
          "shell.execute_reply.started": "2023-03-11T05:16:08.658102Z",
          "shell.execute_reply": "2023-03-11T05:16:08.665984Z"
        },
        "trusted": true,
        "id": "LHi9A3mTB7Nb",
        "outputId": "064becdf-c46d-446f-a0d4-8f39e5843068"
      },
      "execution_count": null,
      "outputs": [
        {
          "execution_count": 71,
          "output_type": "execute_result",
          "data": {
            "text/plain": "array([ 93, 258,  33])"
          },
          "metadata": {}
        }
      ]
    },
    {
      "cell_type": "code",
      "source": [
        "print(\"Printable Confusion Matrix from Model 5\")\n",
        "import matplotlib.pyplot as plt\n",
        "import seaborn as sns\n",
        "df_cm = pd.DataFrame(mat5, range(3), range(3))\n",
        "\n",
        "sns.heatmap(df_cm, annot=True) \n",
        "plt.show()"
      ],
      "metadata": {
        "execution": {
          "iopub.status.busy": "2023-03-11T05:16:10.761661Z",
          "iopub.execute_input": "2023-03-11T05:16:10.762973Z",
          "iopub.status.idle": "2023-03-11T05:16:11.158133Z",
          "shell.execute_reply.started": "2023-03-11T05:16:10.762906Z",
          "shell.execute_reply": "2023-03-11T05:16:11.156545Z"
        },
        "trusted": true,
        "id": "blAEImPWB7Nb",
        "outputId": "91316797-7f31-46cc-aa47-8411e107b7ba"
      },
      "execution_count": null,
      "outputs": [
        {
          "name": "stdout",
          "text": "Printable Confusion Matrix from Model 5\n",
          "output_type": "stream"
        },
        {
          "output_type": "display_data",
          "data": {
            "text/plain": "<Figure size 640x480 with 2 Axes>",
            "image/png": "[encoded data removed]"
          },
          "metadata": {}
        }
      ]
    },
    {
      "cell_type": "code",
      "source": [
        "precision,recall,fscore,support = precision_recall_fscore_support(final_original3,final_prediction5,labels=[0,1,2])"
      ],
      "metadata": {
        "execution": {
          "iopub.status.busy": "2023-03-11T05:16:13.984908Z",
          "iopub.execute_input": "2023-03-11T05:16:13.985614Z",
          "iopub.status.idle": "2023-03-11T05:16:14.003479Z",
          "shell.execute_reply.started": "2023-03-11T05:16:13.985560Z",
          "shell.execute_reply": "2023-03-11T05:16:14.001006Z"
        },
        "trusted": true,
        "id": "hg4ZNFmsB7Nb",
        "outputId": "cd971929-f6dc-407b-8b56-bcd15e02a2b2"
      },
      "execution_count": null,
      "outputs": [
        {
          "name": "stderr",
          "text": "/opt/conda/lib/python3.7/site-packages/sklearn/metrics/_classification.py:1318: UndefinedMetricWarning: Precision and F-score are ill-defined and being set to 0.0 in labels with no predicted samples. Use `zero_division` parameter to control this behavior.\n  _warn_prf(average, modifier, msg_start, len(result))\n",
          "output_type": "stream"
        }
      ]
    },
    {
      "cell_type": "code",
      "source": [
        "precision"
      ],
      "metadata": {
        "execution": {
          "iopub.status.busy": "2023-03-11T05:16:16.472863Z",
          "iopub.execute_input": "2023-03-11T05:16:16.474153Z",
          "iopub.status.idle": "2023-03-11T05:16:16.485984Z",
          "shell.execute_reply.started": "2023-03-11T05:16:16.474082Z",
          "shell.execute_reply": "2023-03-11T05:16:16.483745Z"
        },
        "trusted": true,
        "id": "h8bxd-GTB7Nb",
        "outputId": "c2c0763f-c1b5-4f18-fbc1-b338d80ff122"
      },
      "execution_count": null,
      "outputs": [
        {
          "execution_count": 74,
          "output_type": "execute_result",
          "data": {
            "text/plain": "array([0.        , 0.67277487, 0.        ])"
          },
          "metadata": {}
        }
      ]
    },
    {
      "cell_type": "code",
      "source": [
        "recall"
      ],
      "metadata": {
        "execution": {
          "iopub.status.busy": "2023-03-11T05:16:18.695713Z",
          "iopub.execute_input": "2023-03-11T05:16:18.697074Z",
          "iopub.status.idle": "2023-03-11T05:16:18.707812Z",
          "shell.execute_reply.started": "2023-03-11T05:16:18.697007Z",
          "shell.execute_reply": "2023-03-11T05:16:18.705645Z"
        },
        "trusted": true,
        "id": "lGIHBoFqB7Nc",
        "outputId": "9243098c-26f0-43c5-b6ce-fad424961919"
      },
      "execution_count": null,
      "outputs": [
        {
          "execution_count": 75,
          "output_type": "execute_result",
          "data": {
            "text/plain": "array([0.        , 0.99612403, 0.        ])"
          },
          "metadata": {}
        }
      ]
    },
    {
      "cell_type": "code",
      "source": [
        "fscore"
      ],
      "metadata": {
        "execution": {
          "iopub.status.busy": "2023-03-11T05:16:20.794355Z",
          "iopub.execute_input": "2023-03-11T05:16:20.794855Z",
          "iopub.status.idle": "2023-03-11T05:16:20.805704Z",
          "shell.execute_reply.started": "2023-03-11T05:16:20.794807Z",
          "shell.execute_reply": "2023-03-11T05:16:20.804012Z"
        },
        "trusted": true,
        "id": "BzBCrJwiB7Nc",
        "outputId": "b78937e8-b3c9-4e54-8558-5a033c33fb87"
      },
      "execution_count": null,
      "outputs": [
        {
          "execution_count": 76,
          "output_type": "execute_result",
          "data": {
            "text/plain": "array([0.      , 0.803125, 0.      ])"
          },
          "metadata": {}
        }
      ]
    },
    {
      "cell_type": "code",
      "source": [
        "support"
      ],
      "metadata": {
        "execution": {
          "iopub.status.busy": "2023-03-11T05:16:23.079758Z",
          "iopub.execute_input": "2023-03-11T05:16:23.080992Z",
          "iopub.status.idle": "2023-03-11T05:16:23.092840Z",
          "shell.execute_reply.started": "2023-03-11T05:16:23.080942Z",
          "shell.execute_reply": "2023-03-11T05:16:23.091273Z"
        },
        "trusted": true,
        "id": "JwrSNEteB7Nc",
        "outputId": "51fdd49c-7099-4343-ca5c-2c79801d4738"
      },
      "execution_count": null,
      "outputs": [
        {
          "execution_count": 77,
          "output_type": "execute_result",
          "data": {
            "text/plain": "array([ 93, 258,  33])"
          },
          "metadata": {}
        }
      ]
    },
    {
      "cell_type": "code",
      "source": [
        "# Loop for creating ensemble output\n",
        "# Loop for creating ensemble output\n",
        "numCount0 = 0\n",
        "numCount1 = 0\n",
        "numCount2 = 0\n",
        "TruePositiveRate1=[0.67741935, 0.3255814 , 0] \n",
        "TruePositiveRate2=[0.17204301, 0.74806202, 0] \n",
        "TruePositiveRate3=[0.22580645, 0.64341085, 0.12121212]\n",
        "TruePositiveRate4=[0.43010753, 0.62403101, 0] \n",
        "TruePositiveRate5=[0, 0.99612403, 0]        \n",
        "#List for ensemble model\n",
        "final_predictionF = []\n",
        "final_originalF = []\n",
        "for i in range(len(final_prediction1)):\n",
        "    #First model\n",
        "    l1 = final_prediction1[i]\n",
        "    l2 = final_original1[i]\n",
        "    #Second model\n",
        "    l21 = final_prediction2[i]\n",
        "    l22 = final_original2[i]\n",
        "    #Third model\n",
        "    l31 = final_prediction3[i]\n",
        "    l32 = final_original3[i]\n",
        "    #FOURTH model\n",
        "    l41 = final_prediction4[i]\n",
        "    l42 = final_original3[i]\n",
        "    #Fifth model\n",
        "    l51 = final_prediction5[i]\n",
        "    l52 = final_original3[i]\n",
        "    #Ensemble model\n",
        "    #lF = final_predictionF[i]\n",
        "    #lF = final_originalF[i]\n",
        "    # For Model 1\n",
        "    if (l1==0) or (l1==1) or (l1==2):\n",
        "        if(l1==0):\n",
        "            #numCount0=numCount0+TruePositiveRate1[0]+weights[0]*weights[0] #58\n",
        "            #numCount0=numCount0+TruePositiveRate1[0] #65 (0, 250, 0)\n",
        "            #numCount0=numCount0+weights[0]*weights[0] #50\n",
        "            #numCount0=numCount0+weights[0]*2 #29.9\n",
        "            if ((l21 !=0) and (l31!=0) and (l41!=0) and (l51!=0)):\n",
        "                #numCount0=numCount0+weights[0]*2\n",
        "                numCount0=numCount0+TruePositiveRate1[0]+weights[0]*2\n",
        "            else:\n",
        "                numCount0=numCount0+TruePositiveRate1[0]+weights[0]\n",
        "            \n",
        "        if(l1==1):\n",
        "            #numCount1=numCount1+TruePositiveRate1[1]+weights[1]\n",
        "            #numCount1=numCount1+TruePositiveRate1[1]\n",
        "            #numCount1=numCount1+weights[1]\n",
        "            if ((l21 !=1) and (l31!=1) and (l41!=1) and (l51!=1)):\n",
        "                #numCount1=numCount1+TruePositiveRate1[1]+weights[1]\n",
        "                #numCount1=numCount1+weights[1]*1\n",
        "                numCount1=numCount1+TruePositiveRate1[1]+weights[1]*1\n",
        "            else:\n",
        "                numCount1=numCount1+TruePositiveRate1[1]+weights[1]\n",
        "        if(l1==2):\n",
        "            #numCount2=numCount2+TruePositiveRate1[2]+weights[2]*weights[2]*weights[2]\n",
        "            #numCount2=numCount2+TruePositiveRate1[2]\n",
        "            #numCount2=numCount2+weights[2]*weights[2]*weights[2]\n",
        "            #numCount2=numCount2+weights[2]*3\n",
        "            if ((l21 !=2) and (l31!=2) and (l41!=2) and (l51!=2)):\n",
        "                #numCount2=numCount2+weights[2]*3\n",
        "                numCount2=numCount2+TruePositiveRate1[2]+weights[2]*3\n",
        "            else:\n",
        "                numCount2=numCount2+TruePositiveRate1[2]+weights[2]\n",
        "\n",
        "    # For Model 2    \n",
        "    if (l21==0) or (l21==1) or (l21==2):\n",
        "        if(l21==0):\n",
        "            #numCount0=numCount0+TruePositiveRate2[0]+weights[0]*weights[0]\n",
        "            #numCount0=numCount0+TruePositiveRate2[0]\n",
        "            #numCount0=numCount0+weights[0]*weights[0]\n",
        "            #numCount0=numCount0+weights[0]*2\n",
        "            if ((l1 !=0) and (l31!=0) and (l41!=0) and (l51!=0)):\n",
        "                #numCount0=numCount0+weights[0]*2\n",
        "                numCount0=numCount0+TruePositiveRate2[0]+weights[0]*2\n",
        "            else:\n",
        "                numCount0=numCount0+TruePositiveRate2[0]+weights[0]\n",
        "        if(l21==1):\n",
        "            #numCount1=numCount1+TruePositiveRate2[1]+weights[1]\n",
        "            #numCount1=numCount1+TruePositiveRate2[1]\n",
        "            #numCount1=numCount1+weights[1]\n",
        "            if ((l1 !=1) and (l31!=1) and (l41!=1) and (l51!=1)):\n",
        "                #numCount1=numCount1+weights[1]*1\n",
        "                numCount1=numCount1+TruePositiveRate2[1]+weights[1]*1\n",
        "            else:\n",
        "                numCount1=numCount1+TruePositiveRate2[1]+weights[1]\n",
        "        if(l21==2):\n",
        "            #numCount2=numCount2+TruePositiveRate2[2]+weights[2]*weights[2]*weights[2]    \n",
        "            #numCount2=numCount2+TruePositiveRate2[2]   \n",
        "            #numCount2=numCount2+weights[2]*weights[2]*weights[2]    \n",
        "            #numCount2=numCount2+weights[2]*3\n",
        "            if ((l1 !=2) and (l31!=2) and (l41!=2) and (l51!=2)):\n",
        "                #numCount2=numCount2+weights[2]*3\n",
        "                numCount2=numCount2+TruePositiveRate2[2]+weights[2]*3\n",
        "            else:\n",
        "                numCount2=numCount2+TruePositiveRate2[2]+weights[2]\n",
        "\n",
        "    # For Model 3\n",
        "    if (l31==0) or (l31==1) or (l31==2):\n",
        "        if(l31==0):\n",
        "            #numCount0=numCount0+TruePositiveRate3[0]+weights[0]*weights[0]\n",
        "            #numCount0=numCount0+TruePositiveRate3[0]\n",
        "            #numCount0=numCount0+weights[0]*weights[0]\n",
        "            #numCount0=numCount0+weights[0]*2\n",
        "            if ((l1 !=0) and (l21!=0) and (l41!=0) and (l51!=0)):\n",
        "                #numCount0=numCount0+weights[0]*2\n",
        "                numCount0=numCount0+TruePositiveRate3[0]+weights[0]*2\n",
        "            else:\n",
        "                numCount0=numCount0+TruePositiveRate3[0]+weights[0]\n",
        "        if(l31==1):\n",
        "            #numCount1=numCount1+TruePositiveRate3[1]+weights[1]\n",
        "            #numCount1=numCount1+TruePositiveRate3[1]\n",
        "            #numCount1=numCount1+weights[1]\n",
        "            if ((l1 !=1) and (l21!=1) and (l41!=1) and (l51!=1)):\n",
        "                #numCount1=numCount1+weights[1]*1\n",
        "                numCount1=numCount1+TruePositiveRate3[1]+weights[1]*1\n",
        "            else:\n",
        "                numCount1=numCount1+TruePositiveRate3[1]+weights[1]\n",
        "        if(l31==2):\n",
        "            #numCount2=numCount2+TruePositiveRate3[2]+weights[2]*weights[2]*weights[2]    \n",
        "            #numCount2=numCount2+TruePositiveRate3[2]    \n",
        "            #numCount2=numCount2+weights[2]*weights[2]*weights[2]    \n",
        "            #numCount2=numCount2+weights[2]*3\n",
        "            if ((l1 !=2) and (l21!=2) and (l41!=2) and (l51!=2)):\n",
        "                #numCount2=numCount2+weights[2]*3\n",
        "                numCount2=numCount2+TruePositiveRate3[2]+weights[2]*3\n",
        "            else:\n",
        "                numCount2=numCount2+TruePositiveRate3[2]+weights[2]\n",
        "    # For Model 4\n",
        "    if (l41==0) or (l41==1) or (l41==2):\n",
        "        if(l41==0):\n",
        "            #numCount0=numCount0+TruePositiveRate4[0]+weights[0]*weights[0]\n",
        "            #numCount0=numCount0+TruePositiveRate4[0]\n",
        "            #numCount0=numCount0+weights[0]*weights[0]\n",
        "            #numCount0=numCount0+weights[0]*2\n",
        "            if ((l1 !=0) and (l21!=0) and (l31!=0) and (l51!=0)):\n",
        "                #numCount0=numCount0+weights[0]*2\n",
        "                numCount0=numCount0+TruePositiveRate4[0]+weights[0]*2\n",
        "            else:\n",
        "                numCount0=numCount0+TruePositiveRate4[0]+weights[0]\n",
        "        if(l41==1):\n",
        "            #numCount1=numCount1+TruePositiveRate4[1]+weights[1]\n",
        "            #numCount1=numCount1+TruePositiveRate4[1]\n",
        "            #numCount1=numCount1+weights[1]\n",
        "            if ((l1 !=1) and (l21!=1) and (l31!=1) and (l51!=1)):\n",
        "                #numCount1=numCount1+weights[1]*1\n",
        "                numCount1=numCount1+TruePositiveRate4[1]+weights[1]*1\n",
        "            else:\n",
        "                numCount1=numCount1+TruePositiveRate4[1]+weights[1]\n",
        "        if(l41==2):\n",
        "            #numCount2=numCount2+TruePositiveRate4[2]+weights[2]*weights[2]*weights[2]\n",
        "            #numCount2=numCount2+TruePositiveRate4[2]\n",
        "            #numCount2=numCount2+weights[2]*weights[2]*weights[2]\n",
        "            #numCount2=numCount2+weights[2]*3\n",
        "            if ((l1 !=2) and (l21!=2) and (l31!=2) and (l51!=2)):\n",
        "                #numCount2=numCount2+weights[2]*3\n",
        "                numCount2=numCount2+TruePositiveRate4[2]+weights[2]*3\n",
        "            else:\n",
        "                numCount2=numCount2+TruePositiveRate4[2]+weights[2]\n",
        "    # For Model 5\n",
        "    if (l51==0) or (l51==1) or (l51==2):\n",
        "        if(l51==0):\n",
        "            #numCount0=numCount0+TruePositiveRate5[0]+weights[0]*weights[0]\n",
        "            #numCount0=numCount0+weights[0]*weights[0]\n",
        "            #numCount0=numCount0+TruePositiveRate5[0]\n",
        "            #numCount0=numCount0+weights[0]*2\n",
        "            if ((l1 !=0) and (l21!=0) and (l31!=0) and (l41!=0)):\n",
        "                #numCount0=numCount0+weights[0]*2\n",
        "                numCount0=numCount0+TruePositiveRate5[0]+weights[0]*2\n",
        "            else:\n",
        "                numCount0=numCount0+TruePositiveRate5[0]+weights[0]\n",
        "        if(l51==1):\n",
        "            #numCount1=numCount1+TruePositiveRate5[1]+weights[1]\n",
        "            #numCount1=numCount1+TruePositiveRate5[1]\n",
        "            #numCount1=numCount1+weights[1]\n",
        "            if ((l1 !=1) and (l21!=1) and (l31!=1) and (l41!=1)):\n",
        "                #numCount1=numCount1+weights[1]*1\n",
        "                numCount1=numCount1+TruePositiveRate5[1]+weights[1]*1\n",
        "            else:\n",
        "                numCount1=numCount1+TruePositiveRate5[1]+weights[1]\n",
        "        if(l51==2):\n",
        "            #numCount2=numCount2+TruePositiveRate5[2]+weights[2]*weights[2]*weights[2]\n",
        "            #numCount2=numCount2+TruePositiveRate5[2]\n",
        "            #numCount2=numCount2+weights[2]*weights[2]*weights[2]\n",
        "            #numCount2=numCount2+weights[2]*3\n",
        "            if ((l1 !=2) and (l21!=2) and (l31!=2) and (l41!=2)):\n",
        "                #numCount2=numCount2+weights[2]*3\n",
        "                numCount2=numCount2+TruePositiveRate5[2]+weights[2]*3\n",
        "            else:\n",
        "                numCount2=numCount2+TruePositiveRate5[2]+weights[2]\n",
        "    if ((numCount0 > numCount1) and (numCount0 > numCount2)):\n",
        "        final_predictionF.append(0)\n",
        "    if ((numCount1 > numCount2) and (numCount1 > numCount0)):\n",
        "        final_predictionF.append(1)\n",
        "    if ((numCount2 > numCount1) and (numCount2 > numCount0)):\n",
        "        final_predictionF.append(2)\n",
        "    # SET To Default all the counters\n",
        "    \n",
        "    #print(\"numCount0->\",numCount0)\n",
        "    #print(\"numCount1->\",numCount1)\n",
        "    #print(\"numCount2->\",numCount2)\n",
        "\n",
        "    numCount0 = 0\n",
        "    numCount1 = 0\n",
        "    numCount2 = 0\n",
        "    #j = j+1"
      ],
      "metadata": {
        "execution": {
          "iopub.status.busy": "2023-03-11T05:19:55.011551Z",
          "iopub.execute_input": "2023-03-11T05:19:55.013178Z",
          "iopub.status.idle": "2023-03-11T05:19:55.102605Z",
          "shell.execute_reply.started": "2023-03-11T05:19:55.013113Z",
          "shell.execute_reply": "2023-03-11T05:19:55.101041Z"
        },
        "trusted": true,
        "id": "9KuHge5aB7Nc"
      },
      "execution_count": null,
      "outputs": []
    },
    {
      "cell_type": "code",
      "source": [
        "print(\"***********Confusion Matrix by Ensemble MODEL  over Test Set**********************\")\n",
        "mat6 = sklearn.metrics.confusion_matrix(final_original3,final_predictionF)\n",
        "mat6"
      ],
      "metadata": {
        "execution": {
          "iopub.status.busy": "2023-03-11T05:20:01.701124Z",
          "iopub.execute_input": "2023-03-11T05:20:01.701619Z",
          "iopub.status.idle": "2023-03-11T05:20:01.716006Z",
          "shell.execute_reply.started": "2023-03-11T05:20:01.701578Z",
          "shell.execute_reply": "2023-03-11T05:20:01.714276Z"
        },
        "trusted": true,
        "id": "DrG2hwDNB7Ne",
        "outputId": "fc5f1cf2-7898-41a3-8006-57f65f043645"
      },
      "execution_count": null,
      "outputs": [
        {
          "name": "stdout",
          "text": "***********Confusion Matrix by Ensemble MODEL  over Test Set**********************\n",
          "output_type": "stream"
        },
        {
          "execution_count": 79,
          "output_type": "execute_result",
          "data": {
            "text/plain": "array([[ 16,  76,   1],\n       [ 49, 203,   6],\n       [  6,  26,   1]])"
          },
          "metadata": {}
        }
      ]
    },
    {
      "cell_type": "code",
      "source": [
        "sklearn.metrics.accuracy_score(final_original3,final_predictionF)"
      ],
      "metadata": {
        "execution": {
          "iopub.status.busy": "2023-03-11T05:20:12.194498Z",
          "iopub.execute_input": "2023-03-11T05:20:12.195010Z",
          "iopub.status.idle": "2023-03-11T05:20:12.206674Z",
          "shell.execute_reply.started": "2023-03-11T05:20:12.194969Z",
          "shell.execute_reply": "2023-03-11T05:20:12.204895Z"
        },
        "trusted": true,
        "id": "nNn6E3IEB7Ne",
        "outputId": "225b37ae-9458-4d00-da9e-5e3fababe858"
      },
      "execution_count": null,
      "outputs": [
        {
          "execution_count": 81,
          "output_type": "execute_result",
          "data": {
            "text/plain": "0.5729166666666666"
          },
          "metadata": {}
        }
      ]
    },
    {
      "cell_type": "code",
      "source": [
        "import matplotlib.pyplot as plt\n",
        "import seaborn as sns\n",
        "df_cm4 = pd.DataFrame(mat6, range(3), range(3))\n",
        "\n",
        "sns.heatmap(df_cm4, annot=True) \n",
        "plt.show()"
      ],
      "metadata": {
        "execution": {
          "iopub.status.busy": "2023-03-11T05:20:23.955597Z",
          "iopub.execute_input": "2023-03-11T05:20:23.956802Z",
          "iopub.status.idle": "2023-03-11T05:20:24.311313Z",
          "shell.execute_reply.started": "2023-03-11T05:20:23.956684Z",
          "shell.execute_reply": "2023-03-11T05:20:24.309843Z"
        },
        "trusted": true,
        "id": "jbj5BJWwB7Ne",
        "outputId": "95b210c6-b0bf-49b0-c3e0-32635200c9f9"
      },
      "execution_count": null,
      "outputs": [
        {
          "output_type": "display_data",
          "data": {
            "text/plain": "<Figure size 640x480 with 2 Axes>",
            "image/png": "[encoded data removed]"
          },
          "metadata": {}
        }
      ]
    },
    {
      "cell_type": "code",
      "source": [
        "from sklearn.metrics import precision_recall_fscore_support"
      ],
      "metadata": {
        "execution": {
          "iopub.status.busy": "2023-03-11T05:20:27.673362Z",
          "iopub.execute_input": "2023-03-11T05:20:27.673851Z",
          "iopub.status.idle": "2023-03-11T05:20:27.680727Z",
          "shell.execute_reply.started": "2023-03-11T05:20:27.673796Z",
          "shell.execute_reply": "2023-03-11T05:20:27.679128Z"
        },
        "trusted": true,
        "id": "AK1tAcY4B7Nf"
      },
      "execution_count": null,
      "outputs": []
    },
    {
      "cell_type": "code",
      "source": [
        "precision,recall,fscore,support = precision_recall_fscore_support(final_original3,final_predictionF,labels=[0,1,2])"
      ],
      "metadata": {
        "execution": {
          "iopub.status.busy": "2023-03-11T05:20:33.744796Z",
          "iopub.execute_input": "2023-03-11T05:20:33.746320Z",
          "iopub.status.idle": "2023-03-11T05:20:33.756819Z",
          "shell.execute_reply.started": "2023-03-11T05:20:33.746249Z",
          "shell.execute_reply": "2023-03-11T05:20:33.755092Z"
        },
        "trusted": true,
        "id": "tYmoDBkSB7Nf"
      },
      "execution_count": null,
      "outputs": []
    },
    {
      "cell_type": "code",
      "source": [
        "precision"
      ],
      "metadata": {
        "execution": {
          "iopub.status.busy": "2023-03-11T05:20:35.938634Z",
          "iopub.execute_input": "2023-03-11T05:20:35.939914Z",
          "iopub.status.idle": "2023-03-11T05:20:35.950450Z",
          "shell.execute_reply.started": "2023-03-11T05:20:35.939841Z",
          "shell.execute_reply": "2023-03-11T05:20:35.948245Z"
        },
        "trusted": true,
        "id": "DzOEoagQB7Nf",
        "outputId": "3cfdf0e0-bdb5-48aa-f8af-5a23f61116ca"
      },
      "execution_count": null,
      "outputs": [
        {
          "execution_count": 87,
          "output_type": "execute_result",
          "data": {
            "text/plain": "array([0.22535211, 0.66557377, 0.125     ])"
          },
          "metadata": {}
        }
      ]
    },
    {
      "cell_type": "code",
      "source": [
        "recall"
      ],
      "metadata": {
        "execution": {
          "iopub.status.busy": "2023-03-11T05:20:49.251844Z",
          "iopub.execute_input": "2023-03-11T05:20:49.253032Z",
          "iopub.status.idle": "2023-03-11T05:20:49.263820Z",
          "shell.execute_reply.started": "2023-03-11T05:20:49.252982Z",
          "shell.execute_reply": "2023-03-11T05:20:49.261115Z"
        },
        "trusted": true,
        "id": "8Wahnp-dB7Ng",
        "outputId": "902dc09f-99a5-4879-fc68-c60bf4c1c4ef"
      },
      "execution_count": null,
      "outputs": [
        {
          "execution_count": 91,
          "output_type": "execute_result",
          "data": {
            "text/plain": "array([0.17204301, 0.78682171, 0.03030303])"
          },
          "metadata": {}
        }
      ]
    },
    {
      "cell_type": "code",
      "source": [
        "fscore"
      ],
      "metadata": {
        "execution": {
          "iopub.status.busy": "2023-03-11T05:20:51.356426Z",
          "iopub.execute_input": "2023-03-11T05:20:51.356938Z",
          "iopub.status.idle": "2023-03-11T05:20:51.366631Z",
          "shell.execute_reply.started": "2023-03-11T05:20:51.356887Z",
          "shell.execute_reply": "2023-03-11T05:20:51.364911Z"
        },
        "trusted": true,
        "id": "SWR8WGdSB7Ng",
        "outputId": "f15a9972-1bb5-417b-e3dd-c35c7eeba8c0"
      },
      "execution_count": null,
      "outputs": [
        {
          "execution_count": 92,
          "output_type": "execute_result",
          "data": {
            "text/plain": "array([0.19512195, 0.72113677, 0.04878049])"
          },
          "metadata": {}
        }
      ]
    },
    {
      "cell_type": "code",
      "source": [
        "support"
      ],
      "metadata": {
        "execution": {
          "iopub.status.busy": "2023-03-11T05:20:53.347898Z",
          "iopub.execute_input": "2023-03-11T05:20:53.349009Z",
          "iopub.status.idle": "2023-03-11T05:20:53.357802Z",
          "shell.execute_reply.started": "2023-03-11T05:20:53.348959Z",
          "shell.execute_reply": "2023-03-11T05:20:53.356134Z"
        },
        "trusted": true,
        "id": "Pn86mnNWB7Nh",
        "outputId": "6d9797eb-b9c7-450c-dd34-ad41c89a38bb"
      },
      "execution_count": null,
      "outputs": [
        {
          "execution_count": 93,
          "output_type": "execute_result",
          "data": {
            "text/plain": "array([ 93, 258,  33])"
          },
          "metadata": {}
        }
      ]
    }
  ]
}